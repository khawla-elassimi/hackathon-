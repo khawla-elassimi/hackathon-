{
 "cells": [
  {
   "cell_type": "code",
   "execution_count": null,
   "id": "11615171",
   "metadata": {},
   "outputs": [
    {
     "name": "stdout",
     "output_type": "stream",
     "text": [
      "\n",
      "===== RÉSULTATS =====\n",
      "\n",
      "Statut de résolution: Infeasible\n",
      "Coût total optimal = 34096.49\n",
      "\n",
      "\n",
      "👷 PLANNING DES TECHNICIENS (TEXTE) :\n",
      "\n",
      "Technicien: Technicien A | Jour:  1 | Maintenance: Graissage       | Composant: Moteur principal\n",
      "Technicien: Technicien A | Jour:  1 | Maintenance: Graissage       | Composant: Circuit de refroidissement\n",
      "Technicien: Technicien A | Jour:  1 | Maintenance: Contrôle        | Composant: Circuit de freinage\n",
      "Technicien: Technicien A | Jour:  1 | Maintenance: Vidange         | Composant: Circuit de freinage\n",
      "Technicien: Technicien A | Jour:  1 | Maintenance: Lubrification   | Composant: Régime moteur\n",
      "Technicien: Technicien A | Jour:  2 | Maintenance: Vidange         | Composant: Pompe hydraulique\n",
      "Technicien: Technicien A | Jour:  2 | Maintenance: Vidange         | Composant: PTO avant\n",
      "Technicien: Technicien A | Jour:  2 | Maintenance: Lubrification   | Composant: Circuit de freinage\n",
      "Technicien: Technicien A | Jour:  2 | Maintenance: Inspection      | Composant: Circuit de freinage\n",
      "Technicien: Technicien A | Jour:  2 | Maintenance: Contrôle        | Composant: Régime moteur\n",
      "Technicien: Technicien A | Jour:  3 | Maintenance: Contrôle        | Composant: Lubrification moteur\n",
      "Technicien: Technicien A | Jour:  3 | Maintenance: Vidange         | Composant: Lubrification moteur\n",
      "Technicien: Technicien A | Jour:  3 | Maintenance: Graissage       | Composant: Lubrification moteur\n",
      "Technicien: Technicien A | Jour:  3 | Maintenance: Contrôle        | Composant: Direction hydraulique\n",
      "Technicien: Technicien A | Jour:  3 | Maintenance: Vidange         | Composant: Direction hydraulique\n",
      "Technicien: Technicien A | Jour:  3 | Maintenance: Graissage       | Composant: Direction hydraulique\n",
      "Technicien: Technicien A | Jour:  3 | Maintenance: Vidange         | Composant: Régime moteur\n",
      "Technicien: Technicien A | Jour:  4 | Maintenance: Vidange         | Composant: Circuit de refroidissement\n",
      "Technicien: Technicien A | Jour:  4 | Maintenance: Graissage       | Composant: Circuit de refroidissement\n",
      "Technicien: Technicien A | Jour:  4 | Maintenance: Lubrification   | Composant: Circuit de refroidissement\n",
      "Technicien: Technicien A | Jour:  4 | Maintenance: Contrôle        | Composant: Circuit de freinage\n",
      "Technicien: Technicien A | Jour:  4 | Maintenance: Vidange         | Composant: Circuit de freinage\n",
      "Technicien: Technicien A | Jour:  4 | Maintenance: Graissage       | Composant: Essieux avant\n",
      "Technicien: Technicien A | Jour:  5 | Maintenance: Graissage       | Composant: Pompe hydraulique\n",
      "Technicien: Technicien A | Jour:  5 | Maintenance: Contrôle        | Composant: Transmission\n",
      "Technicien: Technicien A | Jour:  5 | Maintenance: Contrôle        | Composant: PTO avant\n",
      "Technicien: Technicien A | Jour:  5 | Maintenance: Vidange         | Composant: PTO avant\n",
      "Technicien: Technicien A | Jour:  5 | Maintenance: Graissage       | Composant: Régime moteur\n",
      "Technicien: Technicien A | Jour:  5 | Maintenance: Vidange         | Composant: Essieux avant\n",
      "Technicien: Technicien A | Jour:  6 | Maintenance: Inspection      | Composant: Moteur principal\n",
      "Technicien: Technicien A | Jour:  6 | Maintenance: Révision        | Composant: Circuit de freinage\n",
      "Technicien: Technicien A | Jour:  6 | Maintenance: Graissage       | Composant: Circuit de freinage\n",
      "Technicien: Technicien A | Jour:  6 | Maintenance: Inspection      | Composant: Direction hydraulique\n",
      "Technicien: Technicien A | Jour:  6 | Maintenance: Vidange         | Composant: Régime moteur\n",
      "Technicien: Technicien A | Jour:  7 | Maintenance: Contrôle        | Composant: Moteur principal\n",
      "Technicien: Technicien A | Jour:  7 | Maintenance: Vidange         | Composant: Moteur principal\n",
      "Technicien: Technicien A | Jour:  7 | Maintenance: Contrôle        | Composant: Circuit de freinage\n",
      "Technicien: Technicien A | Jour:  7 | Maintenance: Vidange         | Composant: Circuit de freinage\n",
      "Technicien: Technicien A | Jour:  7 | Maintenance: Graissage       | Composant: Direction hydraulique\n",
      "Technicien: Technicien A | Jour:  7 | Maintenance: Graissage       | Composant: Essieux avant\n",
      "Technicien: Technicien A | Jour:  8 | Maintenance: Graissage       | Composant: Moteur principal\n",
      "Technicien: Technicien A | Jour:  8 | Maintenance: Contrôle        | Composant: Circuit de refroidissement\n",
      "Technicien: Technicien A | Jour:  8 | Maintenance: Graissage       | Composant: Circuit de refroidissement\n",
      "Technicien: Technicien A | Jour:  8 | Maintenance: Lubrification   | Composant: Circuit de freinage\n",
      "Technicien: Technicien A | Jour:  8 | Maintenance: Contrôle        | Composant: Régime moteur\n",
      "Technicien: Technicien A | Jour:  9 | Maintenance: Vidange         | Composant: Transmission\n",
      "Technicien: Technicien A | Jour:  9 | Maintenance: Vidange         | Composant: PTO avant\n",
      "Technicien: Technicien A | Jour:  9 | Maintenance: Graissage       | Composant: PTO avant\n",
      "Technicien: Technicien A | Jour:  9 | Maintenance: Vidange         | Composant: Régime moteur\n",
      "Technicien: Technicien A | Jour:  9 | Maintenance: Graissage       | Composant: Régime moteur\n",
      "Technicien: Technicien A | Jour:  9 | Maintenance: Contrôle        | Composant: Essieux avant\n",
      "Technicien: Technicien A | Jour:  9 | Maintenance: Vidange         | Composant: Essieux avant\n",
      "Technicien: Technicien A | Jour: 10 | Maintenance: Lubrification   | Composant: Moteur principal\n",
      "Technicien: Technicien A | Jour: 10 | Maintenance: Lubrification   | Composant: Circuit de refroidissement\n",
      "Technicien: Technicien A | Jour: 10 | Maintenance: Contrôle        | Composant: Circuit de freinage\n",
      "Technicien: Technicien A | Jour: 10 | Maintenance: Graissage       | Composant: Direction hydraulique\n",
      "Technicien: Technicien A | Jour: 11 | Maintenance: Vidange         | Composant: Moteur principal\n",
      "Technicien: Technicien A | Jour: 11 | Maintenance: Graissage       | Composant: Moteur principal\n",
      "Technicien: Technicien A | Jour: 11 | Maintenance: Vidange         | Composant: Circuit de refroidissement\n",
      "Technicien: Technicien A | Jour: 11 | Maintenance: Inspection      | Composant: Circuit de freinage\n",
      "Technicien: Technicien A | Jour: 11 | Maintenance: Contrôle        | Composant: Régime moteur\n",
      "Technicien: Technicien B | Jour:  1 | Maintenance: Révision        | Composant: Régime moteur\n",
      "Technicien: Technicien B | Jour:  1 | Maintenance: Inspection      | Composant: Essieux avant\n",
      "Technicien: Technicien B | Jour:  2 | Maintenance: Inspection      | Composant: Transmission\n",
      "Technicien: Technicien B | Jour:  3 | Maintenance: Lubrification   | Composant: Lubrification moteur\n",
      "Technicien: Technicien B | Jour:  3 | Maintenance: Lubrification   | Composant: Direction hydraulique\n",
      "Technicien: Technicien B | Jour:  3 | Maintenance: Inspection      | Composant: Direction hydraulique\n",
      "Technicien: Technicien B | Jour:  4 | Maintenance: Lubrification   | Composant: Régime moteur\n",
      "Technicien: Technicien B | Jour:  4 | Maintenance: Inspection      | Composant: Essieux avant\n",
      "Technicien: Technicien B | Jour:  5 | Maintenance: Lubrification   | Composant: Transmission\n",
      "Technicien: Technicien B | Jour:  5 | Maintenance: Inspection      | Composant: Transmission\n",
      "Technicien: Technicien B | Jour:  5 | Maintenance: Lubrification   | Composant: PTO avant\n",
      "Technicien: Technicien B | Jour:  5 | Maintenance: Inspection      | Composant: Circuit de freinage\n",
      "Technicien: Technicien B | Jour:  6 | Maintenance: Remplacement    | Composant: Circuit de freinage\n",
      "Technicien: Technicien B | Jour:  6 | Maintenance: Remplacement    | Composant: Régime moteur\n",
      "Technicien: Technicien B | Jour:  7 | Maintenance: Révision        | Composant: Moteur principal\n",
      "Technicien: Technicien B | Jour:  7 | Maintenance: Lubrification   | Composant: Circuit de refroidissement\n",
      "Technicien: Technicien B | Jour:  7 | Maintenance: Lubrification   | Composant: Lubrification moteur\n",
      "Technicien: Technicien B | Jour:  7 | Maintenance: Inspection      | Composant: PTO avant\n",
      "Technicien: Technicien B | Jour:  8 | Maintenance: Inspection      | Composant: Lubrification moteur\n",
      "Technicien: Technicien B | Jour:  8 | Maintenance: Inspection      | Composant: Circuit de freinage\n",
      "Technicien: Technicien B | Jour:  8 | Maintenance: Révision        | Composant: Régime moteur\n",
      "Technicien: Technicien B | Jour:  9 | Maintenance: Contrôle        | Composant: PTO avant\n",
      "Technicien: Technicien B | Jour:  9 | Maintenance: Inspection      | Composant: Direction hydraulique\n",
      "Technicien: Technicien B | Jour:  9 | Maintenance: Lubrification   | Composant: Régime moteur\n",
      "Technicien: Technicien B | Jour:  9 | Maintenance: Lubrification   | Composant: Essieux avant\n",
      "Technicien: Technicien B | Jour: 10 | Maintenance: Inspection      | Composant: PTO avant\n",
      "Technicien: Technicien B | Jour: 10 | Maintenance: Remplacement    | Composant: Régime moteur\n",
      "Technicien: Technicien B | Jour: 10 | Maintenance: Inspection      | Composant: Essieux avant\n",
      "Technicien: Technicien B | Jour: 11 | Maintenance: Inspection      | Composant: Lubrification moteur\n",
      "Technicien: Technicien B | Jour: 11 | Maintenance: Révision        | Composant: Régime moteur\n",
      "Technicien: Technicien C | Jour:  1 | Maintenance: Amélioration    | Composant: Régime moteur\n",
      "Technicien: Technicien C | Jour:  2 | Maintenance: Amélioration    | Composant: Moteur principal\n",
      "Technicien: Technicien C | Jour:  2 | Maintenance: Amélioration    | Composant: Pompe hydraulique\n",
      "Technicien: Technicien C | Jour:  3 | Maintenance: Révision        | Composant: Lubrification moteur\n",
      "Technicien: Technicien C | Jour:  3 | Maintenance: Amélioration    | Composant: Lubrification moteur\n",
      "Technicien: Technicien C | Jour:  3 | Maintenance: Inspection      | Composant: Lubrification moteur\n",
      "Technicien: Technicien C | Jour:  3 | Maintenance: Révision        | Composant: Direction hydraulique\n",
      "Technicien: Technicien C | Jour:  4 | Maintenance: Amélioration    | Composant: Régime moteur\n",
      "Technicien: Technicien C | Jour:  4 | Maintenance: Amélioration    | Composant: Essieux avant\n",
      "Technicien: Technicien C | Jour:  5 | Maintenance: Amélioration    | Composant: Transmission\n",
      "Technicien: Technicien C | Jour:  5 | Maintenance: Révision        | Composant: PTO avant\n",
      "Technicien: Technicien C | Jour:  5 | Maintenance: Amélioration    | Composant: PTO avant\n",
      "Technicien: Technicien C | Jour:  5 | Maintenance: Révision        | Composant: Essieux avant\n",
      "Technicien: Technicien C | Jour:  6 | Maintenance: Amélioration    | Composant: Lubrification moteur\n",
      "Technicien: Technicien C | Jour:  7 | Maintenance: Amélioration    | Composant: Moteur principal\n",
      "Technicien: Technicien C | Jour:  7 | Maintenance: Inspection      | Composant: Essieux avant\n",
      "Technicien: Technicien C | Jour:  8 | Maintenance: Amélioration    | Composant: Pompe hydraulique\n",
      "Technicien: Technicien C | Jour:  8 | Maintenance: Amélioration    | Composant: Régime moteur\n",
      "Technicien: Technicien C | Jour:  9 | Maintenance: Inspection      | Composant: Moteur principal\n",
      "Technicien: Technicien C | Jour:  9 | Maintenance: Amélioration    | Composant: PTO avant\n",
      "Technicien: Technicien C | Jour: 10 | Maintenance: Amélioration    | Composant: Lubrification moteur\n",
      "Technicien: Technicien C | Jour: 11 | Maintenance: Amélioration    | Composant: Transmission\n",
      "Technicien: Technicien C | Jour: 11 | Maintenance: Amélioration    | Composant: Régime moteur\n"
     ]
    },
    {
     "data": {
      "application/vnd.plotly.v1+json": {
       "config": {
        "plotlyServerURL": "https://plot.ly"
       },
       "data": [
        {
         "base": [
          "2025-04-07T00:00:00.000000000",
          "2025-04-03T00:00:00.000000000",
          "2025-04-05T00:00:00.000000000",
          "2025-04-06T00:00:00.000000000",
          "2025-04-03T00:00:00.000000000",
          "2025-04-01T00:00:00.000000000",
          "2025-04-08T00:00:00.000000000",
          "2025-04-11T00:00:00.000000000",
          "2025-04-05T00:00:00.000000000"
         ],
         "customdata": [
          [
           "Révision",
           "Technicien B"
          ],
          [
           "Révision",
           "Technicien C"
          ],
          [
           "Révision",
           "Technicien C"
          ],
          [
           "Révision",
           "Technicien A"
          ],
          [
           "Révision",
           "Technicien C"
          ],
          [
           "Révision",
           "Technicien B"
          ],
          [
           "Révision",
           "Technicien B"
          ],
          [
           "Révision",
           "Technicien B"
          ],
          [
           "Révision",
           "Technicien C"
          ]
         ],
         "hovertemplate": "Maintenance=%{customdata[0]}<br>Start=%{base}<br>Finish=%{x}<br>Composant=%{y}<br>Technicien=%{customdata[1]}<extra></extra>",
         "insidetextanchor": "middle",
         "legendgroup": "Révision",
         "marker": {
          "color": "#636efa",
          "pattern": {
           "shape": ""
          }
         },
         "name": "Révision",
         "orientation": "h",
         "showlegend": true,
         "text": [
          "Technicien B",
          "Technicien C",
          "Technicien C",
          "Technicien A",
          "Technicien C",
          "Technicien B",
          "Technicien B",
          "Technicien B",
          "Technicien C"
         ],
         "textposition": "inside",
         "type": "bar",
         "x": {
          "bdata": "AFwmBQBcJgUAXCYFAFwmBQBcJgUAXCYFAFwmBQBcJgUAXCYF",
          "dtype": "i4"
         },
         "xaxis": "x",
         "y": [
          "Moteur principal",
          "Lubrification moteur",
          "PTO avant",
          "Circuit de freinage",
          "Direction hydraulique",
          "Régime moteur",
          "Régime moteur",
          "Régime moteur",
          "Essieux avant"
         ],
         "yaxis": "y"
        },
        {
         "base": [
          "2025-04-07T00:00:00.000000000",
          "2025-04-05T00:00:00.000000000",
          "2025-04-08T00:00:00.000000000",
          "2025-04-03T00:00:00.000000000",
          "2025-04-05T00:00:00.000000000",
          "2025-04-09T00:00:00.000000000",
          "2025-04-01T00:00:00.000000000",
          "2025-04-04T00:00:00.000000000",
          "2025-04-07T00:00:00.000000000",
          "2025-04-10T00:00:00.000000000",
          "2025-04-03T00:00:00.000000000",
          "2025-04-02T00:00:00.000000000",
          "2025-04-08T00:00:00.000000000",
          "2025-04-11T00:00:00.000000000",
          "2025-04-09T00:00:00.000000000"
         ],
         "customdata": [
          [
           "Contrôle",
           "Technicien A"
          ],
          [
           "Contrôle",
           "Technicien A"
          ],
          [
           "Contrôle",
           "Technicien A"
          ],
          [
           "Contrôle",
           "Technicien A"
          ],
          [
           "Contrôle",
           "Technicien A"
          ],
          [
           "Contrôle",
           "Technicien B"
          ],
          [
           "Contrôle",
           "Technicien A"
          ],
          [
           "Contrôle",
           "Technicien A"
          ],
          [
           "Contrôle",
           "Technicien A"
          ],
          [
           "Contrôle",
           "Technicien A"
          ],
          [
           "Contrôle",
           "Technicien A"
          ],
          [
           "Contrôle",
           "Technicien A"
          ],
          [
           "Contrôle",
           "Technicien A"
          ],
          [
           "Contrôle",
           "Technicien A"
          ],
          [
           "Contrôle",
           "Technicien A"
          ]
         ],
         "hovertemplate": "Maintenance=%{customdata[0]}<br>Start=%{base}<br>Finish=%{x}<br>Composant=%{y}<br>Technicien=%{customdata[1]}<extra></extra>",
         "insidetextanchor": "middle",
         "legendgroup": "Contrôle",
         "marker": {
          "color": "#EF553B",
          "pattern": {
           "shape": ""
          }
         },
         "name": "Contrôle",
         "orientation": "h",
         "showlegend": true,
         "text": [
          "Technicien A",
          "Technicien A",
          "Technicien A",
          "Technicien A",
          "Technicien A",
          "Technicien B",
          "Technicien A",
          "Technicien A",
          "Technicien A",
          "Technicien A",
          "Technicien A",
          "Technicien A",
          "Technicien A",
          "Technicien A",
          "Technicien A"
         ],
         "textposition": "inside",
         "type": "bar",
         "x": {
          "bdata": "AFwmBQBcJgUAXCYFAFwmBQBcJgUAXCYFAFwmBQBcJgUAXCYFAFwmBQBcJgUAXCYFAFwmBQBcJgUAXCYF",
          "dtype": "i4"
         },
         "xaxis": "x",
         "y": [
          "Moteur principal",
          "Transmission",
          "Circuit de refroidissement",
          "Lubrification moteur",
          "PTO avant",
          "PTO avant",
          "Circuit de freinage",
          "Circuit de freinage",
          "Circuit de freinage",
          "Circuit de freinage",
          "Direction hydraulique",
          "Régime moteur",
          "Régime moteur",
          "Régime moteur",
          "Essieux avant"
         ],
         "yaxis": "y"
        },
        {
         "base": [
          "2025-04-07T00:00:00.000000000",
          "2025-04-11T00:00:00.000000000",
          "2025-04-02T00:00:00.000000000",
          "2025-04-09T00:00:00.000000000",
          "2025-04-04T00:00:00.000000000",
          "2025-04-11T00:00:00.000000000",
          "2025-04-03T00:00:00.000000000",
          "2025-04-02T00:00:00.000000000",
          "2025-04-05T00:00:00.000000000",
          "2025-04-09T00:00:00.000000000",
          "2025-04-01T00:00:00.000000000",
          "2025-04-04T00:00:00.000000000",
          "2025-04-07T00:00:00.000000000",
          "2025-04-03T00:00:00.000000000",
          "2025-04-03T00:00:00.000000000",
          "2025-04-06T00:00:00.000000000",
          "2025-04-09T00:00:00.000000000",
          "2025-04-05T00:00:00.000000000",
          "2025-04-09T00:00:00.000000000"
         ],
         "customdata": [
          [
           "Vidange",
           "Technicien A"
          ],
          [
           "Vidange",
           "Technicien A"
          ],
          [
           "Vidange",
           "Technicien A"
          ],
          [
           "Vidange",
           "Technicien A"
          ],
          [
           "Vidange",
           "Technicien A"
          ],
          [
           "Vidange",
           "Technicien A"
          ],
          [
           "Vidange",
           "Technicien A"
          ],
          [
           "Vidange",
           "Technicien A"
          ],
          [
           "Vidange",
           "Technicien A"
          ],
          [
           "Vidange",
           "Technicien A"
          ],
          [
           "Vidange",
           "Technicien A"
          ],
          [
           "Vidange",
           "Technicien A"
          ],
          [
           "Vidange",
           "Technicien A"
          ],
          [
           "Vidange",
           "Technicien A"
          ],
          [
           "Vidange",
           "Technicien A"
          ],
          [
           "Vidange",
           "Technicien A"
          ],
          [
           "Vidange",
           "Technicien A"
          ],
          [
           "Vidange",
           "Technicien A"
          ],
          [
           "Vidange",
           "Technicien A"
          ]
         ],
         "hovertemplate": "Maintenance=%{customdata[0]}<br>Start=%{base}<br>Finish=%{x}<br>Composant=%{y}<br>Technicien=%{customdata[1]}<extra></extra>",
         "insidetextanchor": "middle",
         "legendgroup": "Vidange",
         "marker": {
          "color": "#00cc96",
          "pattern": {
           "shape": ""
          }
         },
         "name": "Vidange",
         "orientation": "h",
         "showlegend": true,
         "text": [
          "Technicien A",
          "Technicien A",
          "Technicien A",
          "Technicien A",
          "Technicien A",
          "Technicien A",
          "Technicien A",
          "Technicien A",
          "Technicien A",
          "Technicien A",
          "Technicien A",
          "Technicien A",
          "Technicien A",
          "Technicien A",
          "Technicien A",
          "Technicien A",
          "Technicien A",
          "Technicien A",
          "Technicien A"
         ],
         "textposition": "inside",
         "type": "bar",
         "x": {
          "bdata": "AFwmBQBcJgUAXCYFAFwmBQBcJgUAXCYFAFwmBQBcJgUAXCYFAFwmBQBcJgUAXCYFAFwmBQBcJgUAXCYFAFwmBQBcJgUAXCYFAFwmBQ==",
          "dtype": "i4"
         },
         "xaxis": "x",
         "y": [
          "Moteur principal",
          "Moteur principal",
          "Pompe hydraulique",
          "Transmission",
          "Circuit de refroidissement",
          "Circuit de refroidissement",
          "Lubrification moteur",
          "PTO avant",
          "PTO avant",
          "PTO avant",
          "Circuit de freinage",
          "Circuit de freinage",
          "Circuit de freinage",
          "Direction hydraulique",
          "Régime moteur",
          "Régime moteur",
          "Régime moteur",
          "Essieux avant",
          "Essieux avant"
         ],
         "yaxis": "y"
        },
        {
         "base": [
          "2025-04-01T00:00:00.000000000",
          "2025-04-08T00:00:00.000000000",
          "2025-04-11T00:00:00.000000000",
          "2025-04-05T00:00:00.000000000",
          "2025-04-01T00:00:00.000000000",
          "2025-04-04T00:00:00.000000000",
          "2025-04-08T00:00:00.000000000",
          "2025-04-03T00:00:00.000000000",
          "2025-04-09T00:00:00.000000000",
          "2025-04-06T00:00:00.000000000",
          "2025-04-03T00:00:00.000000000",
          "2025-04-07T00:00:00.000000000",
          "2025-04-10T00:00:00.000000000",
          "2025-04-05T00:00:00.000000000",
          "2025-04-09T00:00:00.000000000",
          "2025-04-04T00:00:00.000000000",
          "2025-04-07T00:00:00.000000000"
         ],
         "customdata": [
          [
           "Graissage",
           "Technicien A"
          ],
          [
           "Graissage",
           "Technicien A"
          ],
          [
           "Graissage",
           "Technicien A"
          ],
          [
           "Graissage",
           "Technicien A"
          ],
          [
           "Graissage",
           "Technicien A"
          ],
          [
           "Graissage",
           "Technicien A"
          ],
          [
           "Graissage",
           "Technicien A"
          ],
          [
           "Graissage",
           "Technicien A"
          ],
          [
           "Graissage",
           "Technicien A"
          ],
          [
           "Graissage",
           "Technicien A"
          ],
          [
           "Graissage",
           "Technicien A"
          ],
          [
           "Graissage",
           "Technicien A"
          ],
          [
           "Graissage",
           "Technicien A"
          ],
          [
           "Graissage",
           "Technicien A"
          ],
          [
           "Graissage",
           "Technicien A"
          ],
          [
           "Graissage",
           "Technicien A"
          ],
          [
           "Graissage",
           "Technicien A"
          ]
         ],
         "hovertemplate": "Maintenance=%{customdata[0]}<br>Start=%{base}<br>Finish=%{x}<br>Composant=%{y}<br>Technicien=%{customdata[1]}<extra></extra>",
         "insidetextanchor": "middle",
         "legendgroup": "Graissage",
         "marker": {
          "color": "#ab63fa",
          "pattern": {
           "shape": ""
          }
         },
         "name": "Graissage",
         "orientation": "h",
         "showlegend": true,
         "text": [
          "Technicien A",
          "Technicien A",
          "Technicien A",
          "Technicien A",
          "Technicien A",
          "Technicien A",
          "Technicien A",
          "Technicien A",
          "Technicien A",
          "Technicien A",
          "Technicien A",
          "Technicien A",
          "Technicien A",
          "Technicien A",
          "Technicien A",
          "Technicien A",
          "Technicien A"
         ],
         "textposition": "inside",
         "type": "bar",
         "x": {
          "bdata": "AFwmBQBcJgUAXCYFAFwmBQBcJgUAXCYFAFwmBQBcJgUAXCYFAFwmBQBcJgUAXCYFAFwmBQBcJgUAXCYFAFwmBQBcJgU=",
          "dtype": "i4"
         },
         "xaxis": "x",
         "y": [
          "Moteur principal",
          "Moteur principal",
          "Moteur principal",
          "Pompe hydraulique",
          "Circuit de refroidissement",
          "Circuit de refroidissement",
          "Circuit de refroidissement",
          "Lubrification moteur",
          "PTO avant",
          "Circuit de freinage",
          "Direction hydraulique",
          "Direction hydraulique",
          "Direction hydraulique",
          "Régime moteur",
          "Régime moteur",
          "Essieux avant",
          "Essieux avant"
         ],
         "yaxis": "y"
        },
        {
         "base": [
          "2025-04-10T00:00:00.000000000",
          "2025-04-05T00:00:00.000000000",
          "2025-04-04T00:00:00.000000000",
          "2025-04-10T00:00:00.000000000",
          "2025-04-07T00:00:00.000000000",
          "2025-04-03T00:00:00.000000000",
          "2025-04-07T00:00:00.000000000",
          "2025-04-05T00:00:00.000000000",
          "2025-04-02T00:00:00.000000000",
          "2025-04-08T00:00:00.000000000",
          "2025-04-03T00:00:00.000000000",
          "2025-04-01T00:00:00.000000000",
          "2025-04-04T00:00:00.000000000",
          "2025-04-09T00:00:00.000000000",
          "2025-04-09T00:00:00.000000000"
         ],
         "customdata": [
          [
           "Lubrification",
           "Technicien A"
          ],
          [
           "Lubrification",
           "Technicien B"
          ],
          [
           "Lubrification",
           "Technicien A"
          ],
          [
           "Lubrification",
           "Technicien A"
          ],
          [
           "Lubrification",
           "Technicien B"
          ],
          [
           "Lubrification",
           "Technicien B"
          ],
          [
           "Lubrification",
           "Technicien B"
          ],
          [
           "Lubrification",
           "Technicien B"
          ],
          [
           "Lubrification",
           "Technicien A"
          ],
          [
           "Lubrification",
           "Technicien A"
          ],
          [
           "Lubrification",
           "Technicien B"
          ],
          [
           "Lubrification",
           "Technicien A"
          ],
          [
           "Lubrification",
           "Technicien B"
          ],
          [
           "Lubrification",
           "Technicien B"
          ],
          [
           "Lubrification",
           "Technicien B"
          ]
         ],
         "hovertemplate": "Maintenance=%{customdata[0]}<br>Start=%{base}<br>Finish=%{x}<br>Composant=%{y}<br>Technicien=%{customdata[1]}<extra></extra>",
         "insidetextanchor": "middle",
         "legendgroup": "Lubrification",
         "marker": {
          "color": "#FFA15A",
          "pattern": {
           "shape": ""
          }
         },
         "name": "Lubrification",
         "orientation": "h",
         "showlegend": true,
         "text": [
          "Technicien A",
          "Technicien B",
          "Technicien A",
          "Technicien A",
          "Technicien B",
          "Technicien B",
          "Technicien B",
          "Technicien B",
          "Technicien A",
          "Technicien A",
          "Technicien B",
          "Technicien A",
          "Technicien B",
          "Technicien B",
          "Technicien B"
         ],
         "textposition": "inside",
         "type": "bar",
         "x": {
          "bdata": "AFwmBQBcJgUAXCYFAFwmBQBcJgUAXCYFAFwmBQBcJgUAXCYFAFwmBQBcJgUAXCYFAFwmBQBcJgUAXCYF",
          "dtype": "i4"
         },
         "xaxis": "x",
         "y": [
          "Moteur principal",
          "Transmission",
          "Circuit de refroidissement",
          "Circuit de refroidissement",
          "Circuit de refroidissement",
          "Lubrification moteur",
          "Lubrification moteur",
          "PTO avant",
          "Circuit de freinage",
          "Circuit de freinage",
          "Direction hydraulique",
          "Régime moteur",
          "Régime moteur",
          "Régime moteur",
          "Essieux avant"
         ],
         "yaxis": "y"
        },
        {
         "base": [
          "2025-04-02T00:00:00.000000000",
          "2025-04-07T00:00:00.000000000",
          "2025-04-02T00:00:00.000000000",
          "2025-04-08T00:00:00.000000000",
          "2025-04-05T00:00:00.000000000",
          "2025-04-11T00:00:00.000000000",
          "2025-04-03T00:00:00.000000000",
          "2025-04-06T00:00:00.000000000",
          "2025-04-10T00:00:00.000000000",
          "2025-04-05T00:00:00.000000000",
          "2025-04-09T00:00:00.000000000",
          "2025-04-01T00:00:00.000000000",
          "2025-04-04T00:00:00.000000000",
          "2025-04-08T00:00:00.000000000",
          "2025-04-11T00:00:00.000000000",
          "2025-04-04T00:00:00.000000000"
         ],
         "customdata": [
          [
           "Amélioration",
           "Technicien C"
          ],
          [
           "Amélioration",
           "Technicien C"
          ],
          [
           "Amélioration",
           "Technicien C"
          ],
          [
           "Amélioration",
           "Technicien C"
          ],
          [
           "Amélioration",
           "Technicien C"
          ],
          [
           "Amélioration",
           "Technicien C"
          ],
          [
           "Amélioration",
           "Technicien C"
          ],
          [
           "Amélioration",
           "Technicien C"
          ],
          [
           "Amélioration",
           "Technicien C"
          ],
          [
           "Amélioration",
           "Technicien C"
          ],
          [
           "Amélioration",
           "Technicien C"
          ],
          [
           "Amélioration",
           "Technicien C"
          ],
          [
           "Amélioration",
           "Technicien C"
          ],
          [
           "Amélioration",
           "Technicien C"
          ],
          [
           "Amélioration",
           "Technicien C"
          ],
          [
           "Amélioration",
           "Technicien C"
          ]
         ],
         "hovertemplate": "Maintenance=%{customdata[0]}<br>Start=%{base}<br>Finish=%{x}<br>Composant=%{y}<br>Technicien=%{customdata[1]}<extra></extra>",
         "insidetextanchor": "middle",
         "legendgroup": "Amélioration",
         "marker": {
          "color": "#19d3f3",
          "pattern": {
           "shape": ""
          }
         },
         "name": "Amélioration",
         "orientation": "h",
         "showlegend": true,
         "text": [
          "Technicien C",
          "Technicien C",
          "Technicien C",
          "Technicien C",
          "Technicien C",
          "Technicien C",
          "Technicien C",
          "Technicien C",
          "Technicien C",
          "Technicien C",
          "Technicien C",
          "Technicien C",
          "Technicien C",
          "Technicien C",
          "Technicien C",
          "Technicien C"
         ],
         "textposition": "inside",
         "type": "bar",
         "x": {
          "bdata": "AFwmBQBcJgUAXCYFAFwmBQBcJgUAXCYFAFwmBQBcJgUAXCYFAFwmBQBcJgUAXCYFAFwmBQBcJgUAXCYFAFwmBQ==",
          "dtype": "i4"
         },
         "xaxis": "x",
         "y": [
          "Moteur principal",
          "Moteur principal",
          "Pompe hydraulique",
          "Pompe hydraulique",
          "Transmission",
          "Transmission",
          "Lubrification moteur",
          "Lubrification moteur",
          "Lubrification moteur",
          "PTO avant",
          "PTO avant",
          "Régime moteur",
          "Régime moteur",
          "Régime moteur",
          "Régime moteur",
          "Essieux avant"
         ],
         "yaxis": "y"
        },
        {
         "base": [
          "2025-04-06T00:00:00.000000000",
          "2025-04-09T00:00:00.000000000",
          "2025-04-02T00:00:00.000000000",
          "2025-04-05T00:00:00.000000000",
          "2025-04-08T00:00:00.000000000",
          "2025-04-11T00:00:00.000000000",
          "2025-04-03T00:00:00.000000000",
          "2025-04-07T00:00:00.000000000",
          "2025-04-10T00:00:00.000000000",
          "2025-04-02T00:00:00.000000000",
          "2025-04-11T00:00:00.000000000",
          "2025-04-05T00:00:00.000000000",
          "2025-04-08T00:00:00.000000000",
          "2025-04-06T00:00:00.000000000",
          "2025-04-03T00:00:00.000000000",
          "2025-04-09T00:00:00.000000000",
          "2025-04-01T00:00:00.000000000",
          "2025-04-04T00:00:00.000000000",
          "2025-04-10T00:00:00.000000000",
          "2025-04-07T00:00:00.000000000"
         ],
         "customdata": [
          [
           "Inspection",
           "Technicien A"
          ],
          [
           "Inspection",
           "Technicien C"
          ],
          [
           "Inspection",
           "Technicien B"
          ],
          [
           "Inspection",
           "Technicien B"
          ],
          [
           "Inspection",
           "Technicien B"
          ],
          [
           "Inspection",
           "Technicien B"
          ],
          [
           "Inspection",
           "Technicien C"
          ],
          [
           "Inspection",
           "Technicien B"
          ],
          [
           "Inspection",
           "Technicien B"
          ],
          [
           "Inspection",
           "Technicien A"
          ],
          [
           "Inspection",
           "Technicien A"
          ],
          [
           "Inspection",
           "Technicien B"
          ],
          [
           "Inspection",
           "Technicien B"
          ],
          [
           "Inspection",
           "Technicien A"
          ],
          [
           "Inspection",
           "Technicien B"
          ],
          [
           "Inspection",
           "Technicien B"
          ],
          [
           "Inspection",
           "Technicien B"
          ],
          [
           "Inspection",
           "Technicien B"
          ],
          [
           "Inspection",
           "Technicien B"
          ],
          [
           "Inspection",
           "Technicien C"
          ]
         ],
         "hovertemplate": "Maintenance=%{customdata[0]}<br>Start=%{base}<br>Finish=%{x}<br>Composant=%{y}<br>Technicien=%{customdata[1]}<extra></extra>",
         "insidetextanchor": "middle",
         "legendgroup": "Inspection",
         "marker": {
          "color": "#FF6692",
          "pattern": {
           "shape": ""
          }
         },
         "name": "Inspection",
         "orientation": "h",
         "showlegend": true,
         "text": [
          "Technicien A",
          "Technicien C",
          "Technicien B",
          "Technicien B",
          "Technicien B",
          "Technicien B",
          "Technicien C",
          "Technicien B",
          "Technicien B",
          "Technicien A",
          "Technicien A",
          "Technicien B",
          "Technicien B",
          "Technicien A",
          "Technicien B",
          "Technicien B",
          "Technicien B",
          "Technicien B",
          "Technicien B",
          "Technicien C"
         ],
         "textposition": "inside",
         "type": "bar",
         "x": {
          "bdata": "AFwmBQBcJgUAXCYFAFwmBQBcJgUAXCYFAFwmBQBcJgUAXCYFAFwmBQBcJgUAXCYFAFwmBQBcJgUAXCYFAFwmBQBcJgUAXCYFAFwmBQBcJgU=",
          "dtype": "i4"
         },
         "xaxis": "x",
         "y": [
          "Moteur principal",
          "Moteur principal",
          "Transmission",
          "Transmission",
          "Lubrification moteur",
          "Lubrification moteur",
          "Lubrification moteur",
          "PTO avant",
          "PTO avant",
          "Circuit de freinage",
          "Circuit de freinage",
          "Circuit de freinage",
          "Circuit de freinage",
          "Direction hydraulique",
          "Direction hydraulique",
          "Direction hydraulique",
          "Essieux avant",
          "Essieux avant",
          "Essieux avant",
          "Essieux avant"
         ],
         "yaxis": "y"
        },
        {
         "base": [
          "2025-04-06T00:00:00.000000000",
          "2025-04-06T00:00:00.000000000",
          "2025-04-10T00:00:00.000000000"
         ],
         "customdata": [
          [
           "Remplacement",
           "Technicien B"
          ],
          [
           "Remplacement",
           "Technicien B"
          ],
          [
           "Remplacement",
           "Technicien B"
          ]
         ],
         "hovertemplate": "Maintenance=%{customdata[0]}<br>Start=%{base}<br>Finish=%{x}<br>Composant=%{y}<br>Technicien=%{customdata[1]}<extra></extra>",
         "insidetextanchor": "middle",
         "legendgroup": "Remplacement",
         "marker": {
          "color": "#B6E880",
          "pattern": {
           "shape": ""
          }
         },
         "name": "Remplacement",
         "orientation": "h",
         "showlegend": true,
         "text": [
          "Technicien B",
          "Technicien B",
          "Technicien B"
         ],
         "textposition": "inside",
         "type": "bar",
         "x": {
          "bdata": "AFwmBQBcJgUAXCYF",
          "dtype": "i4"
         },
         "xaxis": "x",
         "y": [
          "Circuit de freinage",
          "Régime moteur",
          "Régime moteur"
         ],
         "yaxis": "y"
        }
       ],
       "layout": {
        "barmode": "overlay",
        "font": {
         "size": 12
        },
        "legend": {
         "title": {
          "text": "Maintenance"
         },
         "tracegroupgap": 0
        },
        "plot_bgcolor": "white",
        "template": {
         "data": {
          "bar": [
           {
            "error_x": {
             "color": "#2a3f5f"
            },
            "error_y": {
             "color": "#2a3f5f"
            },
            "marker": {
             "line": {
              "color": "#E5ECF6",
              "width": 0.5
             },
             "pattern": {
              "fillmode": "overlay",
              "size": 10,
              "solidity": 0.2
             }
            },
            "type": "bar"
           }
          ],
          "barpolar": [
           {
            "marker": {
             "line": {
              "color": "#E5ECF6",
              "width": 0.5
             },
             "pattern": {
              "fillmode": "overlay",
              "size": 10,
              "solidity": 0.2
             }
            },
            "type": "barpolar"
           }
          ],
          "carpet": [
           {
            "aaxis": {
             "endlinecolor": "#2a3f5f",
             "gridcolor": "white",
             "linecolor": "white",
             "minorgridcolor": "white",
             "startlinecolor": "#2a3f5f"
            },
            "baxis": {
             "endlinecolor": "#2a3f5f",
             "gridcolor": "white",
             "linecolor": "white",
             "minorgridcolor": "white",
             "startlinecolor": "#2a3f5f"
            },
            "type": "carpet"
           }
          ],
          "choropleth": [
           {
            "colorbar": {
             "outlinewidth": 0,
             "ticks": ""
            },
            "type": "choropleth"
           }
          ],
          "contour": [
           {
            "colorbar": {
             "outlinewidth": 0,
             "ticks": ""
            },
            "colorscale": [
             [
              0,
              "#0d0887"
             ],
             [
              0.1111111111111111,
              "#46039f"
             ],
             [
              0.2222222222222222,
              "#7201a8"
             ],
             [
              0.3333333333333333,
              "#9c179e"
             ],
             [
              0.4444444444444444,
              "#bd3786"
             ],
             [
              0.5555555555555556,
              "#d8576b"
             ],
             [
              0.6666666666666666,
              "#ed7953"
             ],
             [
              0.7777777777777778,
              "#fb9f3a"
             ],
             [
              0.8888888888888888,
              "#fdca26"
             ],
             [
              1,
              "#f0f921"
             ]
            ],
            "type": "contour"
           }
          ],
          "contourcarpet": [
           {
            "colorbar": {
             "outlinewidth": 0,
             "ticks": ""
            },
            "type": "contourcarpet"
           }
          ],
          "heatmap": [
           {
            "colorbar": {
             "outlinewidth": 0,
             "ticks": ""
            },
            "colorscale": [
             [
              0,
              "#0d0887"
             ],
             [
              0.1111111111111111,
              "#46039f"
             ],
             [
              0.2222222222222222,
              "#7201a8"
             ],
             [
              0.3333333333333333,
              "#9c179e"
             ],
             [
              0.4444444444444444,
              "#bd3786"
             ],
             [
              0.5555555555555556,
              "#d8576b"
             ],
             [
              0.6666666666666666,
              "#ed7953"
             ],
             [
              0.7777777777777778,
              "#fb9f3a"
             ],
             [
              0.8888888888888888,
              "#fdca26"
             ],
             [
              1,
              "#f0f921"
             ]
            ],
            "type": "heatmap"
           }
          ],
          "histogram": [
           {
            "marker": {
             "pattern": {
              "fillmode": "overlay",
              "size": 10,
              "solidity": 0.2
             }
            },
            "type": "histogram"
           }
          ],
          "histogram2d": [
           {
            "colorbar": {
             "outlinewidth": 0,
             "ticks": ""
            },
            "colorscale": [
             [
              0,
              "#0d0887"
             ],
             [
              0.1111111111111111,
              "#46039f"
             ],
             [
              0.2222222222222222,
              "#7201a8"
             ],
             [
              0.3333333333333333,
              "#9c179e"
             ],
             [
              0.4444444444444444,
              "#bd3786"
             ],
             [
              0.5555555555555556,
              "#d8576b"
             ],
             [
              0.6666666666666666,
              "#ed7953"
             ],
             [
              0.7777777777777778,
              "#fb9f3a"
             ],
             [
              0.8888888888888888,
              "#fdca26"
             ],
             [
              1,
              "#f0f921"
             ]
            ],
            "type": "histogram2d"
           }
          ],
          "histogram2dcontour": [
           {
            "colorbar": {
             "outlinewidth": 0,
             "ticks": ""
            },
            "colorscale": [
             [
              0,
              "#0d0887"
             ],
             [
              0.1111111111111111,
              "#46039f"
             ],
             [
              0.2222222222222222,
              "#7201a8"
             ],
             [
              0.3333333333333333,
              "#9c179e"
             ],
             [
              0.4444444444444444,
              "#bd3786"
             ],
             [
              0.5555555555555556,
              "#d8576b"
             ],
             [
              0.6666666666666666,
              "#ed7953"
             ],
             [
              0.7777777777777778,
              "#fb9f3a"
             ],
             [
              0.8888888888888888,
              "#fdca26"
             ],
             [
              1,
              "#f0f921"
             ]
            ],
            "type": "histogram2dcontour"
           }
          ],
          "mesh3d": [
           {
            "colorbar": {
             "outlinewidth": 0,
             "ticks": ""
            },
            "type": "mesh3d"
           }
          ],
          "parcoords": [
           {
            "line": {
             "colorbar": {
              "outlinewidth": 0,
              "ticks": ""
             }
            },
            "type": "parcoords"
           }
          ],
          "pie": [
           {
            "automargin": true,
            "type": "pie"
           }
          ],
          "scatter": [
           {
            "fillpattern": {
             "fillmode": "overlay",
             "size": 10,
             "solidity": 0.2
            },
            "type": "scatter"
           }
          ],
          "scatter3d": [
           {
            "line": {
             "colorbar": {
              "outlinewidth": 0,
              "ticks": ""
             }
            },
            "marker": {
             "colorbar": {
              "outlinewidth": 0,
              "ticks": ""
             }
            },
            "type": "scatter3d"
           }
          ],
          "scattercarpet": [
           {
            "marker": {
             "colorbar": {
              "outlinewidth": 0,
              "ticks": ""
             }
            },
            "type": "scattercarpet"
           }
          ],
          "scattergeo": [
           {
            "marker": {
             "colorbar": {
              "outlinewidth": 0,
              "ticks": ""
             }
            },
            "type": "scattergeo"
           }
          ],
          "scattergl": [
           {
            "marker": {
             "colorbar": {
              "outlinewidth": 0,
              "ticks": ""
             }
            },
            "type": "scattergl"
           }
          ],
          "scattermap": [
           {
            "marker": {
             "colorbar": {
              "outlinewidth": 0,
              "ticks": ""
             }
            },
            "type": "scattermap"
           }
          ],
          "scattermapbox": [
           {
            "marker": {
             "colorbar": {
              "outlinewidth": 0,
              "ticks": ""
             }
            },
            "type": "scattermapbox"
           }
          ],
          "scatterpolar": [
           {
            "marker": {
             "colorbar": {
              "outlinewidth": 0,
              "ticks": ""
             }
            },
            "type": "scatterpolar"
           }
          ],
          "scatterpolargl": [
           {
            "marker": {
             "colorbar": {
              "outlinewidth": 0,
              "ticks": ""
             }
            },
            "type": "scatterpolargl"
           }
          ],
          "scatterternary": [
           {
            "marker": {
             "colorbar": {
              "outlinewidth": 0,
              "ticks": ""
             }
            },
            "type": "scatterternary"
           }
          ],
          "surface": [
           {
            "colorbar": {
             "outlinewidth": 0,
             "ticks": ""
            },
            "colorscale": [
             [
              0,
              "#0d0887"
             ],
             [
              0.1111111111111111,
              "#46039f"
             ],
             [
              0.2222222222222222,
              "#7201a8"
             ],
             [
              0.3333333333333333,
              "#9c179e"
             ],
             [
              0.4444444444444444,
              "#bd3786"
             ],
             [
              0.5555555555555556,
              "#d8576b"
             ],
             [
              0.6666666666666666,
              "#ed7953"
             ],
             [
              0.7777777777777778,
              "#fb9f3a"
             ],
             [
              0.8888888888888888,
              "#fdca26"
             ],
             [
              1,
              "#f0f921"
             ]
            ],
            "type": "surface"
           }
          ],
          "table": [
           {
            "cells": {
             "fill": {
              "color": "#EBF0F8"
             },
             "line": {
              "color": "white"
             }
            },
            "header": {
             "fill": {
              "color": "#C8D4E3"
             },
             "line": {
              "color": "white"
             }
            },
            "type": "table"
           }
          ]
         },
         "layout": {
          "annotationdefaults": {
           "arrowcolor": "#2a3f5f",
           "arrowhead": 0,
           "arrowwidth": 1
          },
          "autotypenumbers": "strict",
          "coloraxis": {
           "colorbar": {
            "outlinewidth": 0,
            "ticks": ""
           }
          },
          "colorscale": {
           "diverging": [
            [
             0,
             "#8e0152"
            ],
            [
             0.1,
             "#c51b7d"
            ],
            [
             0.2,
             "#de77ae"
            ],
            [
             0.3,
             "#f1b6da"
            ],
            [
             0.4,
             "#fde0ef"
            ],
            [
             0.5,
             "#f7f7f7"
            ],
            [
             0.6,
             "#e6f5d0"
            ],
            [
             0.7,
             "#b8e186"
            ],
            [
             0.8,
             "#7fbc41"
            ],
            [
             0.9,
             "#4d9221"
            ],
            [
             1,
             "#276419"
            ]
           ],
           "sequential": [
            [
             0,
             "#0d0887"
            ],
            [
             0.1111111111111111,
             "#46039f"
            ],
            [
             0.2222222222222222,
             "#7201a8"
            ],
            [
             0.3333333333333333,
             "#9c179e"
            ],
            [
             0.4444444444444444,
             "#bd3786"
            ],
            [
             0.5555555555555556,
             "#d8576b"
            ],
            [
             0.6666666666666666,
             "#ed7953"
            ],
            [
             0.7777777777777778,
             "#fb9f3a"
            ],
            [
             0.8888888888888888,
             "#fdca26"
            ],
            [
             1,
             "#f0f921"
            ]
           ],
           "sequentialminus": [
            [
             0,
             "#0d0887"
            ],
            [
             0.1111111111111111,
             "#46039f"
            ],
            [
             0.2222222222222222,
             "#7201a8"
            ],
            [
             0.3333333333333333,
             "#9c179e"
            ],
            [
             0.4444444444444444,
             "#bd3786"
            ],
            [
             0.5555555555555556,
             "#d8576b"
            ],
            [
             0.6666666666666666,
             "#ed7953"
            ],
            [
             0.7777777777777778,
             "#fb9f3a"
            ],
            [
             0.8888888888888888,
             "#fdca26"
            ],
            [
             1,
             "#f0f921"
            ]
           ]
          },
          "colorway": [
           "#636efa",
           "#EF553B",
           "#00cc96",
           "#ab63fa",
           "#FFA15A",
           "#19d3f3",
           "#FF6692",
           "#B6E880",
           "#FF97FF",
           "#FECB52"
          ],
          "font": {
           "color": "#2a3f5f"
          },
          "geo": {
           "bgcolor": "white",
           "lakecolor": "white",
           "landcolor": "#E5ECF6",
           "showlakes": true,
           "showland": true,
           "subunitcolor": "white"
          },
          "hoverlabel": {
           "align": "left"
          },
          "hovermode": "closest",
          "mapbox": {
           "style": "light"
          },
          "paper_bgcolor": "white",
          "plot_bgcolor": "#E5ECF6",
          "polar": {
           "angularaxis": {
            "gridcolor": "white",
            "linecolor": "white",
            "ticks": ""
           },
           "bgcolor": "#E5ECF6",
           "radialaxis": {
            "gridcolor": "white",
            "linecolor": "white",
            "ticks": ""
           }
          },
          "scene": {
           "xaxis": {
            "backgroundcolor": "#E5ECF6",
            "gridcolor": "white",
            "gridwidth": 2,
            "linecolor": "white",
            "showbackground": true,
            "ticks": "",
            "zerolinecolor": "white"
           },
           "yaxis": {
            "backgroundcolor": "#E5ECF6",
            "gridcolor": "white",
            "gridwidth": 2,
            "linecolor": "white",
            "showbackground": true,
            "ticks": "",
            "zerolinecolor": "white"
           },
           "zaxis": {
            "backgroundcolor": "#E5ECF6",
            "gridcolor": "white",
            "gridwidth": 2,
            "linecolor": "white",
            "showbackground": true,
            "ticks": "",
            "zerolinecolor": "white"
           }
          },
          "shapedefaults": {
           "line": {
            "color": "#2a3f5f"
           }
          },
          "ternary": {
           "aaxis": {
            "gridcolor": "white",
            "linecolor": "white",
            "ticks": ""
           },
           "baxis": {
            "gridcolor": "white",
            "linecolor": "white",
            "ticks": ""
           },
           "bgcolor": "#E5ECF6",
           "caxis": {
            "gridcolor": "white",
            "linecolor": "white",
            "ticks": ""
           }
          },
          "title": {
           "x": 0.05
          },
          "xaxis": {
           "automargin": true,
           "gridcolor": "white",
           "linecolor": "white",
           "ticks": "",
           "title": {
            "standoff": 15
           },
           "zerolinecolor": "white",
           "zerolinewidth": 2
          },
          "yaxis": {
           "automargin": true,
           "gridcolor": "white",
           "linecolor": "white",
           "ticks": "",
           "title": {
            "standoff": 15
           },
           "zerolinecolor": "white",
           "zerolinewidth": 2
          }
         }
        },
        "title": {
         "text": "📅 Planning Maintenance par Technicien (GANTT PRO)"
        },
        "xaxis": {
         "anchor": "y",
         "domain": [
          0,
          1
         ],
         "title": {
          "text": "Date"
         },
         "type": "date"
        },
        "yaxis": {
         "anchor": "x",
         "autorange": "reversed",
         "domain": [
          0,
          1
         ],
         "title": {
          "text": "Composant"
         }
        }
       }
      }
     },
     "metadata": {},
     "output_type": "display_data"
    }
   ],
   "source": [
    "# optimisation_maintenance_planning_pro.py\n",
    "\n",
    "# ======= IMPORTS =======\n",
    "import pulp\n",
    "import numpy as np\n",
    "import pandas as pd\n",
    "import plotly.express as px\n",
    "import matplotlib.pyplot as plt\n",
    "import matplotlib.patches as mpatches\n",
    "\n",
    "# ======= 1️⃣ PARAMÈTRAGE =======\n",
    "\n",
    "E = [\n",
    "    \"Moteur principal\", \"Pompe hydraulique\", \"Transmission\", \"Circuit de refroidissement\",\n",
    "    \"Lubrification moteur\", \"PTO avant\", \"Circuit de freinage\", \"Direction hydraulique\",\n",
    "    \"Régime moteur\", \"Essieux avant\"\n",
    "]\n",
    "\n",
    "S = [\"Révision\", \"Remplacement\", \"Contrôle\", \"Vidange\", \"Graissage\", \"Lubrification\", \"Amélioration\", \"Inspection\"]\n",
    "\n",
    "P = [\"Technicien A\", \"Technicien B\", \"Technicien C\"]\n",
    "\n",
    "R = [\"Piece1\", \"Piece2\", \"Piece3\"]\n",
    "\n",
    "T = list(range(1, 25))  # Jours 1 → 24\n",
    "\n",
    "# RUL donné\n",
    "rul_array = np.array([\n",
    "    0.5194773,  0.5286141,  0.5256151,  0.52865183, 0.5280742,  0.52900714, \n",
    "    0.52648014, 0.5291931,  0.5270387,  0.5344134,  0.53038186, 0.53363174,\n",
    "    0.53024626, 0.53480387, 0.53929555, 0.5377515,  0.5420548,  0.54542494,\n",
    "    0.54888,    0.54889727, 0.55220103, 0.5603916,  0.5576258,  0.56187624\n",
    "])\n",
    "\n",
    "# Seuil critique\n",
    "D = { (e,t): 0.53 for e in E for t in T }\n",
    "RUL = { (e, t): rul_array[t-1] for e in E for t in T }\n",
    "beta = { (e,t): int(RUL[(e,t)] <= D[(e,t)]) for e in E for t in T }\n",
    "\n",
    "# ======= PARAMÈTRES FIXES =======\n",
    "# Nombre max de techniciens par compétence et par jour (exemple : 2 partout)\n",
    "N_s_t = { (s, t): 2 for s in S for t in T }\n",
    "# Durée des tâches (tau) en heures → par logique métier\n",
    "tau = {\n",
    "    (e, s, p): {\n",
    "        \"Révision\": 3,\n",
    "        \"Remplacement\": 4,\n",
    "        \"Contrôle\": 2,\n",
    "        \"Vidange\": 1,\n",
    "        \"Graissage\": 1,\n",
    "        \"Lubrification\": 2,\n",
    "        \"Amélioration\": 5,\n",
    "        \"Inspection\": 2\n",
    "    }[s]\n",
    "    for e in E for s in S for p in P\n",
    "}\n",
    "# Temps de travail dispo par technicien (8h/jour par défaut)\n",
    "phi = { p: 8 for p in P }\n",
    "# Matrice de qualification des techniciens (alpha) → logique :\n",
    "alpha = {\n",
    "    (s, p): 1 if (\n",
    "        (s in [\"Révision\", \"Remplacement\", \"Contrôle\", \"Inspection\"]) or\n",
    "        (s in [\"Vidange\", \"Graissage\", \"Lubrification\"] and p in [\"Technicien A\", \"Technicien B\"]) or\n",
    "        (s == \"Amélioration\" and p in [\"Technicien C\"])\n",
    "    ) else 0\n",
    "    for s in S for p in P\n",
    "}\n",
    "\n",
    "# Délai max pour maintenance critique (2 jours pour tous composants)\n",
    "delta = { e: 2 for e in E }\n",
    "# Matrice kappa → pièces nécessaires par composant et type de maintenance :\n",
    "# Exemple logique :\n",
    "pieces_par_composant = {\n",
    "    \"Moteur principal\": [\"Piece1\", \"Piece2\"],\n",
    "    \"Pompe hydraulique\": [\"Piece1\", \"Piece3\"],\n",
    "    \"Transmission\": [\"Piece2\", \"Piece3\"],\n",
    "    \"Circuit de refroidissement\": [\"Piece1\", \"Piece2\"],\n",
    "    \"Lubrification moteur\": [\"Piece1\", \"Piece3\"],\n",
    "    \"PTO avant\": [\"Piece2\", \"Piece3\"],\n",
    "    \"Circuit de freinage\": [\"Piece1\", \"Piece2\"],\n",
    "    \"Direction hydraulique\": [\"Piece1\", \"Piece3\"],\n",
    "    \"Régime moteur\": [\"Piece3\"],\n",
    "    \"Essieux avant\": [\"Piece2\", \"Piece3\"]\n",
    "}\n",
    "kappa = {}\n",
    "for e in E:\n",
    "    for s in S:\n",
    "        for r in R:\n",
    "            if r in pieces_par_composant[e]:\n",
    "                kappa[(e, s, r)] = 1\n",
    "            else:\n",
    "                kappa[(e, s, r)] = 0\n",
    "# Stock disponible de chaque pièce par jour (exemple : 5 pièces/jour partout)\n",
    "M_r_t = { (r, t): 5 for r in R for t in T }\n",
    "# Criticité gamma par logique (plus critique pour Amélioration, Remplacement)\n",
    "gamma = {}\n",
    "for e in E:\n",
    "    for s in S:\n",
    "        if s in [\"Amélioration\", \"Remplacement\"]:\n",
    "            gamma[(e, s)] = 1.8\n",
    "        elif s in [\"Révision\", \"Contrôle\"]:\n",
    "            gamma[(e, s)] = 1.5\n",
    "        elif s in [\"Vidange\", \"Graissage\", \"Lubrification\"]:\n",
    "            gamma[(e, s)] = 1.2\n",
    "        else:  # Inspection\n",
    "            gamma[(e, s)] = 1.0\n",
    "# Coûts main d’œuvre (C_main) → techniciens spécialisés ont un coût un peu plus élevé\n",
    "C_main = {}\n",
    "for e in E:\n",
    "    for s in S:\n",
    "        for p in P:\n",
    "            if p == \"Technicien A\":\n",
    "                C_main[(e, s, p)] = 60\n",
    "            elif p == \"Technicien B\":\n",
    "                C_main[(e, s, p)] = 65\n",
    "            else:  # Technicien C\n",
    "                C_main[(e, s, p)] = 70\n",
    "# Coûts des pièces (C_piece) → par logique :\n",
    "C_piece = {}\n",
    "for e in E:\n",
    "    for s in S:\n",
    "        if s in [\"Remplacement\", \"Amélioration\"]:\n",
    "            C_piece[(e, s)] = 40\n",
    "        elif s in [\"Révision\", \"Contrôle\"]:\n",
    "            C_piece[(e, s)] = 30\n",
    "        else:\n",
    "            C_piece[(e, s)] = 20\n",
    "\n",
    "# Coûts sous-traitance (C_sous) → élevé pour Amélioration, moyen pour Remplacement\n",
    "C_sous = {}\n",
    "for e in E:\n",
    "    for s in S:\n",
    "        if s == \"Amélioration\":\n",
    "            C_sous[(e, s)] = 140\n",
    "        elif s == \"Remplacement\":\n",
    "            C_sous[(e, s)] = 120\n",
    "        elif s in [\"Révision\", \"Contrôle\"]:\n",
    "            C_sous[(e, s)] = 100\n",
    "        else:\n",
    "            C_sous[(e, s)] = 80\n",
    "\n",
    "\n",
    "# ======= 2️⃣ CONSTRUCTION DU MODÈLE =======\n",
    "\n",
    "model = pulp.LpProblem(\"Optimisation_Maintenance\", pulp.LpMinimize)\n",
    "\n",
    "x = pulp.LpVariable.dicts(\"x\", ((e,s,p,t) for e in E for s in S for p in P for t in T), cat='Binary')\n",
    "z = pulp.LpVariable.dicts(\"z\", ((e,s,t) for e in E for s in S for t in T), cat='Binary')\n",
    "\n",
    "# Fonction Objectif\n",
    "model += pulp.lpSum(\n",
    "    gamma[(e,s)] * (\n",
    "        pulp.lpSum(C_main[(e,s,p)] * x[(e,s,p,t)] for p in P)\n",
    "        + C_piece[(e,s)] * z[(e,s,t)]\n",
    "        + C_sous[(e,s)] * z[(e,s,t)]\n",
    "    )\n",
    "    for e in E for s in S for t in T\n",
    ")\n",
    "\n",
    "# Contraintes\n",
    "for e in E:\n",
    "    for s in S:\n",
    "        for t in T:\n",
    "            model += pulp.lpSum(alpha[(s,p)] * x[(e,s,p,t)] for p in P) == z[(e,s,t)], f\"Assign_{e}_{s}_{t}\"\n",
    "\n",
    "for p in P:\n",
    "    for t in T:\n",
    "        model += pulp.lpSum(tau[(e,s,p)] * x[(e,s,p,t)] for e in E for s in S) <= phi[p], f\"WorkTime_{p}_{t}\"\n",
    "\n",
    "for s in S:\n",
    "    for t in T:\n",
    "        model += pulp.lpSum(x[(e,s,p,t)] for e in E for p in P) <= N_s_t[(s,t)], f\"MaxEmp_{s}_{t}\"\n",
    "\n",
    "for e in E:\n",
    "    for s in S:\n",
    "        for t in T:\n",
    "            if beta[(e,t)] == 1:\n",
    "                t_window = [t_prime for t_prime in T if t_prime >= t and t_prime <= t + delta[e]]\n",
    "                model += pulp.lpSum(z[(e,s,t_prime)] for t_prime in t_window) == 1, f\"CriticalMaint_{e}_{s}_{t}\"\n",
    "\n",
    "for r in R:\n",
    "    for t in T:\n",
    "        model += pulp.lpSum(kappa[(e,s,r)] * z[(e,s,t)] for e in E for s in S) <= M_r_t[(r,t)], f\"Stock_{r}_{t}\"\n",
    "\n",
    "# ======= 3️⃣ RÉSOLUTION =======\n",
    "\n",
    "solver = pulp.PULP_CBC_CMD(msg=True)\n",
    "model.solve(solver)\n",
    "\n",
    "# ======= 4️⃣ EXTRACTION DES RÉSULTATS =======\n",
    "\n",
    "print(\"\\n===== RÉSULTATS =====\\n\")\n",
    "print(f\"Statut de résolution: {pulp.LpStatus[model.status]}\")\n",
    "print(f\"Coût total optimal = {pulp.value(model.objective):.2f}\\n\")\n",
    "\n",
    "# Planning maintenance\n",
    "planning_maint = []\n",
    "for e in E:\n",
    "    for s in S:\n",
    "        for t in T:\n",
    "            if pulp.value(z[(e,s,t)]) > 0.5:\n",
    "                planning_maint.append({\n",
    "                    'Composant': e,\n",
    "                    'Maintenance': s,\n",
    "                    'Jour': t\n",
    "                })\n",
    "\n",
    "# Planning technicien\n",
    "planning_tech = []\n",
    "for e in E:\n",
    "    for s in S:\n",
    "        for p in P:\n",
    "            for t in T:\n",
    "                if pulp.value(x[(e,s,p,t)]) > 0.5:\n",
    "                    planning_tech.append({\n",
    "                        'Technicien': p,\n",
    "                        'Composant': e,\n",
    "                        'Maintenance': s,\n",
    "                        'Jour': t\n",
    "                    })\n",
    "\n",
    "# Affichage pro des techniciens\n",
    "print(\"\\n👷 PLANNING DES TECHNICIENS (TEXTE) :\\n\")\n",
    "for row in sorted(planning_tech, key=lambda x: (x['Technicien'], x['Jour'])):\n",
    "    print(f\"Technicien: {row['Technicien']:<12} | Jour: {row['Jour']:>2} | Maintenance: {row['Maintenance']:<15} | Composant: {row['Composant']}\")\n",
    "\n",
    "# ======= 5️⃣ PLOTTING PLOTLY GANTT PRO =======\n",
    "\n",
    "# Créer dataframe GANTT techniciens\n",
    "df_gantt = []\n",
    "\n",
    "for row in planning_tech:\n",
    "    df_gantt.append({\n",
    "        'Technicien': row['Technicien'],\n",
    "        'Composant': row['Composant'],\n",
    "        'Maintenance': row['Maintenance'],\n",
    "        'Jour': row['Jour'],\n",
    "        'Start': pd.to_datetime(\"2025-04-01\") + pd.to_timedelta(row['Jour']-1, unit='D'),\n",
    "        'Finish': pd.to_datetime(\"2025-04-01\") + pd.to_timedelta(row['Jour'], unit='D')\n",
    "    })\n",
    "\n",
    "df_gantt = pd.DataFrame(df_gantt)\n",
    "\n",
    "# Plot GANTT\n",
    "fig = px.timeline(\n",
    "    df_gantt,\n",
    "    x_start=\"Start\",\n",
    "    x_end=\"Finish\",\n",
    "    y=\"Composant\",\n",
    "    color=\"Maintenance\",\n",
    "    text=\"Technicien\",\n",
    "    hover_data=[\"Maintenance\", \"Start\", \"Finish\", \"Composant\", \"Technicien\"],\n",
    "    title=\"📅 Planning Maintenance par Technicien (GANTT PRO)\"\n",
    ")\n",
    "\n",
    "fig.update_yaxes(autorange=\"reversed\")\n",
    "fig.update_traces(textposition='inside', insidetextanchor='middle')\n",
    "\n",
    "fig.update_layout(\n",
    "    font=dict(size=12),\n",
    "    xaxis_title=\"Date\",\n",
    "    yaxis_title=\"Composant\",\n",
    "    legend_title=\"Maintenance\",\n",
    "    plot_bgcolor='white'\n",
    ")\n",
    "\n",
    "# Afficher\n",
    "fig.show()\n",
    "\n",
    "# Optionnel : Sauvegarder PNG (pour rapport)\n",
    "# fig.write_image(\"Planning_Techniciens_GANTT.png\", scale=2)\n"
   ]
  },
  {
   "cell_type": "code",
   "execution_count": 9,
   "id": "c3a428db",
   "metadata": {},
   "outputs": [
    {
     "name": "stdout",
     "output_type": "stream",
     "text": [
      "Status : Infeasible\n",
      "Coût total optimisé : 73988.33333325839\n",
      ">>> Maintenance planifiée : Révision sur Moteur principal au jour 3\n",
      ">>> Maintenance planifiée : Révision sur Moteur principal au jour 6\n",
      ">>> Maintenance planifiée : Révision sur Moteur principal au jour 9\n",
      ">>> Maintenance planifiée : Remplacement sur Moteur principal au jour 3\n",
      ">>> Maintenance planifiée : Remplacement sur Moteur principal au jour 6\n",
      ">>> Maintenance planifiée : Remplacement sur Moteur principal au jour 9\n",
      ">>> Maintenance planifiée : Contrôle sur Moteur principal au jour 3\n",
      ">>> Maintenance planifiée : Contrôle sur Moteur principal au jour 6\n",
      ">>> Maintenance planifiée : Contrôle sur Moteur principal au jour 9\n",
      ">>> Maintenance planifiée : Vidange sur Moteur principal au jour 3\n",
      ">>> Maintenance planifiée : Vidange sur Moteur principal au jour 6\n",
      ">>> Maintenance planifiée : Vidange sur Moteur principal au jour 9\n",
      ">>> Maintenance planifiée : Graissage sur Moteur principal au jour 1\n",
      ">>> Maintenance planifiée : Graissage sur Moteur principal au jour 4\n",
      ">>> Maintenance planifiée : Graissage sur Moteur principal au jour 7\n",
      ">>> Maintenance planifiée : Graissage sur Moteur principal au jour 10\n",
      ">>> Maintenance planifiée : Lubrification sur Moteur principal au jour 3\n",
      ">>> Maintenance planifiée : Lubrification sur Moteur principal au jour 6\n",
      ">>> Maintenance planifiée : Lubrification sur Moteur principal au jour 9\n",
      ">>> Maintenance planifiée : Amélioration sur Moteur principal au jour 3\n",
      ">>> Maintenance planifiée : Amélioration sur Moteur principal au jour 6\n",
      ">>> Maintenance planifiée : Amélioration sur Moteur principal au jour 9\n",
      ">>> Maintenance planifiée : Inspection sur Moteur principal au jour 3\n",
      ">>> Maintenance planifiée : Inspection sur Moteur principal au jour 6\n",
      ">>> Maintenance planifiée : Inspection sur Moteur principal au jour 9\n",
      ">>> Maintenance planifiée : Révision sur Pompe hydraulique au jour 3\n",
      ">>> Maintenance planifiée : Révision sur Pompe hydraulique au jour 6\n",
      ">>> Maintenance planifiée : Révision sur Pompe hydraulique au jour 9\n",
      ">>> Maintenance planifiée : Remplacement sur Pompe hydraulique au jour 3\n",
      ">>> Maintenance planifiée : Remplacement sur Pompe hydraulique au jour 6\n",
      ">>> Maintenance planifiée : Remplacement sur Pompe hydraulique au jour 9\n",
      ">>> Maintenance planifiée : Contrôle sur Pompe hydraulique au jour 3\n",
      ">>> Maintenance planifiée : Contrôle sur Pompe hydraulique au jour 6\n",
      ">>> Maintenance planifiée : Contrôle sur Pompe hydraulique au jour 9\n",
      ">>> Maintenance planifiée : Vidange sur Pompe hydraulique au jour 3\n",
      ">>> Maintenance planifiée : Vidange sur Pompe hydraulique au jour 6\n",
      ">>> Maintenance planifiée : Vidange sur Pompe hydraulique au jour 9\n",
      ">>> Maintenance planifiée : Graissage sur Pompe hydraulique au jour 3\n",
      ">>> Maintenance planifiée : Graissage sur Pompe hydraulique au jour 6\n",
      ">>> Maintenance planifiée : Graissage sur Pompe hydraulique au jour 9\n",
      ">>> Maintenance planifiée : Lubrification sur Pompe hydraulique au jour 3\n",
      ">>> Maintenance planifiée : Lubrification sur Pompe hydraulique au jour 6\n",
      ">>> Maintenance planifiée : Lubrification sur Pompe hydraulique au jour 9\n",
      ">>> Maintenance planifiée : Amélioration sur Pompe hydraulique au jour 6\n",
      ">>> Maintenance planifiée : Inspection sur Pompe hydraulique au jour 3\n",
      ">>> Maintenance planifiée : Inspection sur Pompe hydraulique au jour 5\n",
      ">>> Maintenance planifiée : Inspection sur Pompe hydraulique au jour 8\n",
      ">>> Maintenance planifiée : Inspection sur Pompe hydraulique au jour 9\n",
      ">>> Maintenance planifiée : Révision sur Transmission au jour 3\n",
      ">>> Maintenance planifiée : Révision sur Transmission au jour 6\n",
      ">>> Maintenance planifiée : Révision sur Transmission au jour 9\n",
      ">>> Maintenance planifiée : Remplacement sur Transmission au jour 3\n",
      ">>> Maintenance planifiée : Remplacement sur Transmission au jour 6\n",
      ">>> Maintenance planifiée : Remplacement sur Transmission au jour 9\n",
      ">>> Maintenance planifiée : Contrôle sur Transmission au jour 1\n",
      ">>> Maintenance planifiée : Contrôle sur Transmission au jour 4\n",
      ">>> Maintenance planifiée : Contrôle sur Transmission au jour 7\n",
      ">>> Maintenance planifiée : Contrôle sur Transmission au jour 10\n",
      ">>> Maintenance planifiée : Vidange sur Transmission au jour 3\n",
      ">>> Maintenance planifiée : Vidange sur Transmission au jour 6\n",
      ">>> Maintenance planifiée : Vidange sur Transmission au jour 9\n",
      ">>> Maintenance planifiée : Graissage sur Transmission au jour 3\n",
      ">>> Maintenance planifiée : Graissage sur Transmission au jour 6\n",
      ">>> Maintenance planifiée : Graissage sur Transmission au jour 9\n",
      ">>> Maintenance planifiée : Lubrification sur Transmission au jour 3\n",
      ">>> Maintenance planifiée : Lubrification sur Transmission au jour 6\n",
      ">>> Maintenance planifiée : Lubrification sur Transmission au jour 9\n",
      ">>> Maintenance planifiée : Amélioration sur Transmission au jour 6\n",
      ">>> Maintenance planifiée : Inspection sur Transmission au jour 3\n",
      ">>> Maintenance planifiée : Inspection sur Transmission au jour 6\n",
      ">>> Maintenance planifiée : Inspection sur Transmission au jour 9\n",
      ">>> Maintenance planifiée : Révision sur Circuit de refroidissement au jour 3\n",
      ">>> Maintenance planifiée : Révision sur Circuit de refroidissement au jour 6\n",
      ">>> Maintenance planifiée : Révision sur Circuit de refroidissement au jour 8\n",
      ">>> Maintenance planifiée : Révision sur Circuit de refroidissement au jour 11\n",
      ">>> Maintenance planifiée : Remplacement sur Circuit de refroidissement au jour 3\n",
      ">>> Maintenance planifiée : Remplacement sur Circuit de refroidissement au jour 6\n",
      ">>> Maintenance planifiée : Remplacement sur Circuit de refroidissement au jour 9\n",
      ">>> Maintenance planifiée : Contrôle sur Circuit de refroidissement au jour 2\n",
      ">>> Maintenance planifiée : Contrôle sur Circuit de refroidissement au jour 5\n",
      ">>> Maintenance planifiée : Contrôle sur Circuit de refroidissement au jour 8\n",
      ">>> Maintenance planifiée : Contrôle sur Circuit de refroidissement au jour 11\n",
      ">>> Maintenance planifiée : Vidange sur Circuit de refroidissement au jour 3\n",
      ">>> Maintenance planifiée : Vidange sur Circuit de refroidissement au jour 6\n",
      ">>> Maintenance planifiée : Vidange sur Circuit de refroidissement au jour 9\n",
      ">>> Maintenance planifiée : Graissage sur Circuit de refroidissement au jour 2\n",
      ">>> Maintenance planifiée : Graissage sur Circuit de refroidissement au jour 5\n",
      ">>> Maintenance planifiée : Graissage sur Circuit de refroidissement au jour 8\n",
      ">>> Maintenance planifiée : Graissage sur Circuit de refroidissement au jour 11\n",
      ">>> Maintenance planifiée : Lubrification sur Circuit de refroidissement au jour 1\n",
      ">>> Maintenance planifiée : Lubrification sur Circuit de refroidissement au jour 4\n",
      ">>> Maintenance planifiée : Lubrification sur Circuit de refroidissement au jour 7\n",
      ">>> Maintenance planifiée : Lubrification sur Circuit de refroidissement au jour 10\n",
      ">>> Maintenance planifiée : Amélioration sur Circuit de refroidissement au jour 3\n",
      ">>> Maintenance planifiée : Amélioration sur Circuit de refroidissement au jour 6\n",
      ">>> Maintenance planifiée : Inspection sur Circuit de refroidissement au jour 1\n",
      ">>> Maintenance planifiée : Inspection sur Circuit de refroidissement au jour 4\n",
      ">>> Maintenance planifiée : Inspection sur Circuit de refroidissement au jour 7\n",
      ">>> Maintenance planifiée : Inspection sur Circuit de refroidissement au jour 10\n",
      ">>> Maintenance planifiée : Révision sur Lubrification moteur au jour 3\n",
      ">>> Maintenance planifiée : Révision sur Lubrification moteur au jour 6\n",
      ">>> Maintenance planifiée : Révision sur Lubrification moteur au jour 9\n",
      ">>> Maintenance planifiée : Remplacement sur Lubrification moteur au jour 3\n",
      ">>> Maintenance planifiée : Remplacement sur Lubrification moteur au jour 6\n",
      ">>> Maintenance planifiée : Remplacement sur Lubrification moteur au jour 9\n",
      ">>> Maintenance planifiée : Contrôle sur Lubrification moteur au jour 3\n",
      ">>> Maintenance planifiée : Contrôle sur Lubrification moteur au jour 6\n",
      ">>> Maintenance planifiée : Contrôle sur Lubrification moteur au jour 9\n",
      ">>> Maintenance planifiée : Vidange sur Lubrification moteur au jour 2\n",
      ">>> Maintenance planifiée : Vidange sur Lubrification moteur au jour 5\n",
      ">>> Maintenance planifiée : Vidange sur Lubrification moteur au jour 8\n",
      ">>> Maintenance planifiée : Vidange sur Lubrification moteur au jour 11\n",
      ">>> Maintenance planifiée : Graissage sur Lubrification moteur au jour 3\n",
      ">>> Maintenance planifiée : Graissage sur Lubrification moteur au jour 6\n",
      ">>> Maintenance planifiée : Graissage sur Lubrification moteur au jour 9\n",
      ">>> Maintenance planifiée : Lubrification sur Lubrification moteur au jour 3\n",
      ">>> Maintenance planifiée : Lubrification sur Lubrification moteur au jour 6\n",
      ">>> Maintenance planifiée : Lubrification sur Lubrification moteur au jour 9\n",
      ">>> Maintenance planifiée : Amélioration sur Lubrification moteur au jour 2\n",
      ">>> Maintenance planifiée : Amélioration sur Lubrification moteur au jour 5\n",
      ">>> Maintenance planifiée : Amélioration sur Lubrification moteur au jour 8\n",
      ">>> Maintenance planifiée : Inspection sur Lubrification moteur au jour 3\n",
      ">>> Maintenance planifiée : Inspection sur Lubrification moteur au jour 6\n",
      ">>> Maintenance planifiée : Inspection sur Lubrification moteur au jour 9\n",
      ">>> Maintenance planifiée : Révision sur PTO avant au jour 3\n",
      ">>> Maintenance planifiée : Révision sur PTO avant au jour 6\n",
      ">>> Maintenance planifiée : Révision sur PTO avant au jour 9\n",
      ">>> Maintenance planifiée : Remplacement sur PTO avant au jour 3\n",
      ">>> Maintenance planifiée : Remplacement sur PTO avant au jour 6\n",
      ">>> Maintenance planifiée : Remplacement sur PTO avant au jour 9\n",
      ">>> Maintenance planifiée : Contrôle sur PTO avant au jour 3\n",
      ">>> Maintenance planifiée : Contrôle sur PTO avant au jour 6\n",
      ">>> Maintenance planifiée : Contrôle sur PTO avant au jour 9\n",
      ">>> Maintenance planifiée : Vidange sur PTO avant au jour 3\n",
      ">>> Maintenance planifiée : Vidange sur PTO avant au jour 6\n",
      ">>> Maintenance planifiée : Vidange sur PTO avant au jour 9\n",
      ">>> Maintenance planifiée : Graissage sur PTO avant au jour 2\n",
      ">>> Maintenance planifiée : Graissage sur PTO avant au jour 5\n",
      ">>> Maintenance planifiée : Graissage sur PTO avant au jour 8\n",
      ">>> Maintenance planifiée : Graissage sur PTO avant au jour 11\n",
      ">>> Maintenance planifiée : Lubrification sur PTO avant au jour 2\n",
      ">>> Maintenance planifiée : Lubrification sur PTO avant au jour 5\n",
      ">>> Maintenance planifiée : Lubrification sur PTO avant au jour 8\n",
      ">>> Maintenance planifiée : Lubrification sur PTO avant au jour 11\n",
      ">>> Maintenance planifiée : Amélioration sur PTO avant au jour 4\n",
      ">>> Maintenance planifiée : Amélioration sur PTO avant au jour 7\n",
      ">>> Maintenance planifiée : Inspection sur PTO avant au jour 3\n",
      ">>> Maintenance planifiée : Inspection sur PTO avant au jour 6\n",
      ">>> Maintenance planifiée : Inspection sur PTO avant au jour 9\n",
      ">>> Maintenance planifiée : Révision sur Circuit de freinage au jour 3\n",
      ">>> Maintenance planifiée : Révision sur Circuit de freinage au jour 6\n",
      ">>> Maintenance planifiée : Révision sur Circuit de freinage au jour 9\n",
      ">>> Maintenance planifiée : Remplacement sur Circuit de freinage au jour 3\n",
      ">>> Maintenance planifiée : Remplacement sur Circuit de freinage au jour 6\n",
      ">>> Maintenance planifiée : Remplacement sur Circuit de freinage au jour 9\n",
      ">>> Maintenance planifiée : Contrôle sur Circuit de freinage au jour 3\n",
      ">>> Maintenance planifiée : Contrôle sur Circuit de freinage au jour 6\n",
      ">>> Maintenance planifiée : Contrôle sur Circuit de freinage au jour 9\n",
      ">>> Maintenance planifiée : Vidange sur Circuit de freinage au jour 1\n",
      ">>> Maintenance planifiée : Vidange sur Circuit de freinage au jour 4\n",
      ">>> Maintenance planifiée : Vidange sur Circuit de freinage au jour 7\n",
      ">>> Maintenance planifiée : Vidange sur Circuit de freinage au jour 10\n",
      ">>> Maintenance planifiée : Graissage sur Circuit de freinage au jour 3\n",
      ">>> Maintenance planifiée : Graissage sur Circuit de freinage au jour 6\n",
      ">>> Maintenance planifiée : Graissage sur Circuit de freinage au jour 9\n",
      ">>> Maintenance planifiée : Lubrification sur Circuit de freinage au jour 1\n",
      ">>> Maintenance planifiée : Lubrification sur Circuit de freinage au jour 4\n",
      ">>> Maintenance planifiée : Lubrification sur Circuit de freinage au jour 7\n",
      ">>> Maintenance planifiée : Lubrification sur Circuit de freinage au jour 10\n",
      ">>> Maintenance planifiée : Amélioration sur Circuit de freinage au jour 2\n",
      ">>> Maintenance planifiée : Amélioration sur Circuit de freinage au jour 6\n",
      ">>> Maintenance planifiée : Inspection sur Circuit de freinage au jour 3\n",
      ">>> Maintenance planifiée : Inspection sur Circuit de freinage au jour 6\n",
      ">>> Maintenance planifiée : Inspection sur Circuit de freinage au jour 9\n",
      ">>> Maintenance planifiée : Révision sur Direction hydraulique au jour 3\n",
      ">>> Maintenance planifiée : Révision sur Direction hydraulique au jour 6\n",
      ">>> Maintenance planifiée : Révision sur Direction hydraulique au jour 9\n",
      ">>> Maintenance planifiée : Remplacement sur Direction hydraulique au jour 3\n",
      ">>> Maintenance planifiée : Remplacement sur Direction hydraulique au jour 6\n",
      ">>> Maintenance planifiée : Remplacement sur Direction hydraulique au jour 9\n",
      ">>> Maintenance planifiée : Contrôle sur Direction hydraulique au jour 3\n",
      ">>> Maintenance planifiée : Contrôle sur Direction hydraulique au jour 6\n",
      ">>> Maintenance planifiée : Contrôle sur Direction hydraulique au jour 9\n",
      ">>> Maintenance planifiée : Vidange sur Direction hydraulique au jour 1\n",
      ">>> Maintenance planifiée : Vidange sur Direction hydraulique au jour 4\n",
      ">>> Maintenance planifiée : Vidange sur Direction hydraulique au jour 7\n",
      ">>> Maintenance planifiée : Vidange sur Direction hydraulique au jour 10\n",
      ">>> Maintenance planifiée : Graissage sur Direction hydraulique au jour 3\n",
      ">>> Maintenance planifiée : Graissage sur Direction hydraulique au jour 6\n",
      ">>> Maintenance planifiée : Graissage sur Direction hydraulique au jour 9\n",
      ">>> Maintenance planifiée : Lubrification sur Direction hydraulique au jour 3\n",
      ">>> Maintenance planifiée : Lubrification sur Direction hydraulique au jour 6\n",
      ">>> Maintenance planifiée : Lubrification sur Direction hydraulique au jour 9\n",
      ">>> Maintenance planifiée : Amélioration sur Direction hydraulique au jour 6\n",
      ">>> Maintenance planifiée : Amélioration sur Direction hydraulique au jour 10\n",
      ">>> Maintenance planifiée : Inspection sur Direction hydraulique au jour 2\n",
      ">>> Maintenance planifiée : Inspection sur Direction hydraulique au jour 5\n",
      ">>> Maintenance planifiée : Inspection sur Direction hydraulique au jour 8\n",
      ">>> Maintenance planifiée : Inspection sur Direction hydraulique au jour 11\n",
      ">>> Maintenance planifiée : Révision sur Régime moteur au jour 1\n",
      ">>> Maintenance planifiée : Révision sur Régime moteur au jour 4\n",
      ">>> Maintenance planifiée : Révision sur Régime moteur au jour 7\n",
      ">>> Maintenance planifiée : Révision sur Régime moteur au jour 9\n",
      ">>> Maintenance planifiée : Remplacement sur Régime moteur au jour 3\n",
      ">>> Maintenance planifiée : Remplacement sur Régime moteur au jour 6\n",
      ">>> Maintenance planifiée : Remplacement sur Régime moteur au jour 9\n",
      ">>> Maintenance planifiée : Contrôle sur Régime moteur au jour 1\n",
      ">>> Maintenance planifiée : Contrôle sur Régime moteur au jour 4\n",
      ">>> Maintenance planifiée : Contrôle sur Régime moteur au jour 7\n",
      ">>> Maintenance planifiée : Contrôle sur Régime moteur au jour 10\n",
      ">>> Maintenance planifiée : Vidange sur Régime moteur au jour 2\n",
      ">>> Maintenance planifiée : Vidange sur Régime moteur au jour 5\n",
      ">>> Maintenance planifiée : Vidange sur Régime moteur au jour 8\n",
      ">>> Maintenance planifiée : Vidange sur Régime moteur au jour 11\n",
      ">>> Maintenance planifiée : Graissage sur Régime moteur au jour 1\n",
      ">>> Maintenance planifiée : Graissage sur Régime moteur au jour 4\n",
      ">>> Maintenance planifiée : Graissage sur Régime moteur au jour 7\n",
      ">>> Maintenance planifiée : Graissage sur Régime moteur au jour 10\n",
      ">>> Maintenance planifiée : Lubrification sur Régime moteur au jour 2\n",
      ">>> Maintenance planifiée : Lubrification sur Régime moteur au jour 5\n",
      ">>> Maintenance planifiée : Lubrification sur Régime moteur au jour 8\n",
      ">>> Maintenance planifiée : Lubrification sur Régime moteur au jour 11\n",
      ">>> Maintenance planifiée : Amélioration sur Régime moteur au jour 1\n",
      ">>> Maintenance planifiée : Amélioration sur Régime moteur au jour 4\n",
      ">>> Maintenance planifiée : Amélioration sur Régime moteur au jour 7\n",
      ">>> Maintenance planifiée : Amélioration sur Régime moteur au jour 10\n",
      ">>> Maintenance planifiée : Inspection sur Régime moteur au jour 2\n",
      ">>> Maintenance planifiée : Inspection sur Régime moteur au jour 5\n",
      ">>> Maintenance planifiée : Inspection sur Régime moteur au jour 8\n",
      ">>> Maintenance planifiée : Inspection sur Régime moteur au jour 11\n",
      ">>> Maintenance planifiée : Révision sur Essieux avant au jour 3\n",
      ">>> Maintenance planifiée : Révision sur Essieux avant au jour 6\n",
      ">>> Maintenance planifiée : Révision sur Essieux avant au jour 8\n",
      ">>> Maintenance planifiée : Révision sur Essieux avant au jour 11\n",
      ">>> Maintenance planifiée : Remplacement sur Essieux avant au jour 3\n",
      ">>> Maintenance planifiée : Remplacement sur Essieux avant au jour 6\n",
      ">>> Maintenance planifiée : Remplacement sur Essieux avant au jour 9\n",
      ">>> Maintenance planifiée : Contrôle sur Essieux avant au jour 2\n",
      ">>> Maintenance planifiée : Contrôle sur Essieux avant au jour 5\n",
      ">>> Maintenance planifiée : Contrôle sur Essieux avant au jour 8\n",
      ">>> Maintenance planifiée : Contrôle sur Essieux avant au jour 11\n",
      ">>> Maintenance planifiée : Vidange sur Essieux avant au jour 3\n",
      ">>> Maintenance planifiée : Vidange sur Essieux avant au jour 6\n",
      ">>> Maintenance planifiée : Vidange sur Essieux avant au jour 9\n",
      ">>> Maintenance planifiée : Graissage sur Essieux avant au jour 3\n",
      ">>> Maintenance planifiée : Graissage sur Essieux avant au jour 6\n",
      ">>> Maintenance planifiée : Graissage sur Essieux avant au jour 9\n",
      ">>> Maintenance planifiée : Lubrification sur Essieux avant au jour 3\n",
      ">>> Maintenance planifiée : Lubrification sur Essieux avant au jour 6\n",
      ">>> Maintenance planifiée : Lubrification sur Essieux avant au jour 9\n",
      ">>> Maintenance planifiée : Amélioration sur Essieux avant au jour 6\n",
      ">>> Maintenance planifiée : Amélioration sur Essieux avant au jour 9\n",
      ">>> Maintenance planifiée : Inspection sur Essieux avant au jour 1\n",
      ">>> Maintenance planifiée : Inspection sur Essieux avant au jour 4\n",
      ">>> Maintenance planifiée : Inspection sur Essieux avant au jour 7\n",
      ">>> Maintenance planifiée : Inspection sur Essieux avant au jour 10\n"
     ]
    }
   ],
   "source": [
    "import pulp\n",
    "import numpy as np\n",
    "import random\n",
    "\n",
    "# ==========================\n",
    "# Données de base\n",
    "# ==========================\n",
    "\n",
    "# Ensemble des composants / machines\n",
    "E = [\n",
    "    \"Moteur principal\", \"Pompe hydraulique\", \"Transmission\", \"Circuit de refroidissement\",\n",
    "    \"Lubrification moteur\", \"PTO avant\", \"Circuit de freinage\", \"Direction hydraulique\",\n",
    "    \"Régime moteur\", \"Essieux avant\"\n",
    "]\n",
    "\n",
    "# Types de maintenance\n",
    "S = [\"Révision\", \"Remplacement\", \"Contrôle\", \"Vidange\", \"Graissage\", \"Lubrification\", \"Amélioration\", \"Inspection\"]\n",
    "\n",
    "# Techniciens\n",
    "P = [\"Technicien A\", \"Technicien B\", \"Technicien C\"]\n",
    "\n",
    "# Pièces détachées\n",
    "R = [\"Piece1\", \"Piece2\", \"Piece3\"]\n",
    "\n",
    "# Horizon temporel (jours 1 à 24)\n",
    "T = list(range(1, 25))\n",
    "\n",
    "# Ensemble des scénarios\n",
    "Omega = [\"omega1\", \"omega2\", \"omega3\"]\n",
    "p_omega = { omega: 1 / len(Omega) for omega in Omega }\n",
    "\n",
    "# ==========================\n",
    "# Paramètres RUL, seuils, beta\n",
    "# ==========================\n",
    "rul_array = np.array([\n",
    "    0.5194773,  0.5286141,  0.5256151,  0.52865183, 0.5280742,  0.52900714,\n",
    "    0.52648014, 0.5291931,  0.5270387,  0.5344134,  0.53038186, 0.53363174,\n",
    "    0.53024626, 0.53480387, 0.53929555, 0.5377515,  0.5420548,  0.54542494,\n",
    "    0.54888,    0.54889727, 0.55220103, 0.5603916,  0.5576258,  0.56187624\n",
    "])\n",
    "D = { (e,t): 0.53 for e in E for t in T }\n",
    "RUL = { (e, t): rul_array[t-1] for e in E for t in T }\n",
    "beta = { (e,t): int(RUL[(e,t)] <= D[(e,t)]) for e in E for t in T }\n",
    "\n",
    "# ==========================\n",
    "# Paramètres fixes\n",
    "# ==========================\n",
    "N_s_t = { (s, t): 2 for s in S for t in T }\n",
    "\n",
    "tau = {\n",
    "    (e, s, p): {\n",
    "        \"Révision\": 3,\n",
    "        \"Remplacement\": 4,\n",
    "        \"Contrôle\": 2,\n",
    "        \"Vidange\": 1,\n",
    "        \"Graissage\": 1,\n",
    "        \"Lubrification\": 2,\n",
    "        \"Amélioration\": 5,\n",
    "        \"Inspection\": 2\n",
    "    }[s]\n",
    "    for e in E for s in S for p in P\n",
    "}\n",
    "\n",
    "phi = { p: 8 for p in P }\n",
    "\n",
    "alpha = {\n",
    "    (s, p): 1 if (\n",
    "        (s in [\"Révision\", \"Remplacement\", \"Contrôle\", \"Inspection\"]) or\n",
    "        (s in [\"Vidange\", \"Graissage\", \"Lubrification\"] and p in [\"Technicien A\", \"Technicien B\"]) or\n",
    "        (s == \"Amélioration\" and p in [\"Technicien C\"])\n",
    "    ) else 0\n",
    "    for s in S for p in P\n",
    "}\n",
    "\n",
    "delta = { e: 2 for e in E }\n",
    "\n",
    "pieces_par_composant = {\n",
    "    \"Moteur principal\": [\"Piece1\", \"Piece2\"],\n",
    "    \"Pompe hydraulique\": [\"Piece1\", \"Piece3\"],\n",
    "    \"Transmission\": [\"Piece2\", \"Piece3\"],\n",
    "    \"Circuit de refroidissement\": [\"Piece1\", \"Piece2\"],\n",
    "    \"Lubrification moteur\": [\"Piece1\", \"Piece3\"],\n",
    "    \"PTO avant\": [\"Piece2\", \"Piece3\"],\n",
    "    \"Circuit de freinage\": [\"Piece1\", \"Piece2\"],\n",
    "    \"Direction hydraulique\": [\"Piece1\", \"Piece3\"],\n",
    "    \"Régime moteur\": [\"Piece3\"],\n",
    "    \"Essieux avant\": [\"Piece2\", \"Piece3\"]\n",
    "}\n",
    "\n",
    "kappa = {}\n",
    "for e in E:\n",
    "    for s in S:\n",
    "        for r in R:\n",
    "            kappa[(e, s, r)] = 1 if r in pieces_par_composant[e] else 0\n",
    "\n",
    "# Stock M_r_t(omega) par scénario\n",
    "M_r_t_omega = { (r, t, omega): max(3, int(random.gauss(5, 1))) for r in R for t in T for omega in Omega }\n",
    "\n",
    "gamma = {}\n",
    "for e in E:\n",
    "    for s in S:\n",
    "        if s in [\"Amélioration\", \"Remplacement\"]:\n",
    "            gamma[(e, s)] = 1.8\n",
    "        elif s in [\"Révision\", \"Contrôle\"]:\n",
    "            gamma[(e, s)] = 1.5\n",
    "        elif s in [\"Vidange\", \"Graissage\", \"Lubrification\"]:\n",
    "            gamma[(e, s)] = 1.2\n",
    "        else:\n",
    "            gamma[(e, s)] = 1.0\n",
    "\n",
    "C_main = {}\n",
    "for e in E:\n",
    "    for s in S:\n",
    "        for p in P:\n",
    "            C_main[(e, s, p)] = 60 if p == \"Technicien A\" else (65 if p == \"Technicien B\" else 70)\n",
    "\n",
    "C_piece = {}\n",
    "for e in E:\n",
    "    for s in S:\n",
    "        if s in [\"Remplacement\", \"Amélioration\"]:\n",
    "            C_piece[(e, s)] = 40\n",
    "        elif s in [\"Révision\", \"Contrôle\"]:\n",
    "            C_piece[(e, s)] = 30\n",
    "        else:\n",
    "            C_piece[(e, s)] = 20\n",
    "\n",
    "C_sous = {}\n",
    "for e in E:\n",
    "    for s in S:\n",
    "        if s == \"Amélioration\":\n",
    "            C_sous[(e, s)] = 140\n",
    "        elif s == \"Remplacement\":\n",
    "            C_sous[(e, s)] = 120\n",
    "        elif s in [\"Révision\", \"Contrôle\"]:\n",
    "            C_sous[(e, s)] = 100\n",
    "        else:\n",
    "            C_sous[(e, s)] = 80\n",
    "\n",
    "C_achat = { r: 50 for r in R }\n",
    "\n",
    "# ==========================\n",
    "# Modèle PuLP\n",
    "# ==========================\n",
    "model = pulp.LpProblem(\"Optimisation_Maintenance_Stochastique\", pulp.LpMinimize)\n",
    "\n",
    "# Variables\n",
    "x = pulp.LpVariable.dicts(\"x\", ((e,s,p,t) for e in E for s in S for p in P for t in T), cat=\"Binary\")\n",
    "z = pulp.LpVariable.dicts(\"z\", ((e,s,t) for e in E for s in S for t in T), cat=\"Binary\")\n",
    "u = pulp.LpVariable.dicts(\"u\", ((r,t,omega) for r in R for t in T for omega in Omega), lowBound=0, cat=\"Continuous\")\n",
    "\n",
    "# Objectif\n",
    "objective = pulp.lpSum(\n",
    "    p_omega[omega] * (\n",
    "        pulp.lpSum(\n",
    "            gamma[(e,s)] * (\n",
    "                pulp.lpSum( C_main[(e,s,p)] * x[(e,s,p,t)] for p in P )\n",
    "                + C_piece[(e,s)] * z[(e,s,t)]\n",
    "                + C_sous[(e,s)] * z[(e,s,t)]\n",
    "            )\n",
    "            for e in E for s in S for t in T\n",
    "        )\n",
    "        + pulp.lpSum( C_achat[r] * u[(r,t,omega)] for r in R for t in T )\n",
    "    )\n",
    "    for omega in Omega\n",
    ")\n",
    "model += objective\n",
    "\n",
    "# Contraintes\n",
    "# Assignation employés\n",
    "for e in E:\n",
    "    for s in S:\n",
    "        for t in T:\n",
    "            model += pulp.lpSum( alpha[(s,p)] * x[(e,s,p,t)] for p in P ) == z[(e,s,t)], f\"assign_{e}_{s}_{t}\"\n",
    "\n",
    "# Temps de travail\n",
    "for p in P:\n",
    "    for t in T:\n",
    "        model += pulp.lpSum( tau[(e,s,p)] * x[(e,s,p,t)] for e in E for s in S ) <= phi[p], f\"time_{p}_{t}\"\n",
    "\n",
    "# Nombre max de techniciens\n",
    "for s in S:\n",
    "    for t in T:\n",
    "        model += pulp.lpSum( x[(e,s,p,t)] for e in E for p in P ) <= N_s_t[(s,t)], f\"nb_tech_{s}_{t}\"\n",
    "\n",
    "# Maintenance obligatoire RUL critique\n",
    "for e in E:\n",
    "    for s in S:\n",
    "        for t in T:\n",
    "            if beta[(e,t)] == 1:\n",
    "                window = range(t, min(t + delta[e] + 1, max(T)+1))\n",
    "                model += pulp.lpSum( z[(e,s,tp)] for tp in window ) >= 1, f\"RUL_critique_{e}_{s}_{t}\"\n",
    "\n",
    "# Contraintes de stock par scénario\n",
    "for r in R:\n",
    "    for t in T:\n",
    "        for omega in Omega:\n",
    "            model += pulp.lpSum( kappa[(e,s,r)] * z[(e,s,t)] for e in E for s in S ) <= M_r_t_omega[(r,t,omega)] + u[(r,t,omega)], f\"stock_{r}_{t}_{omega}\"\n",
    "\n",
    "# Résolution\n",
    "solver = pulp.PULP_CBC_CMD(msg=True)\n",
    "model.solve(solver)\n",
    "\n",
    "# Résultats\n",
    "print(f\"Status : {pulp.LpStatus[model.status]}\")\n",
    "print(f\"Coût total optimisé : {pulp.value(model.objective)}\")\n",
    "\n",
    "# Exemple de sorties\n",
    "for e in E:\n",
    "    for s in S:\n",
    "        for t in T:\n",
    "            if pulp.value(z[(e,s,t)]) > 0.5:\n",
    "                print(f\">>> Maintenance planifiée : {s} sur {e} au jour {t}\")\n"
   ]
  },
  {
   "cell_type": "code",
   "execution_count": 12,
   "id": "6e4f8671",
   "metadata": {},
   "outputs": [
    {
     "data": {
      "application/vnd.plotly.v1+json": {
       "config": {
        "plotlyServerURL": "https://plot.ly"
       },
       "data": [
        {
         "base": [
          "2025-04-03T00:00:00.000000000",
          "2025-04-06T00:00:00.000000000",
          "2025-04-09T00:00:00.000000000",
          "2025-04-03T00:00:00.000000000",
          "2025-04-06T00:00:00.000000000",
          "2025-04-09T00:00:00.000000000",
          "2025-04-03T00:00:00.000000000",
          "2025-04-06T00:00:00.000000000",
          "2025-04-09T00:00:00.000000000",
          "2025-04-03T00:00:00.000000000",
          "2025-04-06T00:00:00.000000000",
          "2025-04-08T00:00:00.000000000",
          "2025-04-11T00:00:00.000000000",
          "2025-04-03T00:00:00.000000000",
          "2025-04-06T00:00:00.000000000",
          "2025-04-09T00:00:00.000000000",
          "2025-04-03T00:00:00.000000000",
          "2025-04-06T00:00:00.000000000",
          "2025-04-09T00:00:00.000000000",
          "2025-04-03T00:00:00.000000000",
          "2025-04-06T00:00:00.000000000",
          "2025-04-09T00:00:00.000000000",
          "2025-04-03T00:00:00.000000000",
          "2025-04-06T00:00:00.000000000",
          "2025-04-09T00:00:00.000000000",
          "2025-04-01T00:00:00.000000000",
          "2025-04-04T00:00:00.000000000",
          "2025-04-07T00:00:00.000000000",
          "2025-04-09T00:00:00.000000000",
          "2025-04-03T00:00:00.000000000",
          "2025-04-06T00:00:00.000000000",
          "2025-04-08T00:00:00.000000000",
          "2025-04-11T00:00:00.000000000"
         ],
         "hovertemplate": "Maintenance=Révision<br>Start=%{base}<br>Finish=%{x}<br>Composant=%{y}<br>Technicien=%{text}<extra></extra>",
         "insidetextanchor": "middle",
         "legendgroup": "Révision",
         "marker": {
          "color": "#636efa",
          "pattern": {
           "shape": ""
          }
         },
         "name": "Révision",
         "orientation": "h",
         "showlegend": true,
         "text": [
          "Non assigné",
          "Non assigné",
          "Non assigné",
          "Technicien C",
          "Technicien C",
          "Non assigné",
          "Non assigné",
          "Non assigné",
          "Technicien B",
          "Non assigné",
          "Non assigné",
          "Non assigné",
          "Technicien B",
          "Technicien C",
          "Technicien C",
          "Non assigné",
          "Non assigné",
          "Non assigné",
          "Technicien C",
          "Non assigné",
          "Non assigné",
          "Non assigné",
          "Non assigné",
          "Non assigné",
          "Non assigné",
          "Technicien C",
          "Technicien B",
          "Non assigné",
          "Non assigné",
          "Non assigné",
          "Non assigné",
          "Non assigné",
          "Technicien C"
         ],
         "textfont": {
          "size": 10
         },
         "textposition": "inside",
         "type": "bar",
         "x": {
          "bdata": "AFwmBQBcJgUAXCYFAFwmBQBcJgUAXCYFAFwmBQBcJgUAXCYFAFwmBQBcJgUAXCYFAFwmBQBcJgUAXCYFAFwmBQBcJgUAXCYFAFwmBQBcJgUAXCYFAFwmBQBcJgUAXCYFAFwmBQBcJgUAXCYFAFwmBQBcJgUAXCYFAFwmBQBcJgUAXCYF",
          "dtype": "i4"
         },
         "xaxis": "x",
         "y": [
          "Moteur principal",
          "Moteur principal",
          "Moteur principal",
          "Pompe hydraulique",
          "Pompe hydraulique",
          "Pompe hydraulique",
          "Transmission",
          "Transmission",
          "Transmission",
          "Circuit de refroidissement",
          "Circuit de refroidissement",
          "Circuit de refroidissement",
          "Circuit de refroidissement",
          "Lubrification moteur",
          "Lubrification moteur",
          "Lubrification moteur",
          "PTO avant",
          "PTO avant",
          "PTO avant",
          "Circuit de freinage",
          "Circuit de freinage",
          "Circuit de freinage",
          "Direction hydraulique",
          "Direction hydraulique",
          "Direction hydraulique",
          "Régime moteur",
          "Régime moteur",
          "Régime moteur",
          "Régime moteur",
          "Essieux avant",
          "Essieux avant",
          "Essieux avant",
          "Essieux avant"
         ],
         "yaxis": "y"
        },
        {
         "base": [
          "2025-04-03T00:00:00.000000000",
          "2025-04-06T00:00:00.000000000",
          "2025-04-09T00:00:00.000000000",
          "2025-04-03T00:00:00.000000000",
          "2025-04-06T00:00:00.000000000",
          "2025-04-09T00:00:00.000000000",
          "2025-04-03T00:00:00.000000000",
          "2025-04-06T00:00:00.000000000",
          "2025-04-09T00:00:00.000000000",
          "2025-04-03T00:00:00.000000000",
          "2025-04-06T00:00:00.000000000",
          "2025-04-09T00:00:00.000000000",
          "2025-04-03T00:00:00.000000000",
          "2025-04-06T00:00:00.000000000",
          "2025-04-09T00:00:00.000000000",
          "2025-04-03T00:00:00.000000000",
          "2025-04-06T00:00:00.000000000",
          "2025-04-09T00:00:00.000000000",
          "2025-04-03T00:00:00.000000000",
          "2025-04-06T00:00:00.000000000",
          "2025-04-09T00:00:00.000000000",
          "2025-04-03T00:00:00.000000000",
          "2025-04-06T00:00:00.000000000",
          "2025-04-09T00:00:00.000000000",
          "2025-04-03T00:00:00.000000000",
          "2025-04-06T00:00:00.000000000",
          "2025-04-09T00:00:00.000000000",
          "2025-04-03T00:00:00.000000000",
          "2025-04-06T00:00:00.000000000",
          "2025-04-09T00:00:00.000000000"
         ],
         "hovertemplate": "Maintenance=Remplacement<br>Start=%{base}<br>Finish=%{x}<br>Composant=%{y}<br>Technicien=%{text}<extra></extra>",
         "insidetextanchor": "middle",
         "legendgroup": "Remplacement",
         "marker": {
          "color": "#EF553B",
          "pattern": {
           "shape": ""
          }
         },
         "name": "Remplacement",
         "orientation": "h",
         "showlegend": true,
         "text": [
          "Non assigné",
          "Non assigné",
          "Technicien C",
          "Non assigné",
          "Technicien C",
          "Non assigné",
          "Non assigné",
          "Non assigné",
          "Non assigné",
          "Non assigné",
          "Non assigné",
          "Non assigné",
          "Non assigné",
          "Non assigné",
          "Non assigné",
          "Technicien C",
          "Non assigné",
          "Non assigné",
          "Non assigné",
          "Non assigné",
          "Non assigné",
          "Technicien C",
          "Non assigné",
          "Non assigné",
          "Non assigné",
          "Non assigné",
          "Non assigné",
          "Non assigné",
          "Technicien C",
          "Technicien C"
         ],
         "textfont": {
          "size": 10
         },
         "textposition": "inside",
         "type": "bar",
         "x": {
          "bdata": "AFwmBQBcJgUAXCYFAFwmBQBcJgUAXCYFAFwmBQBcJgUAXCYFAFwmBQBcJgUAXCYFAFwmBQBcJgUAXCYFAFwmBQBcJgUAXCYFAFwmBQBcJgUAXCYFAFwmBQBcJgUAXCYFAFwmBQBcJgUAXCYFAFwmBQBcJgUAXCYF",
          "dtype": "i4"
         },
         "xaxis": "x",
         "y": [
          "Moteur principal",
          "Moteur principal",
          "Moteur principal",
          "Pompe hydraulique",
          "Pompe hydraulique",
          "Pompe hydraulique",
          "Transmission",
          "Transmission",
          "Transmission",
          "Circuit de refroidissement",
          "Circuit de refroidissement",
          "Circuit de refroidissement",
          "Lubrification moteur",
          "Lubrification moteur",
          "Lubrification moteur",
          "PTO avant",
          "PTO avant",
          "PTO avant",
          "Circuit de freinage",
          "Circuit de freinage",
          "Circuit de freinage",
          "Direction hydraulique",
          "Direction hydraulique",
          "Direction hydraulique",
          "Régime moteur",
          "Régime moteur",
          "Régime moteur",
          "Essieux avant",
          "Essieux avant",
          "Essieux avant"
         ],
         "yaxis": "y"
        },
        {
         "base": [
          "2025-04-03T00:00:00.000000000",
          "2025-04-06T00:00:00.000000000",
          "2025-04-09T00:00:00.000000000",
          "2025-04-03T00:00:00.000000000",
          "2025-04-06T00:00:00.000000000",
          "2025-04-09T00:00:00.000000000",
          "2025-04-01T00:00:00.000000000",
          "2025-04-04T00:00:00.000000000",
          "2025-04-07T00:00:00.000000000",
          "2025-04-10T00:00:00.000000000",
          "2025-04-02T00:00:00.000000000",
          "2025-04-05T00:00:00.000000000",
          "2025-04-08T00:00:00.000000000",
          "2025-04-11T00:00:00.000000000",
          "2025-04-03T00:00:00.000000000",
          "2025-04-06T00:00:00.000000000",
          "2025-04-09T00:00:00.000000000",
          "2025-04-03T00:00:00.000000000",
          "2025-04-06T00:00:00.000000000",
          "2025-04-09T00:00:00.000000000",
          "2025-04-03T00:00:00.000000000",
          "2025-04-06T00:00:00.000000000",
          "2025-04-09T00:00:00.000000000",
          "2025-04-03T00:00:00.000000000",
          "2025-04-06T00:00:00.000000000",
          "2025-04-09T00:00:00.000000000",
          "2025-04-01T00:00:00.000000000",
          "2025-04-04T00:00:00.000000000",
          "2025-04-07T00:00:00.000000000",
          "2025-04-10T00:00:00.000000000",
          "2025-04-02T00:00:00.000000000",
          "2025-04-05T00:00:00.000000000",
          "2025-04-08T00:00:00.000000000",
          "2025-04-11T00:00:00.000000000"
         ],
         "hovertemplate": "Maintenance=Contrôle<br>Start=%{base}<br>Finish=%{x}<br>Composant=%{y}<br>Technicien=%{text}<extra></extra>",
         "insidetextanchor": "middle",
         "legendgroup": "Contrôle",
         "marker": {
          "color": "#00cc96",
          "pattern": {
           "shape": ""
          }
         },
         "name": "Contrôle",
         "orientation": "h",
         "showlegend": true,
         "text": [
          "Non assigné",
          "Non assigné",
          "Non assigné",
          "Technicien A",
          "Technicien A",
          "Non assigné",
          "Technicien A",
          "Technicien A",
          "Technicien A",
          "Technicien A",
          "Technicien A",
          "Technicien A",
          "Technicien A",
          "Technicien A",
          "Non assigné",
          "Non assigné",
          "Non assigné",
          "Technicien A",
          "Non assigné",
          "Non assigné",
          "Non assigné",
          "Non assigné",
          "Technicien A",
          "Non assigné",
          "Technicien A",
          "Technicien A",
          "Technicien A",
          "Technicien A",
          "Technicien A",
          "Technicien A",
          "Technicien A",
          "Technicien A",
          "Technicien A",
          "Technicien A"
         ],
         "textfont": {
          "size": 10
         },
         "textposition": "inside",
         "type": "bar",
         "x": {
          "bdata": "AFwmBQBcJgUAXCYFAFwmBQBcJgUAXCYFAFwmBQBcJgUAXCYFAFwmBQBcJgUAXCYFAFwmBQBcJgUAXCYFAFwmBQBcJgUAXCYFAFwmBQBcJgUAXCYFAFwmBQBcJgUAXCYFAFwmBQBcJgUAXCYFAFwmBQBcJgUAXCYFAFwmBQBcJgUAXCYFAFwmBQ==",
          "dtype": "i4"
         },
         "xaxis": "x",
         "y": [
          "Moteur principal",
          "Moteur principal",
          "Moteur principal",
          "Pompe hydraulique",
          "Pompe hydraulique",
          "Pompe hydraulique",
          "Transmission",
          "Transmission",
          "Transmission",
          "Transmission",
          "Circuit de refroidissement",
          "Circuit de refroidissement",
          "Circuit de refroidissement",
          "Circuit de refroidissement",
          "Lubrification moteur",
          "Lubrification moteur",
          "Lubrification moteur",
          "PTO avant",
          "PTO avant",
          "PTO avant",
          "Circuit de freinage",
          "Circuit de freinage",
          "Circuit de freinage",
          "Direction hydraulique",
          "Direction hydraulique",
          "Direction hydraulique",
          "Régime moteur",
          "Régime moteur",
          "Régime moteur",
          "Régime moteur",
          "Essieux avant",
          "Essieux avant",
          "Essieux avant",
          "Essieux avant"
         ],
         "yaxis": "y"
        },
        {
         "base": [
          "2025-04-03T00:00:00.000000000",
          "2025-04-06T00:00:00.000000000",
          "2025-04-09T00:00:00.000000000",
          "2025-04-03T00:00:00.000000000",
          "2025-04-06T00:00:00.000000000",
          "2025-04-09T00:00:00.000000000",
          "2025-04-03T00:00:00.000000000",
          "2025-04-06T00:00:00.000000000",
          "2025-04-09T00:00:00.000000000",
          "2025-04-03T00:00:00.000000000",
          "2025-04-06T00:00:00.000000000",
          "2025-04-09T00:00:00.000000000",
          "2025-04-02T00:00:00.000000000",
          "2025-04-05T00:00:00.000000000",
          "2025-04-08T00:00:00.000000000",
          "2025-04-11T00:00:00.000000000",
          "2025-04-03T00:00:00.000000000",
          "2025-04-06T00:00:00.000000000",
          "2025-04-09T00:00:00.000000000",
          "2025-04-01T00:00:00.000000000",
          "2025-04-04T00:00:00.000000000",
          "2025-04-07T00:00:00.000000000",
          "2025-04-10T00:00:00.000000000",
          "2025-04-01T00:00:00.000000000",
          "2025-04-04T00:00:00.000000000",
          "2025-04-07T00:00:00.000000000",
          "2025-04-10T00:00:00.000000000",
          "2025-04-02T00:00:00.000000000",
          "2025-04-05T00:00:00.000000000",
          "2025-04-08T00:00:00.000000000",
          "2025-04-11T00:00:00.000000000",
          "2025-04-03T00:00:00.000000000",
          "2025-04-06T00:00:00.000000000",
          "2025-04-09T00:00:00.000000000"
         ],
         "hovertemplate": "Maintenance=Vidange<br>Start=%{base}<br>Finish=%{x}<br>Composant=%{y}<br>Technicien=%{text}<extra></extra>",
         "insidetextanchor": "middle",
         "legendgroup": "Vidange",
         "marker": {
          "color": "#ab63fa",
          "pattern": {
           "shape": ""
          }
         },
         "name": "Vidange",
         "orientation": "h",
         "showlegend": true,
         "text": [
          "Non assigné",
          "Non assigné",
          "Technicien A",
          "Non assigné",
          "Technicien A",
          "Non assigné",
          "Technicien A",
          "Non assigné",
          "Non assigné",
          "Non assigné",
          "Non assigné",
          "Technicien A",
          "Technicien A",
          "Technicien A",
          "Technicien A",
          "Technicien A",
          "Non assigné",
          "Technicien A",
          "Non assigné",
          "Technicien A",
          "Technicien A",
          "Technicien A",
          "Technicien A",
          "Technicien A",
          "Technicien A",
          "Technicien A",
          "Technicien A",
          "Technicien A",
          "Technicien A",
          "Technicien A",
          "Technicien A",
          "Technicien A",
          "Non assigné",
          "Non assigné"
         ],
         "textfont": {
          "size": 10
         },
         "textposition": "inside",
         "type": "bar",
         "x": {
          "bdata": "AFwmBQBcJgUAXCYFAFwmBQBcJgUAXCYFAFwmBQBcJgUAXCYFAFwmBQBcJgUAXCYFAFwmBQBcJgUAXCYFAFwmBQBcJgUAXCYFAFwmBQBcJgUAXCYFAFwmBQBcJgUAXCYFAFwmBQBcJgUAXCYFAFwmBQBcJgUAXCYFAFwmBQBcJgUAXCYFAFwmBQ==",
          "dtype": "i4"
         },
         "xaxis": "x",
         "y": [
          "Moteur principal",
          "Moteur principal",
          "Moteur principal",
          "Pompe hydraulique",
          "Pompe hydraulique",
          "Pompe hydraulique",
          "Transmission",
          "Transmission",
          "Transmission",
          "Circuit de refroidissement",
          "Circuit de refroidissement",
          "Circuit de refroidissement",
          "Lubrification moteur",
          "Lubrification moteur",
          "Lubrification moteur",
          "Lubrification moteur",
          "PTO avant",
          "PTO avant",
          "PTO avant",
          "Circuit de freinage",
          "Circuit de freinage",
          "Circuit de freinage",
          "Circuit de freinage",
          "Direction hydraulique",
          "Direction hydraulique",
          "Direction hydraulique",
          "Direction hydraulique",
          "Régime moteur",
          "Régime moteur",
          "Régime moteur",
          "Régime moteur",
          "Essieux avant",
          "Essieux avant",
          "Essieux avant"
         ],
         "yaxis": "y"
        },
        {
         "base": [
          "2025-04-01T00:00:00.000000000",
          "2025-04-04T00:00:00.000000000",
          "2025-04-07T00:00:00.000000000",
          "2025-04-10T00:00:00.000000000",
          "2025-04-03T00:00:00.000000000",
          "2025-04-06T00:00:00.000000000",
          "2025-04-09T00:00:00.000000000",
          "2025-04-03T00:00:00.000000000",
          "2025-04-06T00:00:00.000000000",
          "2025-04-09T00:00:00.000000000",
          "2025-04-02T00:00:00.000000000",
          "2025-04-05T00:00:00.000000000",
          "2025-04-08T00:00:00.000000000",
          "2025-04-11T00:00:00.000000000",
          "2025-04-03T00:00:00.000000000",
          "2025-04-06T00:00:00.000000000",
          "2025-04-09T00:00:00.000000000",
          "2025-04-02T00:00:00.000000000",
          "2025-04-05T00:00:00.000000000",
          "2025-04-08T00:00:00.000000000",
          "2025-04-11T00:00:00.000000000",
          "2025-04-03T00:00:00.000000000",
          "2025-04-06T00:00:00.000000000",
          "2025-04-09T00:00:00.000000000",
          "2025-04-03T00:00:00.000000000",
          "2025-04-06T00:00:00.000000000",
          "2025-04-09T00:00:00.000000000",
          "2025-04-01T00:00:00.000000000",
          "2025-04-04T00:00:00.000000000",
          "2025-04-07T00:00:00.000000000",
          "2025-04-10T00:00:00.000000000",
          "2025-04-03T00:00:00.000000000",
          "2025-04-06T00:00:00.000000000",
          "2025-04-09T00:00:00.000000000"
         ],
         "hovertemplate": "Maintenance=Graissage<br>Start=%{base}<br>Finish=%{x}<br>Composant=%{y}<br>Technicien=%{text}<extra></extra>",
         "insidetextanchor": "middle",
         "legendgroup": "Graissage",
         "marker": {
          "color": "#FFA15A",
          "pattern": {
           "shape": ""
          }
         },
         "name": "Graissage",
         "orientation": "h",
         "showlegend": true,
         "text": [
          "Technicien A",
          "Technicien A",
          "Technicien A",
          "Technicien A",
          "Non assigné",
          "Technicien A",
          "Non assigné",
          "Non assigné",
          "Non assigné",
          "Non assigné",
          "Technicien A",
          "Technicien A",
          "Technicien A",
          "Technicien A",
          "Non assigné",
          "Non assigné",
          "Non assigné",
          "Technicien A",
          "Technicien A",
          "Technicien A",
          "Technicien A",
          "Technicien A",
          "Non assigné",
          "Technicien A",
          "Non assigné",
          "Technicien A",
          "Non assigné",
          "Technicien A",
          "Technicien A",
          "Technicien A",
          "Technicien A",
          "Technicien A",
          "Non assigné",
          "Technicien A"
         ],
         "textfont": {
          "size": 10
         },
         "textposition": "inside",
         "type": "bar",
         "x": {
          "bdata": "AFwmBQBcJgUAXCYFAFwmBQBcJgUAXCYFAFwmBQBcJgUAXCYFAFwmBQBcJgUAXCYFAFwmBQBcJgUAXCYFAFwmBQBcJgUAXCYFAFwmBQBcJgUAXCYFAFwmBQBcJgUAXCYFAFwmBQBcJgUAXCYFAFwmBQBcJgUAXCYFAFwmBQBcJgUAXCYFAFwmBQ==",
          "dtype": "i4"
         },
         "xaxis": "x",
         "y": [
          "Moteur principal",
          "Moteur principal",
          "Moteur principal",
          "Moteur principal",
          "Pompe hydraulique",
          "Pompe hydraulique",
          "Pompe hydraulique",
          "Transmission",
          "Transmission",
          "Transmission",
          "Circuit de refroidissement",
          "Circuit de refroidissement",
          "Circuit de refroidissement",
          "Circuit de refroidissement",
          "Lubrification moteur",
          "Lubrification moteur",
          "Lubrification moteur",
          "PTO avant",
          "PTO avant",
          "PTO avant",
          "PTO avant",
          "Circuit de freinage",
          "Circuit de freinage",
          "Circuit de freinage",
          "Direction hydraulique",
          "Direction hydraulique",
          "Direction hydraulique",
          "Régime moteur",
          "Régime moteur",
          "Régime moteur",
          "Régime moteur",
          "Essieux avant",
          "Essieux avant",
          "Essieux avant"
         ],
         "yaxis": "y"
        },
        {
         "base": [
          "2025-04-03T00:00:00.000000000",
          "2025-04-06T00:00:00.000000000",
          "2025-04-09T00:00:00.000000000",
          "2025-04-03T00:00:00.000000000",
          "2025-04-06T00:00:00.000000000",
          "2025-04-09T00:00:00.000000000",
          "2025-04-03T00:00:00.000000000",
          "2025-04-06T00:00:00.000000000",
          "2025-04-09T00:00:00.000000000",
          "2025-04-01T00:00:00.000000000",
          "2025-04-04T00:00:00.000000000",
          "2025-04-07T00:00:00.000000000",
          "2025-04-10T00:00:00.000000000",
          "2025-04-03T00:00:00.000000000",
          "2025-04-06T00:00:00.000000000",
          "2025-04-09T00:00:00.000000000",
          "2025-04-02T00:00:00.000000000",
          "2025-04-05T00:00:00.000000000",
          "2025-04-08T00:00:00.000000000",
          "2025-04-11T00:00:00.000000000",
          "2025-04-01T00:00:00.000000000",
          "2025-04-04T00:00:00.000000000",
          "2025-04-07T00:00:00.000000000",
          "2025-04-10T00:00:00.000000000",
          "2025-04-03T00:00:00.000000000",
          "2025-04-06T00:00:00.000000000",
          "2025-04-09T00:00:00.000000000",
          "2025-04-02T00:00:00.000000000",
          "2025-04-05T00:00:00.000000000",
          "2025-04-08T00:00:00.000000000",
          "2025-04-11T00:00:00.000000000",
          "2025-04-03T00:00:00.000000000",
          "2025-04-06T00:00:00.000000000",
          "2025-04-09T00:00:00.000000000"
         ],
         "hovertemplate": "Maintenance=Lubrification<br>Start=%{base}<br>Finish=%{x}<br>Composant=%{y}<br>Technicien=%{text}<extra></extra>",
         "insidetextanchor": "middle",
         "legendgroup": "Lubrification",
         "marker": {
          "color": "#19d3f3",
          "pattern": {
           "shape": ""
          }
         },
         "name": "Lubrification",
         "orientation": "h",
         "showlegend": true,
         "text": [
          "Non assigné",
          "Non assigné",
          "Technicien B",
          "Non assigné",
          "Technicien B",
          "Non assigné",
          "Technicien B",
          "Non assigné",
          "Non assigné",
          "Technicien B",
          "Technicien B",
          "Technicien B",
          "Technicien B",
          "Non assigné",
          "Non assigné",
          "Non assigné",
          "Technicien B",
          "Technicien B",
          "Technicien B",
          "Technicien B",
          "Technicien B",
          "Technicien B",
          "Technicien B",
          "Technicien B",
          "Non assigné",
          "Technicien B",
          "Technicien B",
          "Technicien B",
          "Technicien B",
          "Technicien B",
          "Technicien B",
          "Technicien B",
          "Non assigné",
          "Non assigné"
         ],
         "textfont": {
          "size": 10
         },
         "textposition": "inside",
         "type": "bar",
         "x": {
          "bdata": "AFwmBQBcJgUAXCYFAFwmBQBcJgUAXCYFAFwmBQBcJgUAXCYFAFwmBQBcJgUAXCYFAFwmBQBcJgUAXCYFAFwmBQBcJgUAXCYFAFwmBQBcJgUAXCYFAFwmBQBcJgUAXCYFAFwmBQBcJgUAXCYFAFwmBQBcJgUAXCYFAFwmBQBcJgUAXCYFAFwmBQ==",
          "dtype": "i4"
         },
         "xaxis": "x",
         "y": [
          "Moteur principal",
          "Moteur principal",
          "Moteur principal",
          "Pompe hydraulique",
          "Pompe hydraulique",
          "Pompe hydraulique",
          "Transmission",
          "Transmission",
          "Transmission",
          "Circuit de refroidissement",
          "Circuit de refroidissement",
          "Circuit de refroidissement",
          "Circuit de refroidissement",
          "Lubrification moteur",
          "Lubrification moteur",
          "Lubrification moteur",
          "PTO avant",
          "PTO avant",
          "PTO avant",
          "PTO avant",
          "Circuit de freinage",
          "Circuit de freinage",
          "Circuit de freinage",
          "Circuit de freinage",
          "Direction hydraulique",
          "Direction hydraulique",
          "Direction hydraulique",
          "Régime moteur",
          "Régime moteur",
          "Régime moteur",
          "Régime moteur",
          "Essieux avant",
          "Essieux avant",
          "Essieux avant"
         ],
         "yaxis": "y"
        },
        {
         "base": [
          "2025-04-03T00:00:00.000000000",
          "2025-04-06T00:00:00.000000000",
          "2025-04-09T00:00:00.000000000",
          "2025-04-06T00:00:00.000000000",
          "2025-04-06T00:00:00.000000000",
          "2025-04-03T00:00:00.000000000",
          "2025-04-06T00:00:00.000000000",
          "2025-04-02T00:00:00.000000000",
          "2025-04-05T00:00:00.000000000",
          "2025-04-08T00:00:00.000000000",
          "2025-04-04T00:00:00.000000000",
          "2025-04-07T00:00:00.000000000",
          "2025-04-02T00:00:00.000000000",
          "2025-04-06T00:00:00.000000000",
          "2025-04-06T00:00:00.000000000",
          "2025-04-10T00:00:00.000000000",
          "2025-04-01T00:00:00.000000000",
          "2025-04-04T00:00:00.000000000",
          "2025-04-07T00:00:00.000000000",
          "2025-04-10T00:00:00.000000000",
          "2025-04-06T00:00:00.000000000",
          "2025-04-09T00:00:00.000000000"
         ],
         "hovertemplate": "Maintenance=Amélioration<br>Start=%{base}<br>Finish=%{x}<br>Composant=%{y}<br>Technicien=%{text}<extra></extra>",
         "insidetextanchor": "middle",
         "legendgroup": "Amélioration",
         "marker": {
          "color": "#FF6692",
          "pattern": {
           "shape": ""
          }
         },
         "name": "Amélioration",
         "orientation": "h",
         "showlegend": true,
         "text": [
          "Technicien C",
          "Technicien C",
          "Technicien C",
          "Technicien C",
          "Technicien C",
          "Technicien C",
          "Technicien C",
          "Technicien C",
          "Technicien C",
          "Technicien C",
          "Technicien C",
          "Technicien C",
          "Technicien C",
          "Technicien C",
          "Technicien C",
          "Technicien C",
          "Technicien C",
          "Technicien C",
          "Technicien C",
          "Technicien C",
          "Technicien C",
          "Technicien C"
         ],
         "textfont": {
          "size": 10
         },
         "textposition": "inside",
         "type": "bar",
         "x": {
          "bdata": "AFwmBQBcJgUAXCYFAFwmBQBcJgUAXCYFAFwmBQBcJgUAXCYFAFwmBQBcJgUAXCYFAFwmBQBcJgUAXCYFAFwmBQBcJgUAXCYFAFwmBQBcJgUAXCYFAFwmBQ==",
          "dtype": "i4"
         },
         "xaxis": "x",
         "y": [
          "Moteur principal",
          "Moteur principal",
          "Moteur principal",
          "Pompe hydraulique",
          "Transmission",
          "Circuit de refroidissement",
          "Circuit de refroidissement",
          "Lubrification moteur",
          "Lubrification moteur",
          "Lubrification moteur",
          "PTO avant",
          "PTO avant",
          "Circuit de freinage",
          "Circuit de freinage",
          "Direction hydraulique",
          "Direction hydraulique",
          "Régime moteur",
          "Régime moteur",
          "Régime moteur",
          "Régime moteur",
          "Essieux avant",
          "Essieux avant"
         ],
         "yaxis": "y"
        },
        {
         "base": [
          "2025-04-03T00:00:00.000000000",
          "2025-04-06T00:00:00.000000000",
          "2025-04-09T00:00:00.000000000",
          "2025-04-03T00:00:00.000000000",
          "2025-04-05T00:00:00.000000000",
          "2025-04-08T00:00:00.000000000",
          "2025-04-09T00:00:00.000000000",
          "2025-04-03T00:00:00.000000000",
          "2025-04-06T00:00:00.000000000",
          "2025-04-09T00:00:00.000000000",
          "2025-04-01T00:00:00.000000000",
          "2025-04-04T00:00:00.000000000",
          "2025-04-07T00:00:00.000000000",
          "2025-04-10T00:00:00.000000000",
          "2025-04-03T00:00:00.000000000",
          "2025-04-06T00:00:00.000000000",
          "2025-04-09T00:00:00.000000000",
          "2025-04-03T00:00:00.000000000",
          "2025-04-06T00:00:00.000000000",
          "2025-04-09T00:00:00.000000000",
          "2025-04-03T00:00:00.000000000",
          "2025-04-06T00:00:00.000000000",
          "2025-04-09T00:00:00.000000000",
          "2025-04-02T00:00:00.000000000",
          "2025-04-05T00:00:00.000000000",
          "2025-04-08T00:00:00.000000000",
          "2025-04-11T00:00:00.000000000",
          "2025-04-02T00:00:00.000000000",
          "2025-04-05T00:00:00.000000000",
          "2025-04-08T00:00:00.000000000",
          "2025-04-11T00:00:00.000000000",
          "2025-04-01T00:00:00.000000000",
          "2025-04-04T00:00:00.000000000",
          "2025-04-07T00:00:00.000000000",
          "2025-04-10T00:00:00.000000000"
         ],
         "hovertemplate": "Maintenance=Inspection<br>Start=%{base}<br>Finish=%{x}<br>Composant=%{y}<br>Technicien=%{text}<extra></extra>",
         "insidetextanchor": "middle",
         "legendgroup": "Inspection",
         "marker": {
          "color": "#B6E880",
          "pattern": {
           "shape": ""
          }
         },
         "name": "Inspection",
         "orientation": "h",
         "showlegend": true,
         "text": [
          "Non assigné",
          "Non assigné",
          "Non assigné",
          "Technicien B",
          "Non assigné",
          "Technicien B",
          "Non assigné",
          "Non assigné",
          "Non assigné",
          "Technicien C",
          "Technicien B",
          "Technicien B",
          "Technicien B",
          "Technicien B",
          "Non assigné",
          "Non assigné",
          "Non assigné",
          "Non assigné",
          "Technicien B",
          "Technicien B",
          "Technicien B",
          "Technicien B",
          "Non assigné",
          "Technicien B",
          "Technicien B",
          "Technicien B",
          "Technicien C",
          "Technicien B",
          "Technicien B",
          "Non assigné",
          "Technicien B",
          "Technicien B",
          "Technicien C",
          "Technicien B",
          "Technicien B"
         ],
         "textfont": {
          "size": 10
         },
         "textposition": "inside",
         "type": "bar",
         "x": {
          "bdata": "AFwmBQBcJgUAXCYFAFwmBQBcJgUAXCYFAFwmBQBcJgUAXCYFAFwmBQBcJgUAXCYFAFwmBQBcJgUAXCYFAFwmBQBcJgUAXCYFAFwmBQBcJgUAXCYFAFwmBQBcJgUAXCYFAFwmBQBcJgUAXCYFAFwmBQBcJgUAXCYFAFwmBQBcJgUAXCYFAFwmBQBcJgU=",
          "dtype": "i4"
         },
         "xaxis": "x",
         "y": [
          "Moteur principal",
          "Moteur principal",
          "Moteur principal",
          "Pompe hydraulique",
          "Pompe hydraulique",
          "Pompe hydraulique",
          "Pompe hydraulique",
          "Transmission",
          "Transmission",
          "Transmission",
          "Circuit de refroidissement",
          "Circuit de refroidissement",
          "Circuit de refroidissement",
          "Circuit de refroidissement",
          "Lubrification moteur",
          "Lubrification moteur",
          "Lubrification moteur",
          "PTO avant",
          "PTO avant",
          "PTO avant",
          "Circuit de freinage",
          "Circuit de freinage",
          "Circuit de freinage",
          "Direction hydraulique",
          "Direction hydraulique",
          "Direction hydraulique",
          "Direction hydraulique",
          "Régime moteur",
          "Régime moteur",
          "Régime moteur",
          "Régime moteur",
          "Essieux avant",
          "Essieux avant",
          "Essieux avant",
          "Essieux avant"
         ],
         "yaxis": "y"
        }
       ],
       "layout": {
        "barmode": "overlay",
        "legend": {
         "title": {
          "text": "Maintenance"
         },
         "tracegroupgap": 0
        },
        "margin": {
         "t": 60
        },
        "template": {
         "data": {
          "bar": [
           {
            "error_x": {
             "color": "#2a3f5f"
            },
            "error_y": {
             "color": "#2a3f5f"
            },
            "marker": {
             "line": {
              "color": "#E5ECF6",
              "width": 0.5
             },
             "pattern": {
              "fillmode": "overlay",
              "size": 10,
              "solidity": 0.2
             }
            },
            "type": "bar"
           }
          ],
          "barpolar": [
           {
            "marker": {
             "line": {
              "color": "#E5ECF6",
              "width": 0.5
             },
             "pattern": {
              "fillmode": "overlay",
              "size": 10,
              "solidity": 0.2
             }
            },
            "type": "barpolar"
           }
          ],
          "carpet": [
           {
            "aaxis": {
             "endlinecolor": "#2a3f5f",
             "gridcolor": "white",
             "linecolor": "white",
             "minorgridcolor": "white",
             "startlinecolor": "#2a3f5f"
            },
            "baxis": {
             "endlinecolor": "#2a3f5f",
             "gridcolor": "white",
             "linecolor": "white",
             "minorgridcolor": "white",
             "startlinecolor": "#2a3f5f"
            },
            "type": "carpet"
           }
          ],
          "choropleth": [
           {
            "colorbar": {
             "outlinewidth": 0,
             "ticks": ""
            },
            "type": "choropleth"
           }
          ],
          "contour": [
           {
            "colorbar": {
             "outlinewidth": 0,
             "ticks": ""
            },
            "colorscale": [
             [
              0,
              "#0d0887"
             ],
             [
              0.1111111111111111,
              "#46039f"
             ],
             [
              0.2222222222222222,
              "#7201a8"
             ],
             [
              0.3333333333333333,
              "#9c179e"
             ],
             [
              0.4444444444444444,
              "#bd3786"
             ],
             [
              0.5555555555555556,
              "#d8576b"
             ],
             [
              0.6666666666666666,
              "#ed7953"
             ],
             [
              0.7777777777777778,
              "#fb9f3a"
             ],
             [
              0.8888888888888888,
              "#fdca26"
             ],
             [
              1,
              "#f0f921"
             ]
            ],
            "type": "contour"
           }
          ],
          "contourcarpet": [
           {
            "colorbar": {
             "outlinewidth": 0,
             "ticks": ""
            },
            "type": "contourcarpet"
           }
          ],
          "heatmap": [
           {
            "colorbar": {
             "outlinewidth": 0,
             "ticks": ""
            },
            "colorscale": [
             [
              0,
              "#0d0887"
             ],
             [
              0.1111111111111111,
              "#46039f"
             ],
             [
              0.2222222222222222,
              "#7201a8"
             ],
             [
              0.3333333333333333,
              "#9c179e"
             ],
             [
              0.4444444444444444,
              "#bd3786"
             ],
             [
              0.5555555555555556,
              "#d8576b"
             ],
             [
              0.6666666666666666,
              "#ed7953"
             ],
             [
              0.7777777777777778,
              "#fb9f3a"
             ],
             [
              0.8888888888888888,
              "#fdca26"
             ],
             [
              1,
              "#f0f921"
             ]
            ],
            "type": "heatmap"
           }
          ],
          "histogram": [
           {
            "marker": {
             "pattern": {
              "fillmode": "overlay",
              "size": 10,
              "solidity": 0.2
             }
            },
            "type": "histogram"
           }
          ],
          "histogram2d": [
           {
            "colorbar": {
             "outlinewidth": 0,
             "ticks": ""
            },
            "colorscale": [
             [
              0,
              "#0d0887"
             ],
             [
              0.1111111111111111,
              "#46039f"
             ],
             [
              0.2222222222222222,
              "#7201a8"
             ],
             [
              0.3333333333333333,
              "#9c179e"
             ],
             [
              0.4444444444444444,
              "#bd3786"
             ],
             [
              0.5555555555555556,
              "#d8576b"
             ],
             [
              0.6666666666666666,
              "#ed7953"
             ],
             [
              0.7777777777777778,
              "#fb9f3a"
             ],
             [
              0.8888888888888888,
              "#fdca26"
             ],
             [
              1,
              "#f0f921"
             ]
            ],
            "type": "histogram2d"
           }
          ],
          "histogram2dcontour": [
           {
            "colorbar": {
             "outlinewidth": 0,
             "ticks": ""
            },
            "colorscale": [
             [
              0,
              "#0d0887"
             ],
             [
              0.1111111111111111,
              "#46039f"
             ],
             [
              0.2222222222222222,
              "#7201a8"
             ],
             [
              0.3333333333333333,
              "#9c179e"
             ],
             [
              0.4444444444444444,
              "#bd3786"
             ],
             [
              0.5555555555555556,
              "#d8576b"
             ],
             [
              0.6666666666666666,
              "#ed7953"
             ],
             [
              0.7777777777777778,
              "#fb9f3a"
             ],
             [
              0.8888888888888888,
              "#fdca26"
             ],
             [
              1,
              "#f0f921"
             ]
            ],
            "type": "histogram2dcontour"
           }
          ],
          "mesh3d": [
           {
            "colorbar": {
             "outlinewidth": 0,
             "ticks": ""
            },
            "type": "mesh3d"
           }
          ],
          "parcoords": [
           {
            "line": {
             "colorbar": {
              "outlinewidth": 0,
              "ticks": ""
             }
            },
            "type": "parcoords"
           }
          ],
          "pie": [
           {
            "automargin": true,
            "type": "pie"
           }
          ],
          "scatter": [
           {
            "fillpattern": {
             "fillmode": "overlay",
             "size": 10,
             "solidity": 0.2
            },
            "type": "scatter"
           }
          ],
          "scatter3d": [
           {
            "line": {
             "colorbar": {
              "outlinewidth": 0,
              "ticks": ""
             }
            },
            "marker": {
             "colorbar": {
              "outlinewidth": 0,
              "ticks": ""
             }
            },
            "type": "scatter3d"
           }
          ],
          "scattercarpet": [
           {
            "marker": {
             "colorbar": {
              "outlinewidth": 0,
              "ticks": ""
             }
            },
            "type": "scattercarpet"
           }
          ],
          "scattergeo": [
           {
            "marker": {
             "colorbar": {
              "outlinewidth": 0,
              "ticks": ""
             }
            },
            "type": "scattergeo"
           }
          ],
          "scattergl": [
           {
            "marker": {
             "colorbar": {
              "outlinewidth": 0,
              "ticks": ""
             }
            },
            "type": "scattergl"
           }
          ],
          "scattermap": [
           {
            "marker": {
             "colorbar": {
              "outlinewidth": 0,
              "ticks": ""
             }
            },
            "type": "scattermap"
           }
          ],
          "scattermapbox": [
           {
            "marker": {
             "colorbar": {
              "outlinewidth": 0,
              "ticks": ""
             }
            },
            "type": "scattermapbox"
           }
          ],
          "scatterpolar": [
           {
            "marker": {
             "colorbar": {
              "outlinewidth": 0,
              "ticks": ""
             }
            },
            "type": "scatterpolar"
           }
          ],
          "scatterpolargl": [
           {
            "marker": {
             "colorbar": {
              "outlinewidth": 0,
              "ticks": ""
             }
            },
            "type": "scatterpolargl"
           }
          ],
          "scatterternary": [
           {
            "marker": {
             "colorbar": {
              "outlinewidth": 0,
              "ticks": ""
             }
            },
            "type": "scatterternary"
           }
          ],
          "surface": [
           {
            "colorbar": {
             "outlinewidth": 0,
             "ticks": ""
            },
            "colorscale": [
             [
              0,
              "#0d0887"
             ],
             [
              0.1111111111111111,
              "#46039f"
             ],
             [
              0.2222222222222222,
              "#7201a8"
             ],
             [
              0.3333333333333333,
              "#9c179e"
             ],
             [
              0.4444444444444444,
              "#bd3786"
             ],
             [
              0.5555555555555556,
              "#d8576b"
             ],
             [
              0.6666666666666666,
              "#ed7953"
             ],
             [
              0.7777777777777778,
              "#fb9f3a"
             ],
             [
              0.8888888888888888,
              "#fdca26"
             ],
             [
              1,
              "#f0f921"
             ]
            ],
            "type": "surface"
           }
          ],
          "table": [
           {
            "cells": {
             "fill": {
              "color": "#EBF0F8"
             },
             "line": {
              "color": "white"
             }
            },
            "header": {
             "fill": {
              "color": "#C8D4E3"
             },
             "line": {
              "color": "white"
             }
            },
            "type": "table"
           }
          ]
         },
         "layout": {
          "annotationdefaults": {
           "arrowcolor": "#2a3f5f",
           "arrowhead": 0,
           "arrowwidth": 1
          },
          "autotypenumbers": "strict",
          "coloraxis": {
           "colorbar": {
            "outlinewidth": 0,
            "ticks": ""
           }
          },
          "colorscale": {
           "diverging": [
            [
             0,
             "#8e0152"
            ],
            [
             0.1,
             "#c51b7d"
            ],
            [
             0.2,
             "#de77ae"
            ],
            [
             0.3,
             "#f1b6da"
            ],
            [
             0.4,
             "#fde0ef"
            ],
            [
             0.5,
             "#f7f7f7"
            ],
            [
             0.6,
             "#e6f5d0"
            ],
            [
             0.7,
             "#b8e186"
            ],
            [
             0.8,
             "#7fbc41"
            ],
            [
             0.9,
             "#4d9221"
            ],
            [
             1,
             "#276419"
            ]
           ],
           "sequential": [
            [
             0,
             "#0d0887"
            ],
            [
             0.1111111111111111,
             "#46039f"
            ],
            [
             0.2222222222222222,
             "#7201a8"
            ],
            [
             0.3333333333333333,
             "#9c179e"
            ],
            [
             0.4444444444444444,
             "#bd3786"
            ],
            [
             0.5555555555555556,
             "#d8576b"
            ],
            [
             0.6666666666666666,
             "#ed7953"
            ],
            [
             0.7777777777777778,
             "#fb9f3a"
            ],
            [
             0.8888888888888888,
             "#fdca26"
            ],
            [
             1,
             "#f0f921"
            ]
           ],
           "sequentialminus": [
            [
             0,
             "#0d0887"
            ],
            [
             0.1111111111111111,
             "#46039f"
            ],
            [
             0.2222222222222222,
             "#7201a8"
            ],
            [
             0.3333333333333333,
             "#9c179e"
            ],
            [
             0.4444444444444444,
             "#bd3786"
            ],
            [
             0.5555555555555556,
             "#d8576b"
            ],
            [
             0.6666666666666666,
             "#ed7953"
            ],
            [
             0.7777777777777778,
             "#fb9f3a"
            ],
            [
             0.8888888888888888,
             "#fdca26"
            ],
            [
             1,
             "#f0f921"
            ]
           ]
          },
          "colorway": [
           "#636efa",
           "#EF553B",
           "#00cc96",
           "#ab63fa",
           "#FFA15A",
           "#19d3f3",
           "#FF6692",
           "#B6E880",
           "#FF97FF",
           "#FECB52"
          ],
          "font": {
           "color": "#2a3f5f"
          },
          "geo": {
           "bgcolor": "white",
           "lakecolor": "white",
           "landcolor": "#E5ECF6",
           "showlakes": true,
           "showland": true,
           "subunitcolor": "white"
          },
          "hoverlabel": {
           "align": "left"
          },
          "hovermode": "closest",
          "mapbox": {
           "style": "light"
          },
          "paper_bgcolor": "white",
          "plot_bgcolor": "#E5ECF6",
          "polar": {
           "angularaxis": {
            "gridcolor": "white",
            "linecolor": "white",
            "ticks": ""
           },
           "bgcolor": "#E5ECF6",
           "radialaxis": {
            "gridcolor": "white",
            "linecolor": "white",
            "ticks": ""
           }
          },
          "scene": {
           "xaxis": {
            "backgroundcolor": "#E5ECF6",
            "gridcolor": "white",
            "gridwidth": 2,
            "linecolor": "white",
            "showbackground": true,
            "ticks": "",
            "zerolinecolor": "white"
           },
           "yaxis": {
            "backgroundcolor": "#E5ECF6",
            "gridcolor": "white",
            "gridwidth": 2,
            "linecolor": "white",
            "showbackground": true,
            "ticks": "",
            "zerolinecolor": "white"
           },
           "zaxis": {
            "backgroundcolor": "#E5ECF6",
            "gridcolor": "white",
            "gridwidth": 2,
            "linecolor": "white",
            "showbackground": true,
            "ticks": "",
            "zerolinecolor": "white"
           }
          },
          "shapedefaults": {
           "line": {
            "color": "#2a3f5f"
           }
          },
          "ternary": {
           "aaxis": {
            "gridcolor": "white",
            "linecolor": "white",
            "ticks": ""
           },
           "baxis": {
            "gridcolor": "white",
            "linecolor": "white",
            "ticks": ""
           },
           "bgcolor": "#E5ECF6",
           "caxis": {
            "gridcolor": "white",
            "linecolor": "white",
            "ticks": ""
           }
          },
          "title": {
           "x": 0.05
          },
          "xaxis": {
           "automargin": true,
           "gridcolor": "white",
           "linecolor": "white",
           "ticks": "",
           "title": {
            "standoff": 15
           },
           "zerolinecolor": "white",
           "zerolinewidth": 2
          },
          "yaxis": {
           "automargin": true,
           "gridcolor": "white",
           "linecolor": "white",
           "ticks": "",
           "title": {
            "standoff": 15
           },
           "zerolinecolor": "white",
           "zerolinewidth": 2
          }
         }
        },
        "title": {
         "text": "Planification optimisée des maintenances (Modèle stochastique)"
        },
        "xaxis": {
         "anchor": "y",
         "domain": [
          0,
          1
         ],
         "tickformat": "%b %d, %Y",
         "title": {
          "text": "Date"
         },
         "type": "date"
        },
        "yaxis": {
         "anchor": "x",
         "categoryarray": [
          "Moteur principal",
          "Pompe hydraulique",
          "Transmission",
          "Circuit de refroidissement",
          "Lubrification moteur",
          "PTO avant",
          "Circuit de freinage",
          "Direction hydraulique",
          "Régime moteur",
          "Essieux avant"
         ],
         "categoryorder": "array",
         "domain": [
          0,
          1
         ],
         "title": {
          "text": "Composant"
         }
        }
       }
      }
     },
     "metadata": {},
     "output_type": "display_data"
    }
   ],
   "source": [
    "import pandas as pd\n",
    "import plotly.express as px\n",
    "\n",
    "# On prépare les données \"type Gantt enrichi\"\n",
    "gantt_data = []\n",
    "\n",
    "for e in E:\n",
    "    for s in S:\n",
    "        for t in T:\n",
    "            if pulp.value(z[(e, s, t)]) > 0.5:\n",
    "                # Chercher le technicien affecté (x=1)\n",
    "                assigned_techs = [p for p in P if pulp.value(x[(e, s, p, t)]) > 0.5]\n",
    "                tech_str = \", \".join(assigned_techs) if assigned_techs else \"Non assigné\"\n",
    "                \n",
    "                gantt_data.append({\n",
    "                    'Composant': e,\n",
    "                    'Maintenance': s,\n",
    "                    'Technicien': tech_str,\n",
    "                    'Jour': t,\n",
    "                    'Start': pd.Timestamp('2025-04-01') + pd.to_timedelta(t - 1, unit='D'),\n",
    "                    'Finish': pd.Timestamp('2025-04-01') + pd.to_timedelta(t, unit='D')\n",
    "                })\n",
    "\n",
    "# DataFrame Gantt\n",
    "df_gantt = pd.DataFrame(gantt_data)\n",
    "\n",
    "# Créer le Gantt interactif\n",
    "fig = px.timeline(\n",
    "    df_gantt,\n",
    "    x_start=\"Start\",\n",
    "    x_end=\"Finish\",\n",
    "    y=\"Composant\",\n",
    "    color=\"Maintenance\",\n",
    "    text=\"Technicien\",\n",
    "    category_orders={\"Composant\": list(reversed(df_gantt['Composant'].unique()))}\n",
    ")\n",
    "\n",
    "# Ajustements\n",
    "fig.update_yaxes(title=\"Composant\")\n",
    "fig.update_xaxes(title=\"Date\")\n",
    "fig.update_layout(\n",
    "    title=\"Planification optimisée des maintenances (Modèle stochastique)\",\n",
    "    legend_title=\"Maintenance\",\n",
    "    xaxis_tickformat='%b %d, %Y'\n",
    ")\n",
    "\n",
    "# Afficher le texte dans les barres\n",
    "fig.update_traces(insidetextanchor=\"middle\", textposition='inside', textfont_size=10)\n",
    "\n",
    "# Affichage interactif\n",
    "fig.show()\n"
   ]
  },
  {
   "cell_type": "code",
   "execution_count": 13,
   "id": "6ac174a3",
   "metadata": {},
   "outputs": [
    {
     "name": "stdout",
     "output_type": "stream",
     "text": [
      "  Scénario   Pièce  Jour  Achat_supplementaire\n",
      "0   omega1  Piece1     1                   2.4\n",
      "1   omega1  Piece1     2                   2.0\n",
      "2   omega1  Piece1     3                  27.6\n",
      "3   omega1  Piece1     4                   3.4\n",
      "4   omega1  Piece1     5                   2.0\n"
     ]
    }
   ],
   "source": [
    "# Préparer les données achat supplémentaire u\n",
    "achat_data = []\n",
    "\n",
    "for omega in Omega:\n",
    "    for r in R:\n",
    "        for t in T:\n",
    "            val = pulp.value(u[(r, t, omega)])\n",
    "            if val > 0.01:  # seuil pour n'afficher que les achats réels\n",
    "                achat_data.append({\n",
    "                    'Scénario': omega,\n",
    "                    'Pièce': r,\n",
    "                    'Jour': t,\n",
    "                    'Achat_supplementaire': val\n",
    "                })\n",
    "\n",
    "# Créer DataFrame\n",
    "df_achat = pd.DataFrame(achat_data)\n",
    "\n",
    "# Vérif\n",
    "print(df_achat.head())\n"
   ]
  },
  {
   "cell_type": "code",
   "execution_count": 24,
   "id": "b9f25b8e",
   "metadata": {},
   "outputs": [
    {
     "data": {
      "application/vnd.plotly.v1+json": {
       "config": {
        "plotlyServerURL": "https://plot.ly"
       },
       "data": [
        {
         "alignmentgroup": "True",
         "hovertemplate": "Pièce=Piece1<br>Scénario=omega1<br>Jour de planification=%{x}<br>Nombre de pièces achetées=%{text}<extra></extra>",
         "legendgroup": "Piece1",
         "marker": {
          "color": "#636efa",
          "pattern": {
           "shape": ""
          }
         },
         "name": "Piece1",
         "offsetgroup": "Piece1",
         "orientation": "v",
         "showlegend": true,
         "text": {
          "bdata": "MzMzMzMzA0AAAAAAAAAAQJqZmZmZmTtAMzMzMzMzC0AAAAAAAAAAQJqZmZmZmT9AAAAAAAAAOUAAAAAAAAAQQA==",
          "dtype": "f8"
         },
         "textposition": "outside",
         "texttemplate": "%{text:.0f}",
         "type": "bar",
         "x": {
          "bdata": "AQIDBAUGCQo=",
          "dtype": "i1"
         },
         "xaxis": "x3",
         "y": {
          "bdata": "MzMzMzMzA0AAAAAAAAAAQJqZmZmZmTtAMzMzMzMzC0AAAAAAAAAAQJqZmZmZmT9AAAAAAAAAOUAAAAAAAAAQQA==",
          "dtype": "f8"
         },
         "yaxis": "y3"
        },
        {
         "alignmentgroup": "True",
         "hovertemplate": "Pièce=Piece1<br>Scénario=omega2<br>Jour de planification=%{x}<br>Nombre de pièces achetées=%{text}<extra></extra>",
         "legendgroup": "Piece1",
         "marker": {
          "color": "#636efa",
          "pattern": {
           "shape": ""
          }
         },
         "name": "Piece1",
         "offsetgroup": "Piece1",
         "orientation": "v",
         "showlegend": false,
         "text": {
          "bdata": "mpmZmZmZ2T8AAAAAAADwP5qZmZmZmT5AMzMzMzMzA0DNzMzMzExAQAAAAAAAAABAAAAAAAAAAEAAAAAAAAA7QAAAAAAAAABA",
          "dtype": "f8"
         },
         "textposition": "outside",
         "texttemplate": "%{text:.0f}",
         "type": "bar",
         "x": {
          "bdata": "AQIDBAYHCAkK",
          "dtype": "i1"
         },
         "xaxis": "x2",
         "y": {
          "bdata": "mpmZmZmZ2T8AAAAAAADwP5qZmZmZmT5AMzMzMzMzA0DNzMzMzExAQAAAAAAAAABAAAAAAAAAAEAAAAAAAAA7QAAAAAAAAABA",
          "dtype": "f8"
         },
         "yaxis": "y2"
        },
        {
         "alignmentgroup": "True",
         "hovertemplate": "Pièce=Piece1<br>Scénario=omega3<br>Jour de planification=%{x}<br>Nombre de pièces achetées=%{text}<extra></extra>",
         "legendgroup": "Piece1",
         "marker": {
          "color": "#636efa",
          "pattern": {
           "shape": ""
          }
         },
         "name": "Piece1",
         "offsetgroup": "Piece1",
         "orientation": "v",
         "showlegend": false,
         "text": {
          "bdata": "MzMzMzMzC0CamZmZmZk8QDMzMzMzMwtAAAAAAAAAAECamZmZmZk/QAAAAAAAAPA/AAAAAAAAAEAAAAAAAAA7QAAAAAAAABBA",
          "dtype": "f8"
         },
         "textposition": "outside",
         "texttemplate": "%{text:.0f}",
         "type": "bar",
         "x": {
          "bdata": "AQMEBQYHCAkK",
          "dtype": "i1"
         },
         "xaxis": "x",
         "y": {
          "bdata": "MzMzMzMzC0CamZmZmZk8QDMzMzMzMwtAAAAAAAAAAECamZmZmZk/QAAAAAAAAPA/AAAAAAAAAEAAAAAAAAA7QAAAAAAAABBA",
          "dtype": "f8"
         },
         "yaxis": "y"
        },
        {
         "alignmentgroup": "True",
         "hovertemplate": "Pièce=Piece2<br>Scénario=omega1<br>Jour de planification=%{x}<br>Nombre de pièces achetées=%{text}<extra></extra>",
         "legendgroup": "Piece2",
         "marker": {
          "color": "#EF553B",
          "pattern": {
           "shape": ""
          }
         },
         "name": "Piece2",
         "offsetgroup": "Piece2",
         "orientation": "v",
         "showlegend": true,
         "text": {
          "bdata": "AAAAAAAAAEAAAAAAAAAAQAAAAAAAADtAAAAAAAAAEEAzMzMzMzPzP83MzMzMzD1AAAAAAAAAEECamZmZmZkJQAAAAAAAADlAAAAAAAAACEAAAAAAAAAIQA==",
          "dtype": "f8"
         },
         "textposition": "outside",
         "texttemplate": "%{text:.0f}",
         "type": "bar",
         "x": {
          "bdata": "AQIDBAUGBwgJCgs=",
          "dtype": "i1"
         },
         "xaxis": "x3",
         "y": {
          "bdata": "AAAAAAAAAEAAAAAAAAAAQAAAAAAAADtAAAAAAAAAEEAzMzMzMzPzP83MzMzMzD1AAAAAAAAAEECamZmZmZkJQAAAAAAAADlAAAAAAAAACEAAAAAAAAAIQA==",
          "dtype": "f8"
         },
         "yaxis": "y3"
        },
        {
         "alignmentgroup": "True",
         "hovertemplate": "Pièce=Piece2<br>Scénario=omega2<br>Jour de planification=%{x}<br>Nombre de pièces achetées=%{text}<extra></extra>",
         "legendgroup": "Piece2",
         "marker": {
          "color": "#EF553B",
          "pattern": {
           "shape": ""
          }
         },
         "name": "Piece2",
         "offsetgroup": "Piece2",
         "orientation": "v",
         "showlegend": false,
         "text": {
          "bdata": "AAAAAAAA8D8AAAAAAAA6QAAAAAAAAAhAMzMzMzMz8z/NzMzMzMw+QAAAAAAAAAhAMzMzMzMz8z8AAAAAAAA4QAAAAAAAAPA/AAAAAAAACEA=",
          "dtype": "f8"
         },
         "textposition": "outside",
         "texttemplate": "%{text:.0f}",
         "type": "bar",
         "x": {
          "bdata": "AQMEBQYHCAkKCw==",
          "dtype": "i1"
         },
         "xaxis": "x2",
         "y": {
          "bdata": "AAAAAAAA8D8AAAAAAAA6QAAAAAAAAAhAMzMzMzMz8z/NzMzMzMw+QAAAAAAAAAhAMzMzMzMz8z8AAAAAAAA4QAAAAAAAAPA/AAAAAAAACEA=",
          "dtype": "f8"
         },
         "yaxis": "y2"
        },
        {
         "alignmentgroup": "True",
         "hovertemplate": "Pièce=Piece2<br>Scénario=omega3<br>Jour de planification=%{x}<br>Nombre de pièces achetées=%{text}<extra></extra>",
         "legendgroup": "Piece2",
         "marker": {
          "color": "#EF553B",
          "pattern": {
           "shape": ""
          }
         },
         "name": "Piece2",
         "offsetgroup": "Piece2",
         "orientation": "v",
         "showlegend": false,
         "text": {
          "bdata": "AAAAAAAAEEAAAAAAAAAIQAAAAAAAADpAAAAAAAAAAEAzMzMzMzPzP83MzMzMzD5AAAAAAAAAEECamZmZmZkBQAAAAAAAADpAAAAAAAAAEEAAAAAAAAAAQA==",
          "dtype": "f8"
         },
         "textposition": "outside",
         "texttemplate": "%{text:.0f}",
         "type": "bar",
         "x": {
          "bdata": "AQIDBAUGBwgJCgs=",
          "dtype": "i1"
         },
         "xaxis": "x",
         "y": {
          "bdata": "AAAAAAAAEEAAAAAAAAAIQAAAAAAAADpAAAAAAAAAAEAzMzMzMzPzP83MzMzMzD5AAAAAAAAAEECamZmZmZkBQAAAAAAAADpAAAAAAAAAEEAAAAAAAAAAQA==",
          "dtype": "f8"
         },
         "yaxis": "y"
        },
        {
         "alignmentgroup": "True",
         "hovertemplate": "Pièce=Piece3<br>Scénario=omega1<br>Jour de planification=%{x}<br>Nombre de pièces achetées=%{text}<extra></extra>",
         "legendgroup": "Piece3",
         "marker": {
          "color": "#00cc96",
          "pattern": {
           "shape": ""
          }
         },
         "name": "Piece3",
         "offsetgroup": "Piece3",
         "orientation": "v",
         "showlegend": true,
         "text": {
          "bdata": "AAAAAAAA8D8AAAAAAAAUQAAAAAAAAD5AAAAAAAAAEEBmZmZmZmYaQDMzMzMzM0BAzczMzMzMDEAzMzMzMzMhQAAAAAAAAD5AmpmZmZmZ+T+amZmZmZkRQA==",
          "dtype": "f8"
         },
         "textposition": "outside",
         "texttemplate": "%{text:.0f}",
         "type": "bar",
         "x": {
          "bdata": "AQIDBAUGBwgJCgs=",
          "dtype": "i1"
         },
         "xaxis": "x3",
         "y": {
          "bdata": "AAAAAAAA8D8AAAAAAAAUQAAAAAAAAD5AAAAAAAAAEEBmZmZmZmYaQDMzMzMzM0BAzczMzMzMDEAzMzMzMzMhQAAAAAAAAD5AmpmZmZmZ+T+amZmZmZkRQA==",
          "dtype": "f8"
         },
         "yaxis": "y3"
        },
        {
         "alignmentgroup": "True",
         "hovertemplate": "Pièce=Piece3<br>Scénario=omega2<br>Jour de planification=%{x}<br>Nombre de pièces achetées=%{text}<extra></extra>",
         "legendgroup": "Piece3",
         "marker": {
          "color": "#00cc96",
          "pattern": {
           "shape": ""
          }
         },
         "name": "Piece3",
         "offsetgroup": "Piece3",
         "orientation": "v",
         "showlegend": false,
         "text": {
          "bdata": "AAAAAAAAEEAAAAAAAAAQQAAAAAAAAD5AAAAAAAAAEEBmZmZmZmYSQGZmZmZmZj9AzczMzMzMBEBmZmZmZmYeQAAAAAAAAD9AzczMzMzMBECamZmZmZkZQA==",
          "dtype": "f8"
         },
         "textposition": "outside",
         "texttemplate": "%{text:.0f}",
         "type": "bar",
         "x": {
          "bdata": "AQIDBAUGBwgJCgs=",
          "dtype": "i1"
         },
         "xaxis": "x2",
         "y": {
          "bdata": "AAAAAAAAEEAAAAAAAAAQQAAAAAAAAD5AAAAAAAAAEEBmZmZmZmYSQGZmZmZmZj9AzczMzMzMBEBmZmZmZmYeQAAAAAAAAD9AzczMzMzMBECamZmZmZkZQA==",
          "dtype": "f8"
         },
         "yaxis": "y2"
        },
        {
         "alignmentgroup": "True",
         "hovertemplate": "Pièce=Piece3<br>Scénario=omega3<br>Jour de planification=%{x}<br>Nombre de pièces achetées=%{text}<extra></extra>",
         "legendgroup": "Piece3",
         "marker": {
          "color": "#00cc96",
          "pattern": {
           "shape": ""
          }
         },
         "name": "Piece3",
         "offsetgroup": "Piece3",
         "orientation": "v",
         "showlegend": false,
         "text": {
          "bdata": "AAAAAAAAEEAAAAAAAAAIQAAAAAAAAD5AAAAAAAAAEEBmZmZmZmYWQDMzMzMzs0BAzczMzMzMDEBmZmZmZmYeQAAAAAAAAD5AmpmZmZmZ+T+amZmZmZkRQA==",
          "dtype": "f8"
         },
         "textposition": "outside",
         "texttemplate": "%{text:.0f}",
         "type": "bar",
         "x": {
          "bdata": "AQIDBAUGBwgJCgs=",
          "dtype": "i1"
         },
         "xaxis": "x",
         "y": {
          "bdata": "AAAAAAAAEEAAAAAAAAAIQAAAAAAAAD5AAAAAAAAAEEBmZmZmZmYWQDMzMzMzs0BAzczMzMzMDEBmZmZmZmYeQAAAAAAAAD5AmpmZmZmZ+T+amZmZmZkRQA==",
          "dtype": "f8"
         },
         "yaxis": "y"
        }
       ],
       "layout": {
        "annotations": [
         {
          "font": {
           "color": "black",
           "size": 14
          },
          "showarrow": false,
          "text": "omega3",
          "textangle": 90,
          "x": 0.98,
          "xanchor": "left",
          "xref": "paper",
          "y": 0.15666666666666665,
          "yanchor": "middle",
          "yref": "paper"
         },
         {
          "font": {
           "color": "black",
           "size": 14
          },
          "showarrow": false,
          "text": "omega2",
          "textangle": 90,
          "x": 0.98,
          "xanchor": "left",
          "xref": "paper",
          "y": 0.4999999999999999,
          "yanchor": "middle",
          "yref": "paper"
         },
         {
          "font": {
           "color": "black",
           "size": 14
          },
          "showarrow": false,
          "text": "omega1",
          "textangle": 90,
          "x": 0.98,
          "xanchor": "left",
          "xref": "paper",
          "y": 0.8433333333333332,
          "yanchor": "middle",
          "yref": "paper"
         }
        ],
        "bargap": 0.25,
        "bargroupgap": 0.15,
        "barmode": "group",
        "font": {
         "size": 14
        },
        "height": 850,
        "legend": {
         "title": {
          "text": "Pièce"
         },
         "tracegroupgap": 0
        },
        "paper_bgcolor": "white",
        "plot_bgcolor": "white",
        "template": {
         "data": {
          "bar": [
           {
            "error_x": {
             "color": "#2a3f5f"
            },
            "error_y": {
             "color": "#2a3f5f"
            },
            "marker": {
             "line": {
              "color": "#E5ECF6",
              "width": 0.5
             },
             "pattern": {
              "fillmode": "overlay",
              "size": 10,
              "solidity": 0.2
             }
            },
            "type": "bar"
           }
          ],
          "barpolar": [
           {
            "marker": {
             "line": {
              "color": "#E5ECF6",
              "width": 0.5
             },
             "pattern": {
              "fillmode": "overlay",
              "size": 10,
              "solidity": 0.2
             }
            },
            "type": "barpolar"
           }
          ],
          "carpet": [
           {
            "aaxis": {
             "endlinecolor": "#2a3f5f",
             "gridcolor": "white",
             "linecolor": "white",
             "minorgridcolor": "white",
             "startlinecolor": "#2a3f5f"
            },
            "baxis": {
             "endlinecolor": "#2a3f5f",
             "gridcolor": "white",
             "linecolor": "white",
             "minorgridcolor": "white",
             "startlinecolor": "#2a3f5f"
            },
            "type": "carpet"
           }
          ],
          "choropleth": [
           {
            "colorbar": {
             "outlinewidth": 0,
             "ticks": ""
            },
            "type": "choropleth"
           }
          ],
          "contour": [
           {
            "colorbar": {
             "outlinewidth": 0,
             "ticks": ""
            },
            "colorscale": [
             [
              0,
              "#0d0887"
             ],
             [
              0.1111111111111111,
              "#46039f"
             ],
             [
              0.2222222222222222,
              "#7201a8"
             ],
             [
              0.3333333333333333,
              "#9c179e"
             ],
             [
              0.4444444444444444,
              "#bd3786"
             ],
             [
              0.5555555555555556,
              "#d8576b"
             ],
             [
              0.6666666666666666,
              "#ed7953"
             ],
             [
              0.7777777777777778,
              "#fb9f3a"
             ],
             [
              0.8888888888888888,
              "#fdca26"
             ],
             [
              1,
              "#f0f921"
             ]
            ],
            "type": "contour"
           }
          ],
          "contourcarpet": [
           {
            "colorbar": {
             "outlinewidth": 0,
             "ticks": ""
            },
            "type": "contourcarpet"
           }
          ],
          "heatmap": [
           {
            "colorbar": {
             "outlinewidth": 0,
             "ticks": ""
            },
            "colorscale": [
             [
              0,
              "#0d0887"
             ],
             [
              0.1111111111111111,
              "#46039f"
             ],
             [
              0.2222222222222222,
              "#7201a8"
             ],
             [
              0.3333333333333333,
              "#9c179e"
             ],
             [
              0.4444444444444444,
              "#bd3786"
             ],
             [
              0.5555555555555556,
              "#d8576b"
             ],
             [
              0.6666666666666666,
              "#ed7953"
             ],
             [
              0.7777777777777778,
              "#fb9f3a"
             ],
             [
              0.8888888888888888,
              "#fdca26"
             ],
             [
              1,
              "#f0f921"
             ]
            ],
            "type": "heatmap"
           }
          ],
          "histogram": [
           {
            "marker": {
             "pattern": {
              "fillmode": "overlay",
              "size": 10,
              "solidity": 0.2
             }
            },
            "type": "histogram"
           }
          ],
          "histogram2d": [
           {
            "colorbar": {
             "outlinewidth": 0,
             "ticks": ""
            },
            "colorscale": [
             [
              0,
              "#0d0887"
             ],
             [
              0.1111111111111111,
              "#46039f"
             ],
             [
              0.2222222222222222,
              "#7201a8"
             ],
             [
              0.3333333333333333,
              "#9c179e"
             ],
             [
              0.4444444444444444,
              "#bd3786"
             ],
             [
              0.5555555555555556,
              "#d8576b"
             ],
             [
              0.6666666666666666,
              "#ed7953"
             ],
             [
              0.7777777777777778,
              "#fb9f3a"
             ],
             [
              0.8888888888888888,
              "#fdca26"
             ],
             [
              1,
              "#f0f921"
             ]
            ],
            "type": "histogram2d"
           }
          ],
          "histogram2dcontour": [
           {
            "colorbar": {
             "outlinewidth": 0,
             "ticks": ""
            },
            "colorscale": [
             [
              0,
              "#0d0887"
             ],
             [
              0.1111111111111111,
              "#46039f"
             ],
             [
              0.2222222222222222,
              "#7201a8"
             ],
             [
              0.3333333333333333,
              "#9c179e"
             ],
             [
              0.4444444444444444,
              "#bd3786"
             ],
             [
              0.5555555555555556,
              "#d8576b"
             ],
             [
              0.6666666666666666,
              "#ed7953"
             ],
             [
              0.7777777777777778,
              "#fb9f3a"
             ],
             [
              0.8888888888888888,
              "#fdca26"
             ],
             [
              1,
              "#f0f921"
             ]
            ],
            "type": "histogram2dcontour"
           }
          ],
          "mesh3d": [
           {
            "colorbar": {
             "outlinewidth": 0,
             "ticks": ""
            },
            "type": "mesh3d"
           }
          ],
          "parcoords": [
           {
            "line": {
             "colorbar": {
              "outlinewidth": 0,
              "ticks": ""
             }
            },
            "type": "parcoords"
           }
          ],
          "pie": [
           {
            "automargin": true,
            "type": "pie"
           }
          ],
          "scatter": [
           {
            "fillpattern": {
             "fillmode": "overlay",
             "size": 10,
             "solidity": 0.2
            },
            "type": "scatter"
           }
          ],
          "scatter3d": [
           {
            "line": {
             "colorbar": {
              "outlinewidth": 0,
              "ticks": ""
             }
            },
            "marker": {
             "colorbar": {
              "outlinewidth": 0,
              "ticks": ""
             }
            },
            "type": "scatter3d"
           }
          ],
          "scattercarpet": [
           {
            "marker": {
             "colorbar": {
              "outlinewidth": 0,
              "ticks": ""
             }
            },
            "type": "scattercarpet"
           }
          ],
          "scattergeo": [
           {
            "marker": {
             "colorbar": {
              "outlinewidth": 0,
              "ticks": ""
             }
            },
            "type": "scattergeo"
           }
          ],
          "scattergl": [
           {
            "marker": {
             "colorbar": {
              "outlinewidth": 0,
              "ticks": ""
             }
            },
            "type": "scattergl"
           }
          ],
          "scattermap": [
           {
            "marker": {
             "colorbar": {
              "outlinewidth": 0,
              "ticks": ""
             }
            },
            "type": "scattermap"
           }
          ],
          "scattermapbox": [
           {
            "marker": {
             "colorbar": {
              "outlinewidth": 0,
              "ticks": ""
             }
            },
            "type": "scattermapbox"
           }
          ],
          "scatterpolar": [
           {
            "marker": {
             "colorbar": {
              "outlinewidth": 0,
              "ticks": ""
             }
            },
            "type": "scatterpolar"
           }
          ],
          "scatterpolargl": [
           {
            "marker": {
             "colorbar": {
              "outlinewidth": 0,
              "ticks": ""
             }
            },
            "type": "scatterpolargl"
           }
          ],
          "scatterternary": [
           {
            "marker": {
             "colorbar": {
              "outlinewidth": 0,
              "ticks": ""
             }
            },
            "type": "scatterternary"
           }
          ],
          "surface": [
           {
            "colorbar": {
             "outlinewidth": 0,
             "ticks": ""
            },
            "colorscale": [
             [
              0,
              "#0d0887"
             ],
             [
              0.1111111111111111,
              "#46039f"
             ],
             [
              0.2222222222222222,
              "#7201a8"
             ],
             [
              0.3333333333333333,
              "#9c179e"
             ],
             [
              0.4444444444444444,
              "#bd3786"
             ],
             [
              0.5555555555555556,
              "#d8576b"
             ],
             [
              0.6666666666666666,
              "#ed7953"
             ],
             [
              0.7777777777777778,
              "#fb9f3a"
             ],
             [
              0.8888888888888888,
              "#fdca26"
             ],
             [
              1,
              "#f0f921"
             ]
            ],
            "type": "surface"
           }
          ],
          "table": [
           {
            "cells": {
             "fill": {
              "color": "#EBF0F8"
             },
             "line": {
              "color": "white"
             }
            },
            "header": {
             "fill": {
              "color": "#C8D4E3"
             },
             "line": {
              "color": "white"
             }
            },
            "type": "table"
           }
          ]
         },
         "layout": {
          "annotationdefaults": {
           "arrowcolor": "#2a3f5f",
           "arrowhead": 0,
           "arrowwidth": 1
          },
          "autotypenumbers": "strict",
          "coloraxis": {
           "colorbar": {
            "outlinewidth": 0,
            "ticks": ""
           }
          },
          "colorscale": {
           "diverging": [
            [
             0,
             "#8e0152"
            ],
            [
             0.1,
             "#c51b7d"
            ],
            [
             0.2,
             "#de77ae"
            ],
            [
             0.3,
             "#f1b6da"
            ],
            [
             0.4,
             "#fde0ef"
            ],
            [
             0.5,
             "#f7f7f7"
            ],
            [
             0.6,
             "#e6f5d0"
            ],
            [
             0.7,
             "#b8e186"
            ],
            [
             0.8,
             "#7fbc41"
            ],
            [
             0.9,
             "#4d9221"
            ],
            [
             1,
             "#276419"
            ]
           ],
           "sequential": [
            [
             0,
             "#0d0887"
            ],
            [
             0.1111111111111111,
             "#46039f"
            ],
            [
             0.2222222222222222,
             "#7201a8"
            ],
            [
             0.3333333333333333,
             "#9c179e"
            ],
            [
             0.4444444444444444,
             "#bd3786"
            ],
            [
             0.5555555555555556,
             "#d8576b"
            ],
            [
             0.6666666666666666,
             "#ed7953"
            ],
            [
             0.7777777777777778,
             "#fb9f3a"
            ],
            [
             0.8888888888888888,
             "#fdca26"
            ],
            [
             1,
             "#f0f921"
            ]
           ],
           "sequentialminus": [
            [
             0,
             "#0d0887"
            ],
            [
             0.1111111111111111,
             "#46039f"
            ],
            [
             0.2222222222222222,
             "#7201a8"
            ],
            [
             0.3333333333333333,
             "#9c179e"
            ],
            [
             0.4444444444444444,
             "#bd3786"
            ],
            [
             0.5555555555555556,
             "#d8576b"
            ],
            [
             0.6666666666666666,
             "#ed7953"
            ],
            [
             0.7777777777777778,
             "#fb9f3a"
            ],
            [
             0.8888888888888888,
             "#fdca26"
            ],
            [
             1,
             "#f0f921"
            ]
           ]
          },
          "colorway": [
           "#636efa",
           "#EF553B",
           "#00cc96",
           "#ab63fa",
           "#FFA15A",
           "#19d3f3",
           "#FF6692",
           "#B6E880",
           "#FF97FF",
           "#FECB52"
          ],
          "font": {
           "color": "#2a3f5f"
          },
          "geo": {
           "bgcolor": "white",
           "lakecolor": "white",
           "landcolor": "#E5ECF6",
           "showlakes": true,
           "showland": true,
           "subunitcolor": "white"
          },
          "hoverlabel": {
           "align": "left"
          },
          "hovermode": "closest",
          "mapbox": {
           "style": "light"
          },
          "paper_bgcolor": "white",
          "plot_bgcolor": "#E5ECF6",
          "polar": {
           "angularaxis": {
            "gridcolor": "white",
            "linecolor": "white",
            "ticks": ""
           },
           "bgcolor": "#E5ECF6",
           "radialaxis": {
            "gridcolor": "white",
            "linecolor": "white",
            "ticks": ""
           }
          },
          "scene": {
           "xaxis": {
            "backgroundcolor": "#E5ECF6",
            "gridcolor": "white",
            "gridwidth": 2,
            "linecolor": "white",
            "showbackground": true,
            "ticks": "",
            "zerolinecolor": "white"
           },
           "yaxis": {
            "backgroundcolor": "#E5ECF6",
            "gridcolor": "white",
            "gridwidth": 2,
            "linecolor": "white",
            "showbackground": true,
            "ticks": "",
            "zerolinecolor": "white"
           },
           "zaxis": {
            "backgroundcolor": "#E5ECF6",
            "gridcolor": "white",
            "gridwidth": 2,
            "linecolor": "white",
            "showbackground": true,
            "ticks": "",
            "zerolinecolor": "white"
           }
          },
          "shapedefaults": {
           "line": {
            "color": "#2a3f5f"
           }
          },
          "ternary": {
           "aaxis": {
            "gridcolor": "white",
            "linecolor": "white",
            "ticks": ""
           },
           "baxis": {
            "gridcolor": "white",
            "linecolor": "white",
            "ticks": ""
           },
           "bgcolor": "#E5ECF6",
           "caxis": {
            "gridcolor": "white",
            "linecolor": "white",
            "ticks": ""
           }
          },
          "title": {
           "x": 0.05
          },
          "xaxis": {
           "automargin": true,
           "gridcolor": "white",
           "linecolor": "white",
           "ticks": "",
           "title": {
            "standoff": 15
           },
           "zerolinecolor": "white",
           "zerolinewidth": 2
          },
          "yaxis": {
           "automargin": true,
           "gridcolor": "white",
           "linecolor": "white",
           "ticks": "",
           "title": {
            "standoff": 15
           },
           "zerolinecolor": "white",
           "zerolinewidth": 2
          }
         }
        },
        "title": {
         "font": {
          "size": 20
         },
         "text": "Analyse des achats supplémentaires de pièces selon les scénarios d'incertitude"
        },
        "xaxis": {
         "anchor": "y",
         "domain": [
          0,
          0.98
         ],
         "title": {
          "text": "Jour"
         }
        },
        "xaxis2": {
         "anchor": "y2",
         "domain": [
          0,
          0.98
         ],
         "matches": "x",
         "showticklabels": false
        },
        "xaxis3": {
         "anchor": "y3",
         "domain": [
          0,
          0.98
         ],
         "matches": "x",
         "showticklabels": false
        },
        "yaxis": {
         "anchor": "x",
         "domain": [
          0,
          0.3133333333333333
         ],
         "title": {
          "text": ""
         }
        },
        "yaxis2": {
         "anchor": "x2",
         "domain": [
          0.34333333333333327,
          0.6566666666666665
         ],
         "matches": "y",
         "title": {
          "text": "Nombre de pièces supplémentaires"
         }
        },
        "yaxis3": {
         "anchor": "x3",
         "domain": [
          0.6866666666666665,
          0.9999999999999998
         ],
         "matches": "y",
         "title": {
          "text": ""
         }
        }
       }
      }
     },
     "metadata": {},
     "output_type": "display_data"
    }
   ],
   "source": [
    "import plotly.express as px\n",
    "\n",
    "fig = px.bar(\n",
    "    df_achat,\n",
    "    x='Jour',\n",
    "    y='Achat_supplementaire',\n",
    "    color='Pièce',\n",
    "    facet_row='Scénario',\n",
    "    barmode='group',\n",
    "    title=\"Analyse des achats supplémentaires de pièces selon les scénarios d'incertitude\",\n",
    "    labels={\n",
    "        'Achat_supplementaire': 'Nombre de pièces achetées',\n",
    "        'Jour': 'Jour de planification'\n",
    "    },\n",
    "    text='Achat_supplementaire'\n",
    ")\n",
    "\n",
    "# Layout professionnel\n",
    "fig.update_layout(\n",
    "    height=850,\n",
    "    title_font_size=20,\n",
    "    font=dict(size=14),\n",
    "    legend_title_text=\"Pièce\",\n",
    "    xaxis_title=\"Jour\",\n",
    "    plot_bgcolor='white',\n",
    "    paper_bgcolor='white',\n",
    "    bargap=0.25,\n",
    "    bargroupgap=0.15\n",
    ")\n",
    "\n",
    "# Texte sur les barres\n",
    "fig.update_traces(\n",
    "    texttemplate='%{text:.0f}',\n",
    "    textposition='outside'\n",
    ")\n",
    "\n",
    "# Nettoyer les titres des sous-graphiques → juste omega1, omega2, omega3\n",
    "fig.for_each_annotation(lambda a: a.update(text=a.text.split(\"=\")[-1], font_size=14, font_color=\"black\"))\n",
    "\n",
    "# Label Y seulement sur la première ligne (row=1)\n",
    "fig.update_yaxes(title_text=\"Nombre de pièces supplémentaires\", row=2, col=1)\n",
    "\n",
    "# Supprimer le Y label sur les autres lignes (row=2 et row=3 ici)\n",
    "fig.update_yaxes(title_text=\"\", row=1, col=1)\n",
    "fig.update_yaxes(title_text=\"\", row=3, col=1)\n",
    "\n",
    "# Affichage final\n",
    "fig.show()\n"
   ]
  },
  {
   "cell_type": "code",
   "execution_count": 29,
   "id": "8d1e1e8a",
   "metadata": {},
   "outputs": [
    {
     "name": "stdout",
     "output_type": "stream",
     "text": [
      "\n",
      "=== Tableau des coûts par scénario ===\n",
      "  Scénario  Coût_fixe (DH)  Coût_achats_suppl (DH)  Coût_total (DH)\n",
      "0   omega1         57535.0                 16470.0          74005.0\n",
      "1   omega2         57535.0                 16120.0          73655.0\n",
      "2   omega3         57535.0                 16770.0          74305.0\n"
     ]
    },
    {
     "data": {
      "application/vnd.plotly.v1+json": {
       "config": {
        "plotlyServerURL": "https://plot.ly"
       },
       "data": [
        {
         "hovertemplate": "Scénario=%{x}<br>Coût total (DH)=%{text}<extra></extra>",
         "legendgroup": "",
         "marker": {
          "color": "#636efa",
          "pattern": {
           "shape": ""
          }
         },
         "name": "",
         "orientation": "v",
         "showlegend": false,
         "text": {
          "bdata": "AAAAAFAR8kAAAAAAcPvxQAAAAAAQJPJA",
          "dtype": "f8"
         },
         "textposition": "outside",
         "texttemplate": "%{text:.2f}",
         "type": "bar",
         "x": [
          "omega1",
          "omega2",
          "omega3"
         ],
         "xaxis": "x",
         "y": {
          "bdata": "AAAAAFAR8kAAAAAAcPvxQAAAAAAQJPJA",
          "dtype": "f8"
         },
         "yaxis": "y"
        }
       ],
       "layout": {
        "bargap": 0.3,
        "barmode": "relative",
        "font": {
         "size": 14
        },
        "height": 600,
        "legend": {
         "tracegroupgap": 0
        },
        "paper_bgcolor": "white",
        "plot_bgcolor": "white",
        "template": {
         "data": {
          "bar": [
           {
            "error_x": {
             "color": "#2a3f5f"
            },
            "error_y": {
             "color": "#2a3f5f"
            },
            "marker": {
             "line": {
              "color": "#E5ECF6",
              "width": 0.5
             },
             "pattern": {
              "fillmode": "overlay",
              "size": 10,
              "solidity": 0.2
             }
            },
            "type": "bar"
           }
          ],
          "barpolar": [
           {
            "marker": {
             "line": {
              "color": "#E5ECF6",
              "width": 0.5
             },
             "pattern": {
              "fillmode": "overlay",
              "size": 10,
              "solidity": 0.2
             }
            },
            "type": "barpolar"
           }
          ],
          "carpet": [
           {
            "aaxis": {
             "endlinecolor": "#2a3f5f",
             "gridcolor": "white",
             "linecolor": "white",
             "minorgridcolor": "white",
             "startlinecolor": "#2a3f5f"
            },
            "baxis": {
             "endlinecolor": "#2a3f5f",
             "gridcolor": "white",
             "linecolor": "white",
             "minorgridcolor": "white",
             "startlinecolor": "#2a3f5f"
            },
            "type": "carpet"
           }
          ],
          "choropleth": [
           {
            "colorbar": {
             "outlinewidth": 0,
             "ticks": ""
            },
            "type": "choropleth"
           }
          ],
          "contour": [
           {
            "colorbar": {
             "outlinewidth": 0,
             "ticks": ""
            },
            "colorscale": [
             [
              0,
              "#0d0887"
             ],
             [
              0.1111111111111111,
              "#46039f"
             ],
             [
              0.2222222222222222,
              "#7201a8"
             ],
             [
              0.3333333333333333,
              "#9c179e"
             ],
             [
              0.4444444444444444,
              "#bd3786"
             ],
             [
              0.5555555555555556,
              "#d8576b"
             ],
             [
              0.6666666666666666,
              "#ed7953"
             ],
             [
              0.7777777777777778,
              "#fb9f3a"
             ],
             [
              0.8888888888888888,
              "#fdca26"
             ],
             [
              1,
              "#f0f921"
             ]
            ],
            "type": "contour"
           }
          ],
          "contourcarpet": [
           {
            "colorbar": {
             "outlinewidth": 0,
             "ticks": ""
            },
            "type": "contourcarpet"
           }
          ],
          "heatmap": [
           {
            "colorbar": {
             "outlinewidth": 0,
             "ticks": ""
            },
            "colorscale": [
             [
              0,
              "#0d0887"
             ],
             [
              0.1111111111111111,
              "#46039f"
             ],
             [
              0.2222222222222222,
              "#7201a8"
             ],
             [
              0.3333333333333333,
              "#9c179e"
             ],
             [
              0.4444444444444444,
              "#bd3786"
             ],
             [
              0.5555555555555556,
              "#d8576b"
             ],
             [
              0.6666666666666666,
              "#ed7953"
             ],
             [
              0.7777777777777778,
              "#fb9f3a"
             ],
             [
              0.8888888888888888,
              "#fdca26"
             ],
             [
              1,
              "#f0f921"
             ]
            ],
            "type": "heatmap"
           }
          ],
          "histogram": [
           {
            "marker": {
             "pattern": {
              "fillmode": "overlay",
              "size": 10,
              "solidity": 0.2
             }
            },
            "type": "histogram"
           }
          ],
          "histogram2d": [
           {
            "colorbar": {
             "outlinewidth": 0,
             "ticks": ""
            },
            "colorscale": [
             [
              0,
              "#0d0887"
             ],
             [
              0.1111111111111111,
              "#46039f"
             ],
             [
              0.2222222222222222,
              "#7201a8"
             ],
             [
              0.3333333333333333,
              "#9c179e"
             ],
             [
              0.4444444444444444,
              "#bd3786"
             ],
             [
              0.5555555555555556,
              "#d8576b"
             ],
             [
              0.6666666666666666,
              "#ed7953"
             ],
             [
              0.7777777777777778,
              "#fb9f3a"
             ],
             [
              0.8888888888888888,
              "#fdca26"
             ],
             [
              1,
              "#f0f921"
             ]
            ],
            "type": "histogram2d"
           }
          ],
          "histogram2dcontour": [
           {
            "colorbar": {
             "outlinewidth": 0,
             "ticks": ""
            },
            "colorscale": [
             [
              0,
              "#0d0887"
             ],
             [
              0.1111111111111111,
              "#46039f"
             ],
             [
              0.2222222222222222,
              "#7201a8"
             ],
             [
              0.3333333333333333,
              "#9c179e"
             ],
             [
              0.4444444444444444,
              "#bd3786"
             ],
             [
              0.5555555555555556,
              "#d8576b"
             ],
             [
              0.6666666666666666,
              "#ed7953"
             ],
             [
              0.7777777777777778,
              "#fb9f3a"
             ],
             [
              0.8888888888888888,
              "#fdca26"
             ],
             [
              1,
              "#f0f921"
             ]
            ],
            "type": "histogram2dcontour"
           }
          ],
          "mesh3d": [
           {
            "colorbar": {
             "outlinewidth": 0,
             "ticks": ""
            },
            "type": "mesh3d"
           }
          ],
          "parcoords": [
           {
            "line": {
             "colorbar": {
              "outlinewidth": 0,
              "ticks": ""
             }
            },
            "type": "parcoords"
           }
          ],
          "pie": [
           {
            "automargin": true,
            "type": "pie"
           }
          ],
          "scatter": [
           {
            "fillpattern": {
             "fillmode": "overlay",
             "size": 10,
             "solidity": 0.2
            },
            "type": "scatter"
           }
          ],
          "scatter3d": [
           {
            "line": {
             "colorbar": {
              "outlinewidth": 0,
              "ticks": ""
             }
            },
            "marker": {
             "colorbar": {
              "outlinewidth": 0,
              "ticks": ""
             }
            },
            "type": "scatter3d"
           }
          ],
          "scattercarpet": [
           {
            "marker": {
             "colorbar": {
              "outlinewidth": 0,
              "ticks": ""
             }
            },
            "type": "scattercarpet"
           }
          ],
          "scattergeo": [
           {
            "marker": {
             "colorbar": {
              "outlinewidth": 0,
              "ticks": ""
             }
            },
            "type": "scattergeo"
           }
          ],
          "scattergl": [
           {
            "marker": {
             "colorbar": {
              "outlinewidth": 0,
              "ticks": ""
             }
            },
            "type": "scattergl"
           }
          ],
          "scattermap": [
           {
            "marker": {
             "colorbar": {
              "outlinewidth": 0,
              "ticks": ""
             }
            },
            "type": "scattermap"
           }
          ],
          "scattermapbox": [
           {
            "marker": {
             "colorbar": {
              "outlinewidth": 0,
              "ticks": ""
             }
            },
            "type": "scattermapbox"
           }
          ],
          "scatterpolar": [
           {
            "marker": {
             "colorbar": {
              "outlinewidth": 0,
              "ticks": ""
             }
            },
            "type": "scatterpolar"
           }
          ],
          "scatterpolargl": [
           {
            "marker": {
             "colorbar": {
              "outlinewidth": 0,
              "ticks": ""
             }
            },
            "type": "scatterpolargl"
           }
          ],
          "scatterternary": [
           {
            "marker": {
             "colorbar": {
              "outlinewidth": 0,
              "ticks": ""
             }
            },
            "type": "scatterternary"
           }
          ],
          "surface": [
           {
            "colorbar": {
             "outlinewidth": 0,
             "ticks": ""
            },
            "colorscale": [
             [
              0,
              "#0d0887"
             ],
             [
              0.1111111111111111,
              "#46039f"
             ],
             [
              0.2222222222222222,
              "#7201a8"
             ],
             [
              0.3333333333333333,
              "#9c179e"
             ],
             [
              0.4444444444444444,
              "#bd3786"
             ],
             [
              0.5555555555555556,
              "#d8576b"
             ],
             [
              0.6666666666666666,
              "#ed7953"
             ],
             [
              0.7777777777777778,
              "#fb9f3a"
             ],
             [
              0.8888888888888888,
              "#fdca26"
             ],
             [
              1,
              "#f0f921"
             ]
            ],
            "type": "surface"
           }
          ],
          "table": [
           {
            "cells": {
             "fill": {
              "color": "#EBF0F8"
             },
             "line": {
              "color": "white"
             }
            },
            "header": {
             "fill": {
              "color": "#C8D4E3"
             },
             "line": {
              "color": "white"
             }
            },
            "type": "table"
           }
          ]
         },
         "layout": {
          "annotationdefaults": {
           "arrowcolor": "#2a3f5f",
           "arrowhead": 0,
           "arrowwidth": 1
          },
          "autotypenumbers": "strict",
          "coloraxis": {
           "colorbar": {
            "outlinewidth": 0,
            "ticks": ""
           }
          },
          "colorscale": {
           "diverging": [
            [
             0,
             "#8e0152"
            ],
            [
             0.1,
             "#c51b7d"
            ],
            [
             0.2,
             "#de77ae"
            ],
            [
             0.3,
             "#f1b6da"
            ],
            [
             0.4,
             "#fde0ef"
            ],
            [
             0.5,
             "#f7f7f7"
            ],
            [
             0.6,
             "#e6f5d0"
            ],
            [
             0.7,
             "#b8e186"
            ],
            [
             0.8,
             "#7fbc41"
            ],
            [
             0.9,
             "#4d9221"
            ],
            [
             1,
             "#276419"
            ]
           ],
           "sequential": [
            [
             0,
             "#0d0887"
            ],
            [
             0.1111111111111111,
             "#46039f"
            ],
            [
             0.2222222222222222,
             "#7201a8"
            ],
            [
             0.3333333333333333,
             "#9c179e"
            ],
            [
             0.4444444444444444,
             "#bd3786"
            ],
            [
             0.5555555555555556,
             "#d8576b"
            ],
            [
             0.6666666666666666,
             "#ed7953"
            ],
            [
             0.7777777777777778,
             "#fb9f3a"
            ],
            [
             0.8888888888888888,
             "#fdca26"
            ],
            [
             1,
             "#f0f921"
            ]
           ],
           "sequentialminus": [
            [
             0,
             "#0d0887"
            ],
            [
             0.1111111111111111,
             "#46039f"
            ],
            [
             0.2222222222222222,
             "#7201a8"
            ],
            [
             0.3333333333333333,
             "#9c179e"
            ],
            [
             0.4444444444444444,
             "#bd3786"
            ],
            [
             0.5555555555555556,
             "#d8576b"
            ],
            [
             0.6666666666666666,
             "#ed7953"
            ],
            [
             0.7777777777777778,
             "#fb9f3a"
            ],
            [
             0.8888888888888888,
             "#fdca26"
            ],
            [
             1,
             "#f0f921"
            ]
           ]
          },
          "colorway": [
           "#636efa",
           "#EF553B",
           "#00cc96",
           "#ab63fa",
           "#FFA15A",
           "#19d3f3",
           "#FF6692",
           "#B6E880",
           "#FF97FF",
           "#FECB52"
          ],
          "font": {
           "color": "#2a3f5f"
          },
          "geo": {
           "bgcolor": "white",
           "lakecolor": "white",
           "landcolor": "#E5ECF6",
           "showlakes": true,
           "showland": true,
           "subunitcolor": "white"
          },
          "hoverlabel": {
           "align": "left"
          },
          "hovermode": "closest",
          "mapbox": {
           "style": "light"
          },
          "paper_bgcolor": "white",
          "plot_bgcolor": "#E5ECF6",
          "polar": {
           "angularaxis": {
            "gridcolor": "white",
            "linecolor": "white",
            "ticks": ""
           },
           "bgcolor": "#E5ECF6",
           "radialaxis": {
            "gridcolor": "white",
            "linecolor": "white",
            "ticks": ""
           }
          },
          "scene": {
           "xaxis": {
            "backgroundcolor": "#E5ECF6",
            "gridcolor": "white",
            "gridwidth": 2,
            "linecolor": "white",
            "showbackground": true,
            "ticks": "",
            "zerolinecolor": "white"
           },
           "yaxis": {
            "backgroundcolor": "#E5ECF6",
            "gridcolor": "white",
            "gridwidth": 2,
            "linecolor": "white",
            "showbackground": true,
            "ticks": "",
            "zerolinecolor": "white"
           },
           "zaxis": {
            "backgroundcolor": "#E5ECF6",
            "gridcolor": "white",
            "gridwidth": 2,
            "linecolor": "white",
            "showbackground": true,
            "ticks": "",
            "zerolinecolor": "white"
           }
          },
          "shapedefaults": {
           "line": {
            "color": "#2a3f5f"
           }
          },
          "ternary": {
           "aaxis": {
            "gridcolor": "white",
            "linecolor": "white",
            "ticks": ""
           },
           "baxis": {
            "gridcolor": "white",
            "linecolor": "white",
            "ticks": ""
           },
           "bgcolor": "#E5ECF6",
           "caxis": {
            "gridcolor": "white",
            "linecolor": "white",
            "ticks": ""
           }
          },
          "title": {
           "x": 0.05
          },
          "xaxis": {
           "automargin": true,
           "gridcolor": "white",
           "linecolor": "white",
           "ticks": "",
           "title": {
            "standoff": 15
           },
           "zerolinecolor": "white",
           "zerolinewidth": 2
          },
          "yaxis": {
           "automargin": true,
           "gridcolor": "white",
           "linecolor": "white",
           "ticks": "",
           "title": {
            "standoff": 15
           },
           "zerolinecolor": "white",
           "zerolinewidth": 2
          }
         }
        },
        "title": {
         "font": {
          "size": 20
         },
         "text": "Comparaison des coûts totaux par scénario (Modèle stochastique)"
        },
        "xaxis": {
         "anchor": "y",
         "domain": [
          0,
          1
         ],
         "title": {
          "text": "Scénario"
         }
        },
        "yaxis": {
         "anchor": "x",
         "domain": [
          0,
          1
         ],
         "title": {
          "text": "Coût total (DH)"
         }
        }
       }
      }
     },
     "metadata": {},
     "output_type": "display_data"
    }
   ],
   "source": [
    "import pandas as pd\n",
    "import plotly.express as px\n",
    "\n",
    "# ==== 1️⃣ Calcul des coûts ====\n",
    "\n",
    "# Coût commun (z, x)\n",
    "cout_fixe = 0\n",
    "for e in E:\n",
    "    for s in S:\n",
    "        for t in T:\n",
    "            cout_fixe += gamma[(e,s)] * (\n",
    "                sum(C_main[(e,s,p)] * pulp.value(x[(e,s,p,t)]) for p in P)\n",
    "                + C_piece[(e,s)] * pulp.value(z[(e,s,t)])\n",
    "                + C_sous[(e,s)] * pulp.value(z[(e,s,t)])\n",
    "            )\n",
    "\n",
    "# Coût total par scénario ω\n",
    "cout_total_omega = {}\n",
    "cout_achat_omega = {}\n",
    "\n",
    "for omega in Omega:\n",
    "    cout_u = 0\n",
    "    for r in R:\n",
    "        for t in T:\n",
    "            cout_u += C_achat[r] * pulp.value(u[(r,t,omega)])\n",
    "    \n",
    "    cout_total = cout_fixe + cout_u\n",
    "    cout_total_omega[omega] = cout_total\n",
    "    cout_achat_omega[omega] = cout_u\n",
    "\n",
    "# ==== 2️⃣ Construire le DataFrame ====\n",
    "\n",
    "df_cout = pd.DataFrame({\n",
    "    'Scénario': list(cout_total_omega.keys()),\n",
    "    'Coût_fixe (DH)': [cout_fixe for _ in Omega],\n",
    "    'Coût_achats_suppl (DH)': list(cout_achat_omega.values()),\n",
    "    'Coût_total (DH)': list(cout_total_omega.values())\n",
    "})\n",
    "\n",
    "# Arrondir pour l'affichage\n",
    "df_cout['Coût_fixe (DH)'] = df_cout['Coût_fixe (DH)'].round(2)\n",
    "df_cout['Coût_achats_suppl (DH)'] = df_cout['Coût_achats_suppl (DH)'].round(2)\n",
    "df_cout['Coût_total (DH)'] = df_cout['Coût_total (DH)'].round(2)\n",
    "\n",
    "# ==== 3️⃣ Afficher la table ====\n",
    "\n",
    "print(\"\\n=== Tableau des coûts par scénario ===\")\n",
    "print(df_cout)\n",
    "\n",
    "# ==== 4️⃣ Graphique comparatif des coûts ====\n",
    "\n",
    "fig = px.bar(\n",
    "    df_cout,\n",
    "    x='Scénario',\n",
    "    y='Coût_total (DH)',\n",
    "    text='Coût_total (DH)',\n",
    "    title=\"Comparaison des coûts totaux par scénario (Modèle stochastique)\",\n",
    "    labels={'Coût_total (DH)': 'Coût total (DH)'}\n",
    ")\n",
    "\n",
    "# Améliorer l'esthétique\n",
    "fig.update_traces(texttemplate='%{text:.2f}', textposition='outside')\n",
    "fig.update_layout(\n",
    "    height=600,\n",
    "    title_font_size=20,\n",
    "    font=dict(size=14),\n",
    "    plot_bgcolor='white',\n",
    "    paper_bgcolor='white',\n",
    "    bargap=0.3\n",
    ")\n",
    "\n",
    "# Afficher le graphe\n",
    "fig.show()\n"
   ]
  }
 ],
 "metadata": {
  "kernelspec": {
   "display_name": "UM6P_env",
   "language": "python",
   "name": "python3"
  },
  "language_info": {
   "codemirror_mode": {
    "name": "ipython",
    "version": 3
   },
   "file_extension": ".py",
   "mimetype": "text/x-python",
   "name": "python",
   "nbconvert_exporter": "python",
   "pygments_lexer": "ipython3",
   "version": "3.13.2"
  }
 },
 "nbformat": 4,
 "nbformat_minor": 5
}
