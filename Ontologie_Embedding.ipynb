{
 "cells": [
  {
   "cell_type": "code",
   "execution_count": 1,
   "metadata": {},
   "outputs": [
    {
     "name": "stdout",
     "output_type": "stream",
     "text": [
      "Collecting owlready2\n",
      "  Downloading owlready2-0.47.tar.gz (27.3 MB)\n",
      "     ---------------------------------------- 0.0/27.3 MB ? eta -:--:--\n",
      "     ---------------------------------------- 0.3/27.3 MB ? eta -:--:--\n",
      "     -- ------------------------------------- 1.8/27.3 MB 6.6 MB/s eta 0:00:04\n",
      "     ---- ----------------------------------- 2.9/27.3 MB 5.5 MB/s eta 0:00:05\n",
      "     ------- -------------------------------- 5.0/27.3 MB 6.8 MB/s eta 0:00:04\n",
      "     --------- ------------------------------ 6.6/27.3 MB 7.1 MB/s eta 0:00:03\n",
      "     ----------- ---------------------------- 8.1/27.3 MB 7.3 MB/s eta 0:00:03\n",
      "     -------------- ------------------------- 10.0/27.3 MB 7.5 MB/s eta 0:00:03\n",
      "     ---------------- ----------------------- 11.5/27.3 MB 7.4 MB/s eta 0:00:03\n",
      "     ------------------- -------------------- 13.1/27.3 MB 7.5 MB/s eta 0:00:02\n",
      "     --------------------- ------------------ 14.4/27.3 MB 7.3 MB/s eta 0:00:02\n",
      "     ----------------------- ---------------- 16.3/27.3 MB 7.4 MB/s eta 0:00:02\n",
      "     ------------------------ --------------- 17.0/27.3 MB 7.5 MB/s eta 0:00:02\n",
      "     --------------------------- ------------ 18.9/27.3 MB 7.2 MB/s eta 0:00:02\n",
      "     ---------------------------- ----------- 19.7/27.3 MB 7.0 MB/s eta 0:00:02\n",
      "     ------------------------------ --------- 20.7/27.3 MB 6.8 MB/s eta 0:00:01\n",
      "     ------------------------------- -------- 21.5/27.3 MB 6.6 MB/s eta 0:00:01\n",
      "     -------------------------------- ------- 22.3/27.3 MB 6.5 MB/s eta 0:00:01\n",
      "     ---------------------------------- ----- 23.3/27.3 MB 6.3 MB/s eta 0:00:01\n",
      "     ----------------------------------- ---- 24.1/27.3 MB 6.2 MB/s eta 0:00:01\n",
      "     ------------------------------------ --- 24.6/27.3 MB 6.1 MB/s eta 0:00:01\n",
      "     ------------------------------------ --- 24.9/27.3 MB 5.8 MB/s eta 0:00:01\n",
      "     ------------------------------------- -- 25.7/27.3 MB 5.7 MB/s eta 0:00:01\n",
      "     -------------------------------------- - 26.2/27.3 MB 5.6 MB/s eta 0:00:01\n",
      "     ---------------------------------------  27.3/27.3 MB 5.5 MB/s eta 0:00:01\n",
      "     ---------------------------------------  27.3/27.3 MB 5.5 MB/s eta 0:00:01\n",
      "     ---------------------------------------- 27.3/27.3 MB 5.2 MB/s eta 0:00:00\n",
      "  Installing build dependencies: started\n",
      "  Installing build dependencies: finished with status 'done'\n",
      "  Getting requirements to build wheel: started\n",
      "  Getting requirements to build wheel: finished with status 'done'\n",
      "  Preparing metadata (pyproject.toml): started\n",
      "  Preparing metadata (pyproject.toml): finished with status 'done'\n",
      "Building wheels for collected packages: owlready2\n",
      "  Building wheel for owlready2 (pyproject.toml): started\n",
      "  Building wheel for owlready2 (pyproject.toml): finished with status 'done'\n",
      "  Created wheel for owlready2: filename=owlready2-0.47-cp313-cp313-win_amd64.whl size=23840926 sha256=fedf8940bd2bc58b2f3bc6cb3df86baf5ed979dfaa6974be74998dc9ec98a3f4\n",
      "  Stored in directory: c:\\users\\hp\\appdata\\local\\pip\\cache\\wheels\\25\\e9\\ea\\67799d18100387730d8b12a9f8b36d9b4c41eb540d53dd4b8c\n",
      "Successfully built owlready2\n",
      "Installing collected packages: owlready2\n",
      "Successfully installed owlready2-0.47\n",
      "Note: you may need to restart the kernel to use updated packages.\n"
     ]
    }
   ],
   "source": [
    "pip install owlready2"
   ]
  },
  {
   "cell_type": "code",
   "execution_count": 4,
   "metadata": {},
   "outputs": [
    {
     "name": "stdout",
     "output_type": "stream",
     "text": [
      "Requirement already satisfied: pip in c:\\users\\hp\\.conda\\envs\\um6p_env\\lib\\site-packages (25.0.1)\n",
      "Requirement already satisfied: setuptools in c:\\users\\hp\\.conda\\envs\\um6p_env\\lib\\site-packages (75.8.0)\n",
      "Note: you may need to restart the kernel to use updated packages.\n"
     ]
    }
   ],
   "source": [
    "pip install --upgrade pip setuptools"
   ]
  },
  {
   "cell_type": "code",
   "execution_count": 5,
   "metadata": {},
   "outputs": [
    {
     "name": "stdout",
     "output_type": "stream",
     "text": [
      "Requirement already satisfied: numpy in c:\\users\\hp\\.conda\\envs\\um6p_env\\lib\\site-packages (2.2.3)\n",
      "Note: you may need to restart the kernel to use updated packages.\n"
     ]
    }
   ],
   "source": [
    "pip install numpy"
   ]
  },
  {
   "cell_type": "code",
   "execution_count": 6,
   "metadata": {},
   "outputs": [
    {
     "name": "stdout",
     "output_type": "stream",
     "text": [
      "Collecting numpy==1.23.5\n",
      "  Downloading numpy-1.23.5.tar.gz (10.7 MB)\n",
      "     ---------------------------------------- 0.0/10.7 MB ? eta -:--:--\n",
      "     ---------------------------------------- 0.0/10.7 MB ? eta -:--:--\n",
      "     - -------------------------------------- 0.5/10.7 MB 4.7 MB/s eta 0:00:03\n",
      "     ------ --------------------------------- 1.8/10.7 MB 4.8 MB/s eta 0:00:02\n",
      "     -------- ------------------------------- 2.4/10.7 MB 5.0 MB/s eta 0:00:02\n",
      "     -------------- ------------------------- 3.9/10.7 MB 5.2 MB/s eta 0:00:02\n",
      "     ------------------- -------------------- 5.2/10.7 MB 5.1 MB/s eta 0:00:02\n",
      "     ------------------------ --------------- 6.6/10.7 MB 5.5 MB/s eta 0:00:01\n",
      "     ------------------------------ --------- 8.1/10.7 MB 5.7 MB/s eta 0:00:01\n",
      "     ------------------------------------ --- 9.7/10.7 MB 6.0 MB/s eta 0:00:01\n",
      "     ---------------------------------------  10.5/10.7 MB 5.9 MB/s eta 0:00:01\n",
      "     ---------------------------------------- 10.7/10.7 MB 5.6 MB/s eta 0:00:00\n",
      "  Installing build dependencies: started\n",
      "  Installing build dependencies: finished with status 'done'\n",
      "  Getting requirements to build wheel: started\n",
      "  Getting requirements to build wheel: finished with status 'error'\n",
      "Note: you may need to restart the kernel to use updated packages.\n"
     ]
    },
    {
     "name": "stderr",
     "output_type": "stream",
     "text": [
      "  error: subprocess-exited-with-error\n",
      "  \n",
      "  × Getting requirements to build wheel did not run successfully.\n",
      "  │ exit code: 1\n",
      "  ╰─> [32 lines of output]\n",
      "      Traceback (most recent call last):\n",
      "        File \u001b[35m\"c:\\Users\\hp\\.conda\\envs\\UM6P_env\\Lib\\site-packages\\pip\\_vendor\\pyproject_hooks\\_in_process\\_in_process.py\"\u001b[0m, line \u001b[35m389\u001b[0m, in \u001b[35m<module>\u001b[0m\n",
      "          \u001b[31mmain\u001b[0m\u001b[1;31m()\u001b[0m\n",
      "          \u001b[31m~~~~\u001b[0m\u001b[1;31m^^\u001b[0m\n",
      "        File \u001b[35m\"c:\\Users\\hp\\.conda\\envs\\UM6P_env\\Lib\\site-packages\\pip\\_vendor\\pyproject_hooks\\_in_process\\_in_process.py\"\u001b[0m, line \u001b[35m373\u001b[0m, in \u001b[35mmain\u001b[0m\n",
      "          json_out[\"return_val\"] = \u001b[31mhook\u001b[0m\u001b[1;31m(**hook_input[\"kwargs\"])\u001b[0m\n",
      "                                   \u001b[31m~~~~\u001b[0m\u001b[1;31m^^^^^^^^^^^^^^^^^^^^^^^^\u001b[0m\n",
      "        File \u001b[35m\"c:\\Users\\hp\\.conda\\envs\\UM6P_env\\Lib\\site-packages\\pip\\_vendor\\pyproject_hooks\\_in_process\\_in_process.py\"\u001b[0m, line \u001b[35m137\u001b[0m, in \u001b[35mget_requires_for_build_wheel\u001b[0m\n",
      "          backend = _build_backend()\n",
      "        File \u001b[35m\"c:\\Users\\hp\\.conda\\envs\\UM6P_env\\Lib\\site-packages\\pip\\_vendor\\pyproject_hooks\\_in_process\\_in_process.py\"\u001b[0m, line \u001b[35m70\u001b[0m, in \u001b[35m_build_backend\u001b[0m\n",
      "          obj = import_module(mod_path)\n",
      "        File \u001b[35m\"c:\\Users\\hp\\.conda\\envs\\UM6P_env\\Lib\\importlib\\__init__.py\"\u001b[0m, line \u001b[35m88\u001b[0m, in \u001b[35mimport_module\u001b[0m\n",
      "          return \u001b[31m_bootstrap._gcd_import\u001b[0m\u001b[1;31m(name[level:], package, level)\u001b[0m\n",
      "                 \u001b[31m~~~~~~~~~~~~~~~~~~~~~~\u001b[0m\u001b[1;31m^^^^^^^^^^^^^^^^^^^^^^^^^^^^^^\u001b[0m\n",
      "        File \u001b[35m\"<frozen importlib._bootstrap>\"\u001b[0m, line \u001b[35m1387\u001b[0m, in \u001b[35m_gcd_import\u001b[0m\n",
      "        File \u001b[35m\"<frozen importlib._bootstrap>\"\u001b[0m, line \u001b[35m1360\u001b[0m, in \u001b[35m_find_and_load\u001b[0m\n",
      "        File \u001b[35m\"<frozen importlib._bootstrap>\"\u001b[0m, line \u001b[35m1310\u001b[0m, in \u001b[35m_find_and_load_unlocked\u001b[0m\n",
      "        File \u001b[35m\"<frozen importlib._bootstrap>\"\u001b[0m, line \u001b[35m488\u001b[0m, in \u001b[35m_call_with_frames_removed\u001b[0m\n",
      "        File \u001b[35m\"<frozen importlib._bootstrap>\"\u001b[0m, line \u001b[35m1387\u001b[0m, in \u001b[35m_gcd_import\u001b[0m\n",
      "        File \u001b[35m\"<frozen importlib._bootstrap>\"\u001b[0m, line \u001b[35m1360\u001b[0m, in \u001b[35m_find_and_load\u001b[0m\n",
      "        File \u001b[35m\"<frozen importlib._bootstrap>\"\u001b[0m, line \u001b[35m1331\u001b[0m, in \u001b[35m_find_and_load_unlocked\u001b[0m\n",
      "        File \u001b[35m\"<frozen importlib._bootstrap>\"\u001b[0m, line \u001b[35m935\u001b[0m, in \u001b[35m_load_unlocked\u001b[0m\n",
      "        File \u001b[35m\"<frozen importlib._bootstrap_external>\"\u001b[0m, line \u001b[35m1026\u001b[0m, in \u001b[35mexec_module\u001b[0m\n",
      "        File \u001b[35m\"<frozen importlib._bootstrap>\"\u001b[0m, line \u001b[35m488\u001b[0m, in \u001b[35m_call_with_frames_removed\u001b[0m\n",
      "        File \u001b[35m\"C:\\Users\\hp\\AppData\\Local\\Temp\\pip-build-env-4erz4sxe\\overlay\\Lib\\site-packages\\setuptools\\__init__.py\"\u001b[0m, line \u001b[35m16\u001b[0m, in \u001b[35m<module>\u001b[0m\n",
      "          import setuptools.version\n",
      "        File \u001b[35m\"C:\\Users\\hp\\AppData\\Local\\Temp\\pip-build-env-4erz4sxe\\overlay\\Lib\\site-packages\\setuptools\\version.py\"\u001b[0m, line \u001b[35m1\u001b[0m, in \u001b[35m<module>\u001b[0m\n",
      "          import pkg_resources\n",
      "        File \u001b[35m\"C:\\Users\\hp\\AppData\\Local\\Temp\\pip-build-env-4erz4sxe\\overlay\\Lib\\site-packages\\pkg_resources\\__init__.py\"\u001b[0m, line \u001b[35m2172\u001b[0m, in \u001b[35m<module>\u001b[0m\n",
      "          register_finder(\u001b[1;31mpkgutil.ImpImporter\u001b[0m, find_on_path)\n",
      "                          \u001b[1;31m^^^^^^^^^^^^^^^^^^^\u001b[0m\n",
      "      \u001b[1;35mAttributeError\u001b[0m: \u001b[35mmodule 'pkgutil' has no attribute 'ImpImporter'. Did you mean: 'zipimporter'?\u001b[0m\n",
      "      [end of output]\n",
      "  \n",
      "  note: This error originates from a subprocess, and is likely not a problem with pip.\n",
      "error: subprocess-exited-with-error\n",
      "\n",
      "× Getting requirements to build wheel did not run successfully.\n",
      "│ exit code: 1\n",
      "╰─> See above for output.\n",
      "\n",
      "note: This error originates from a subprocess, and is likely not a problem with pip.\n"
     ]
    }
   ],
   "source": [
    "pip install numpy==1.23.5"
   ]
  },
  {
   "cell_type": "code",
   "execution_count": 7,
   "metadata": {},
   "outputs": [
    {
     "name": "stdout",
     "output_type": "stream",
     "text": [
      "Collecting gensim\n",
      "  Using cached gensim-4.3.3.tar.gz (23.3 MB)\n",
      "  Installing build dependencies: started\n",
      "  Installing build dependencies: finished with status 'done'\n",
      "  Getting requirements to build wheel: started\n",
      "  Getting requirements to build wheel: finished with status 'done'\n",
      "  Preparing metadata (pyproject.toml): started\n",
      "  Preparing metadata (pyproject.toml): finished with status 'done'\n",
      "Collecting numpy<2.0,>=1.18.5 (from gensim)\n",
      "  Using cached numpy-1.26.4.tar.gz (15.8 MB)\n",
      "  Installing build dependencies: started\n",
      "  Installing build dependencies: finished with status 'done'\n",
      "  Getting requirements to build wheel: started\n",
      "  Getting requirements to build wheel: finished with status 'done'\n",
      "  Installing backend dependencies: started\n",
      "  Installing backend dependencies: finished with status 'done'\n",
      "  Preparing metadata (pyproject.toml): started\n",
      "  Preparing metadata (pyproject.toml): finished with status 'error'\n",
      "Note: you may need to restart the kernel to use updated packages.\n"
     ]
    },
    {
     "name": "stderr",
     "output_type": "stream",
     "text": [
      "  error: subprocess-exited-with-error\n",
      "  \n",
      "  × Preparing metadata (pyproject.toml) did not run successfully.\n",
      "  │ exit code: 2\n",
      "  ╰─> [92 lines of output]\n",
      "      + c:\\Users\\hp\\.conda\\envs\\UM6P_env\\python.exe C:\\Users\\hp\\AppData\\Local\\Temp\\pip-install-zm_2hi56\\numpy_cf6f25052520451da0158564a0a7d219\\vendored-meson\\meson\\meson.py setup C:\\Users\\hp\\AppData\\Local\\Temp\\pip-install-zm_2hi56\\numpy_cf6f25052520451da0158564a0a7d219 C:\\Users\\hp\\AppData\\Local\\Temp\\pip-install-zm_2hi56\\numpy_cf6f25052520451da0158564a0a7d219\\.mesonpy-unen7cd4 -Dbuildtype=release -Db_ndebug=if-release -Db_vscrt=md --native-file=C:\\Users\\hp\\AppData\\Local\\Temp\\pip-install-zm_2hi56\\numpy_cf6f25052520451da0158564a0a7d219\\.mesonpy-unen7cd4\\meson-python-native-file.ini\n",
      "      The Meson build system\n",
      "      Version: 1.2.99\n",
      "      Source dir: C:\\Users\\hp\\AppData\\Local\\Temp\\pip-install-zm_2hi56\\numpy_cf6f25052520451da0158564a0a7d219\n",
      "      Build dir: C:\\Users\\hp\\AppData\\Local\\Temp\\pip-install-zm_2hi56\\numpy_cf6f25052520451da0158564a0a7d219\\.mesonpy-unen7cd4\n",
      "      Build type: native build\n",
      "      Project name: NumPy\n",
      "      Project version: 1.26.4\n",
      "      Activating VS 17.13.1\n",
      "      Exception in thread Exception in thread Thread-4 (_readerthread)Thread-3 (_readerthread):\n",
      "      :\n",
      "      Traceback (most recent call last):\n",
      "        File \u001b[35m\"c:\\Users\\hp\\.conda\\envs\\UM6P_env\\Lib\\threading.py\"\u001b[0m, line \u001b[35m1041\u001b[0m, in \u001b[35m_bootstrap_inner\u001b[0m\n",
      "          \u001b[31mself.run\u001b[0m\u001b[1;31m()\u001b[0m\n",
      "          \u001b[31m~~~~~~~~\u001b[0m\u001b[1;31m^^\u001b[0m\n",
      "        File \u001b[35m\"c:\\Users\\hp\\.conda\\envs\\UM6P_env\\Lib\\threading.py\"\u001b[0m, line \u001b[35m992\u001b[0m, in \u001b[35mrun\u001b[0m\n",
      "          \u001b[31mself._target\u001b[0m\u001b[1;31m(*self._args, **self._kwargs)\u001b[0m\n",
      "          \u001b[31m~~~~~~~~~~~~\u001b[0m\u001b[1;31m^^^^^^^^^^^^^^^^^^^^^^^^^^^^^\u001b[0m\n",
      "        File \u001b[35m\"c:\\Users\\hp\\.conda\\envs\\UM6P_env\\Lib\\subprocess.py\"\u001b[0m, line \u001b[35m1611\u001b[0m, in \u001b[35m_readerthread\u001b[0m\n",
      "          buffer.append(\u001b[31mfh.read\u001b[0m\u001b[1;31m()\u001b[0m)\n",
      "                        \u001b[31m~~~~~~~\u001b[0m\u001b[1;31m^^\u001b[0m\n",
      "        File \u001b[35m\"<frozen codecs>\"\u001b[0m, line \u001b[35m325\u001b[0m, in \u001b[35mdecode\u001b[0m\n",
      "      \u001b[1;35mUnicodeDecodeError\u001b[0m: \u001b[35m'utf-8' codec can't decode byte 0xff in position 47: invalid start byte\u001b[0m\n",
      "      Traceback (most recent call last):\n",
      "        File \u001b[35m\"c:\\Users\\hp\\.conda\\envs\\UM6P_env\\Lib\\threading.py\"\u001b[0m, line \u001b[35m1041\u001b[0m, in \u001b[35m_bootstrap_inner\u001b[0m\n",
      "          \u001b[31mself.run\u001b[0m\u001b[1;31m()\u001b[0m\n",
      "          \u001b[31m~~~~~~~~\u001b[0m\u001b[1;31m^^\u001b[0m\n",
      "        File \u001b[35m\"c:\\Users\\hp\\.conda\\envs\\UM6P_env\\Lib\\threading.py\"\u001b[0m, line \u001b[35m992\u001b[0m, in \u001b[35mrun\u001b[0m\n",
      "          \u001b[31mself._target\u001b[0m\u001b[1;31m(*self._args, **self._kwargs)\u001b[0m\n",
      "          \u001b[31m~~~~~~~~~~~~\u001b[0m\u001b[1;31m^^^^^^^^^^^^^^^^^^^^^^^^^^^^^\u001b[0m\n",
      "        File \u001b[35m\"c:\\Users\\hp\\.conda\\envs\\UM6P_env\\Lib\\subprocess.py\"\u001b[0m, line \u001b[35m1611\u001b[0m, in \u001b[35m_readerthread\u001b[0m\n",
      "          buffer.append(\u001b[31mfh.read\u001b[0m\u001b[1;31m()\u001b[0m)\n",
      "                        \u001b[31m~~~~~~~\u001b[0m\u001b[1;31m^^\u001b[0m\n",
      "        File \u001b[35m\"<frozen codecs>\"\u001b[0m, line \u001b[35m325\u001b[0m, in \u001b[35mdecode\u001b[0m\n",
      "      \u001b[1;35mUnicodeDecodeError\u001b[0m: \u001b[35m'utf-8' codec can't decode byte 0xff in position 54: invalid start byte\u001b[0m\n",
      "      Traceback (most recent call last):\n",
      "        File \"C:\\Users\\hp\\AppData\\Local\\Temp\\pip-install-zm_2hi56\\numpy_cf6f25052520451da0158564a0a7d219\\vendored-meson\\meson\\mesonbuild\\mesonmain.py\", line 194, in run\n",
      "          return options.run_func(options)\n",
      "                 ~~~~~~~~~~~~~~~~^^^^^^^^^\n",
      "        File \"C:\\Users\\hp\\AppData\\Local\\Temp\\pip-install-zm_2hi56\\numpy_cf6f25052520451da0158564a0a7d219\\vendored-meson\\meson\\mesonbuild\\msetup.py\", line 358, in run\n",
      "          app.generate()\n",
      "          ~~~~~~~~~~~~^^\n",
      "        File \"C:\\Users\\hp\\AppData\\Local\\Temp\\pip-install-zm_2hi56\\numpy_cf6f25052520451da0158564a0a7d219\\vendored-meson\\meson\\mesonbuild\\msetup.py\", line 183, in generate\n",
      "          return self._generate(env, capture, vslite_ctx)\n",
      "                 ~~~~~~~~~~~~~~^^^^^^^^^^^^^^^^^^^^^^^^^^\n",
      "        File \"C:\\Users\\hp\\AppData\\Local\\Temp\\pip-install-zm_2hi56\\numpy_cf6f25052520451da0158564a0a7d219\\vendored-meson\\meson\\mesonbuild\\msetup.py\", line 205, in _generate\n",
      "          intr = interpreter.Interpreter(b, user_defined_options=user_defined_options)\n",
      "        File \"C:\\Users\\hp\\AppData\\Local\\Temp\\pip-install-zm_2hi56\\numpy_cf6f25052520451da0158564a0a7d219\\vendored-meson\\meson\\mesonbuild\\interpreter\\interpreter.py\", line 331, in __init__\n",
      "          self.parse_project()\n",
      "          ~~~~~~~~~~~~~~~~~~^^\n",
      "        File \"C:\\Users\\hp\\AppData\\Local\\Temp\\pip-install-zm_2hi56\\numpy_cf6f25052520451da0158564a0a7d219\\vendored-meson\\meson\\mesonbuild\\interpreterbase\\interpreterbase.py\", line 134, in parse_project\n",
      "          self.evaluate_codeblock(self.ast, end=1)\n",
      "          ~~~~~~~~~~~~~~~~~~~~~~~^^^^^^^^^^^^^^^^^\n",
      "        File \"C:\\Users\\hp\\AppData\\Local\\Temp\\pip-install-zm_2hi56\\numpy_cf6f25052520451da0158564a0a7d219\\vendored-meson\\meson\\mesonbuild\\interpreterbase\\interpreterbase.py\", line 190, in evaluate_codeblock\n",
      "          raise e\n",
      "        File \"C:\\Users\\hp\\AppData\\Local\\Temp\\pip-install-zm_2hi56\\numpy_cf6f25052520451da0158564a0a7d219\\vendored-meson\\meson\\mesonbuild\\interpreterbase\\interpreterbase.py\", line 182, in evaluate_codeblock\n",
      "          self.evaluate_statement(cur)\n",
      "          ~~~~~~~~~~~~~~~~~~~~~~~^^^^^\n",
      "        File \"C:\\Users\\hp\\AppData\\Local\\Temp\\pip-install-zm_2hi56\\numpy_cf6f25052520451da0158564a0a7d219\\vendored-meson\\meson\\mesonbuild\\interpreterbase\\interpreterbase.py\", line 196, in evaluate_statement\n",
      "          return self.function_call(cur)\n",
      "                 ~~~~~~~~~~~~~~~~~~^^^^^\n",
      "        File \"C:\\Users\\hp\\AppData\\Local\\Temp\\pip-install-zm_2hi56\\numpy_cf6f25052520451da0158564a0a7d219\\vendored-meson\\meson\\mesonbuild\\interpreterbase\\interpreterbase.py\", line 521, in function_call\n",
      "          res = func(node, func_args, kwargs)\n",
      "        File \"C:\\Users\\hp\\AppData\\Local\\Temp\\pip-install-zm_2hi56\\numpy_cf6f25052520451da0158564a0a7d219\\vendored-meson\\meson\\mesonbuild\\interpreterbase\\decorators.py\", line 277, in wrapper\n",
      "          return f(*nargs, **wrapped_kwargs)\n",
      "        File \"C:\\Users\\hp\\AppData\\Local\\Temp\\pip-install-zm_2hi56\\numpy_cf6f25052520451da0158564a0a7d219\\vendored-meson\\meson\\mesonbuild\\interpreterbase\\decorators.py\", line 596, in wrapper\n",
      "          return f(*wrapped_args, **wrapped_kwargs)\n",
      "        File \"C:\\Users\\hp\\AppData\\Local\\Temp\\pip-install-zm_2hi56\\numpy_cf6f25052520451da0158564a0a7d219\\vendored-meson\\meson\\mesonbuild\\interpreter\\interpreter.py\", line 1315, in func_project\n",
      "          self.add_languages(proj_langs, True, MachineChoice.HOST)\n",
      "          ~~~~~~~~~~~~~~~~~~^^^^^^^^^^^^^^^^^^^^^^^^^^^^^^^^^^^^^^\n",
      "        File \"C:\\Users\\hp\\AppData\\Local\\Temp\\pip-install-zm_2hi56\\numpy_cf6f25052520451da0158564a0a7d219\\vendored-meson\\meson\\mesonbuild\\interpreter\\interpreter.py\", line 1472, in add_languages\n",
      "          success = self.add_languages_for(args, required, for_machine)\n",
      "        File \"C:\\Users\\hp\\AppData\\Local\\Temp\\pip-install-zm_2hi56\\numpy_cf6f25052520451da0158564a0a7d219\\vendored-meson\\meson\\mesonbuild\\interpreter\\interpreter.py\", line 1515, in add_languages_for\n",
      "          comp = compilers.detect_compiler_for(self.environment, lang, for_machine, skip_sanity_check)\n",
      "        File \"C:\\Users\\hp\\AppData\\Local\\Temp\\pip-install-zm_2hi56\\numpy_cf6f25052520451da0158564a0a7d219\\vendored-meson\\meson\\mesonbuild\\compilers\\detect.py\", line 115, in detect_compiler_for\n",
      "          comp = compiler_from_language(env, lang, for_machine)\n",
      "        File \"C:\\Users\\hp\\AppData\\Local\\Temp\\pip-install-zm_2hi56\\numpy_cf6f25052520451da0158564a0a7d219\\vendored-meson\\meson\\mesonbuild\\compilers\\detect.py\", line 112, in compiler_from_language\n",
      "          return lang_map[lang](env, for_machine) if lang in lang_map else None\n",
      "                 ~~~~~~~~~~~~~~^^^^^^^^^^^^^^^^^^\n",
      "        File \"C:\\Users\\hp\\AppData\\Local\\Temp\\pip-install-zm_2hi56\\numpy_cf6f25052520451da0158564a0a7d219\\vendored-meson\\meson\\mesonbuild\\compilers\\detect.py\", line 614, in detect_c_compiler\n",
      "          return _detect_c_or_cpp_compiler(env, 'c', for_machine)\n",
      "        File \"C:\\Users\\hp\\AppData\\Local\\Temp\\pip-install-zm_2hi56\\numpy_cf6f25052520451da0158564a0a7d219\\vendored-meson\\meson\\mesonbuild\\compilers\\detect.py\", line 330, in _detect_c_or_cpp_compiler\n",
      "          p, out, err = Popen_safe_logged(cmd, msg='Detecting compiler via')\n",
      "                        ~~~~~~~~~~~~~~~~~^^^^^^^^^^^^^^^^^^^^^^^^^^^^^^^^^^^\n",
      "        File \"C:\\Users\\hp\\AppData\\Local\\Temp\\pip-install-zm_2hi56\\numpy_cf6f25052520451da0158564a0a7d219\\vendored-meson\\meson\\mesonbuild\\utils\\universal.py\", line 1530, in Popen_safe_logged\n",
      "          rc, out, err = p.returncode, o.strip(), e.strip()\n",
      "                                       ^^^^^^^\n",
      "      AttributeError: 'NoneType' object has no attribute 'strip'\n",
      "      \n",
      "      ..\\meson.build:1:0: ERROR: Unhandled python exception\n",
      "      \n",
      "          This is a Meson bug and should be reported!\n",
      "      [end of output]\n",
      "  \n",
      "  note: This error originates from a subprocess, and is likely not a problem with pip.\n",
      "error: metadata-generation-failed\n",
      "\n",
      "× Encountered error while generating package metadata.\n",
      "╰─> See above for output.\n",
      "\n",
      "note: This is an issue with the package mentioned above, not pip.\n",
      "hint: See above for details.\n"
     ]
    }
   ],
   "source": [
    "pip install gensim"
   ]
  },
  {
   "cell_type": "code",
   "execution_count": 3,
   "metadata": {},
   "outputs": [
    {
     "name": "stdout",
     "output_type": "stream",
     "text": [
      "Requirement already satisfied: rdflib in c:\\users\\hp\\.conda\\envs\\um6p_env\\lib\\site-packages (7.1.3)\n",
      "Requirement already satisfied: pyparsing<4,>=2.1.0 in c:\\users\\hp\\.conda\\envs\\um6p_env\\lib\\site-packages (from rdflib) (3.2.1)\n",
      "Note: you may need to restart the kernel to use updated packages.\n"
     ]
    }
   ],
   "source": [
    "pip install rdflib"
   ]
  }
 ],
 "metadata": {
  "kernelspec": {
   "display_name": "UM6P_env",
   "language": "python",
   "name": "python3"
  },
  "language_info": {
   "codemirror_mode": {
    "name": "ipython",
    "version": 3
   },
   "file_extension": ".py",
   "mimetype": "text/x-python",
   "name": "python",
   "nbconvert_exporter": "python",
   "pygments_lexer": "ipython3",
   "version": "3.13.2"
  }
 },
 "nbformat": 4,
 "nbformat_minor": 2
}
