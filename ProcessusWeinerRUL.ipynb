{
 "cells": [
  {
   "cell_type": "code",
   "execution_count": 2,
   "id": "42b361a0",
   "metadata": {},
   "outputs": [
    {
     "name": "stderr",
     "output_type": "stream",
     "text": [
      "  0%|          | 0/11 [00:00<?, ?it/s]C:\\Users\\hp\\AppData\\Local\\Temp\\ipykernel_24516\\2653494427.py:55: DeprecationWarning: `trapz` is deprecated. Use `trapezoid` instead, or one of the numerical integration functions in `scipy.integrate`.\n",
      "  integral = np.trapz(fdp, ht_values)\n",
      "C:\\Users\\hp\\AppData\\Local\\Temp\\ipykernel_24516\\2653494427.py:61: DeprecationWarning: `trapz` is deprecated. Use `trapezoid` instead, or one of the numerical integration functions in `scipy.integrate`.\n",
      "  rul[i] = np.trapz(ht_values * fdp, ht_values)  # eq 1.28\n"
     ]
    },
    {
     "name": "stdout",
     "output_type": "stream",
     "text": [
      "Traitement : Temp échappement Droit 540\n"
     ]
    },
    {
     "name": "stderr",
     "output_type": "stream",
     "text": [
      "  9%|▉         | 1/11 [00:24<04:02, 24.29s/it]"
     ]
    },
    {
     "name": "stdout",
     "output_type": "stream",
     "text": [
      "Traitement : Temp échappement gauche 538\n"
     ]
    },
    {
     "name": "stderr",
     "output_type": "stream",
     "text": [
      " 18%|█▊        | 2/11 [00:51<03:53, 25.94s/it]"
     ]
    },
    {
     "name": "stdout",
     "output_type": "stream",
     "text": [
      "Traitement : Temp liquide refroidissement 525\n"
     ]
    },
    {
     "name": "stderr",
     "output_type": "stream",
     "text": [
      " 27%|██▋       | 3/11 [01:11<03:07, 23.38s/it]"
     ]
    },
    {
     "name": "stdout",
     "output_type": "stream",
     "text": [
      "Traitement : Temp sortie convertisseur 544\n"
     ]
    },
    {
     "name": "stderr",
     "output_type": "stream",
     "text": [
      " 36%|███▋      | 4/11 [01:30<02:29, 21.39s/it]"
     ]
    },
    {
     "name": "stdout",
     "output_type": "stream",
     "text": [
      "Traitement : Pression embrayage impeller 536\n"
     ]
    },
    {
     "name": "stderr",
     "output_type": "stream",
     "text": [
      " 45%|████▌     | 5/11 [01:49<02:03, 20.66s/it]"
     ]
    },
    {
     "name": "stdout",
     "output_type": "stream",
     "text": [
      "Traitement : Température Essieux avant 531\n"
     ]
    },
    {
     "name": "stderr",
     "output_type": "stream",
     "text": [
      " 55%|█████▍    | 6/11 [02:08<01:40, 20.04s/it]"
     ]
    },
    {
     "name": "stdout",
     "output_type": "stream",
     "text": [
      "Traitement : Régime moteur 530 \n"
     ]
    },
    {
     "name": "stderr",
     "output_type": "stream",
     "text": [
      " 64%|██████▎   | 7/11 [02:27<01:19, 19.79s/it]"
     ]
    },
    {
     "name": "stdout",
     "output_type": "stream",
     "text": [
      "Traitement : Température huile direction 541\n"
     ]
    },
    {
     "name": "stderr",
     "output_type": "stream",
     "text": [
      " 73%|███████▎  | 8/11 [02:41<00:54, 18.02s/it]"
     ]
    },
    {
     "name": "stdout",
     "output_type": "stream",
     "text": [
      "Traitement : Température huile freinage 522\n"
     ]
    },
    {
     "name": "stderr",
     "output_type": "stream",
     "text": [
      " 82%|████████▏ | 9/11 [02:57<00:34, 17.45s/it]"
     ]
    },
    {
     "name": "stdout",
     "output_type": "stream",
     "text": [
      "Traitement : Température PTO avant 532\n"
     ]
    },
    {
     "name": "stderr",
     "output_type": "stream",
     "text": [
      " 91%|█████████ | 10/11 [03:11<00:16, 16.27s/it]"
     ]
    },
    {
     "name": "stdout",
     "output_type": "stream",
     "text": [
      "Traitement : Pression huile moteur 529\n"
     ]
    },
    {
     "name": "stderr",
     "output_type": "stream",
     "text": [
      "100%|██████████| 11/11 [03:25<00:00, 18.69s/it]\n"
     ]
    }
   ],
   "source": [
    "import pandas as pd\n",
    "import numpy as np\n",
    "from scipy.stats import norm\n",
    "from tqdm import tqdm\n",
    "import matplotlib.pyplot as plt\n",
    "\n",
    "# === 1. Chargement du fichier Excel ===\n",
    "file_path = r\"C:\\Users\\hp\\Desktop\\Données Capteurs global with HI.xlsx\"\n",
    "df = pd.read_excel(file_path, sheet_name=\"Feuil1\")\n",
    "df = df.sort_values(\"Heure\").reset_index(drop=True)\n",
    "\n",
    "# === 2. Seuils critiques pour chaque capteur ===\n",
    "seuils = {\n",
    "    'Temp échappement Droit 540': 618.0,\n",
    "    'Temp échappement gauche 538': 607.5,\n",
    "    'Temp liquide refroidissement 525': 102.0,\n",
    "    'Temp sortie convertisseur 544': 128.5,\n",
    "    'Pression embrayage impeller 536': 3967.5,\n",
    "    'Température Essieux avant 531': 69.0,\n",
    "    'Régime moteur 530 ': 1951.0,  # attention à l'espace\n",
    "    'Température huile direction 541': 79.5,\n",
    "    'Température huile freinage 522': 111.0,\n",
    "    'Température PTO avant 532': 88.5,\n",
    "    'Pression huile moteur 529': 518.5\n",
    "}\n",
    "\n",
    "# === 3. Fonction du processus de Wiener avec Kalman et RUL estimation ===\n",
    "def wiener_rul_estimation(sensor_series, seuil, mu_init=0.1, P0=1.0, Q=0.01, sigma=1.0):\n",
    "    X = sensor_series.values\n",
    "    rul = np.zeros_like(X, dtype=float)\n",
    "\n",
    "    mu_t = mu_init\n",
    "    Pt = P0\n",
    "\n",
    "    for i in range(1, len(X)):\n",
    "        dt = 1  # pas de temps\n",
    "        Ft = (dt) * Pt + sigma**2 * dt\n",
    "        Kt = Pt * dt / Ft\n",
    "        mu_t = mu_t + Kt * ((X[i] - X[i-1]) - mu_t * dt)\n",
    "        Pt = Pt - Kt * dt * Pt + Q\n",
    "\n",
    "        w = seuil\n",
    "        Xi = X[i]\n",
    "        if Xi >= w:\n",
    "            rul[i] = 0\n",
    "            continue\n",
    "\n",
    "        # Calcul de la fdp f_t(h_t) (eq 1.27)\n",
    "        ht_values = np.linspace(1, 200, 200)\n",
    "        diff = w - Xi\n",
    "        denom = np.sqrt(2 * np.pi * ht_values**3 * sigma**2)\n",
    "        exponent = -((diff - mu_t * ht_values)**2) / (2 * ht_values * sigma**2)\n",
    "        fdp = (diff / denom) * np.exp(exponent)\n",
    "\n",
    "        integral = np.trapz(fdp, ht_values)\n",
    "        if integral <= 0 or np.isnan(integral):\n",
    "            rul[i] = 0\n",
    "            continue\n",
    "\n",
    "        fdp /= integral  # normaliser\n",
    "        rul[i] = np.trapz(ht_values * fdp, ht_values)  # eq 1.28\n",
    "\n",
    "    return rul\n",
    "\n",
    "# === 4. Application à tous les capteurs ===\n",
    "rul_results = {}\n",
    "for capteur in tqdm(seuils):\n",
    "    if capteur not in df.columns:\n",
    "        print(f\"Colonne manquante : {capteur}\")\n",
    "        continue\n",
    "    print(f\"Traitement : {capteur}\")\n",
    "    rul_results[capteur] = wiener_rul_estimation(df[capteur], seuils[capteur])\n",
    "\n",
    "# === 5. Compilation finale ===\n",
    "rul_df = pd.DataFrame(rul_results)\n",
    "rul_df[\"Heure\"] = df[\"Heure\"]\n",
    "rul_df = rul_df.set_index(\"Heure\")\n",
    "\n",
    "# === 6. Sauvegarde Excel ou CSV ===\n",
    "rul_df.to_excel(\"RUL_Wiener_resultats.xlsx\")\n"
   ]
  },
  {
   "cell_type": "markdown",
   "id": "45153ac5",
   "metadata": {},
   "source": [
    "## Precessus de Gamma "
   ]
  },
  {
   "cell_type": "code",
   "execution_count": 3,
   "id": "c83274d8",
   "metadata": {},
   "outputs": [
    {
     "name": "stderr",
     "output_type": "stream",
     "text": [
      "Calcul du RUL Gamma:   0%|          | 0/11 [00:00<?, ?it/s]"
     ]
    },
    {
     "name": "stdout",
     "output_type": "stream",
     "text": [
      "→ Traitement : Temp échappement Droit 540\n"
     ]
    },
    {
     "name": "stderr",
     "output_type": "stream",
     "text": [
      "Calcul du RUL Gamma:   9%|▉         | 1/11 [00:09<01:31,  9.13s/it]"
     ]
    },
    {
     "name": "stdout",
     "output_type": "stream",
     "text": [
      "→ Traitement : Temp échappement gauche 538\n"
     ]
    },
    {
     "name": "stderr",
     "output_type": "stream",
     "text": [
      "Calcul du RUL Gamma:  18%|█▊        | 2/11 [00:17<01:15,  8.39s/it]"
     ]
    },
    {
     "name": "stdout",
     "output_type": "stream",
     "text": [
      "→ Traitement : Temp liquide refroidissement 525\n"
     ]
    },
    {
     "name": "stderr",
     "output_type": "stream",
     "text": [
      "Calcul du RUL Gamma:  27%|██▋       | 3/11 [00:24<01:04,  8.06s/it]"
     ]
    },
    {
     "name": "stdout",
     "output_type": "stream",
     "text": [
      "→ Traitement : Temp sortie convertisseur 544\n"
     ]
    },
    {
     "name": "stderr",
     "output_type": "stream",
     "text": [
      "Calcul du RUL Gamma:  36%|███▋      | 4/11 [00:31<00:53,  7.67s/it]"
     ]
    },
    {
     "name": "stdout",
     "output_type": "stream",
     "text": [
      "→ Traitement : Pression embrayage impeller 536\n"
     ]
    },
    {
     "name": "stderr",
     "output_type": "stream",
     "text": [
      "Calcul du RUL Gamma:  45%|████▌     | 5/11 [00:38<00:44,  7.40s/it]"
     ]
    },
    {
     "name": "stdout",
     "output_type": "stream",
     "text": [
      "→ Traitement : Température Essieux avant 531\n"
     ]
    },
    {
     "name": "stderr",
     "output_type": "stream",
     "text": [
      "Calcul du RUL Gamma:  55%|█████▍    | 6/11 [00:43<00:33,  6.67s/it]"
     ]
    },
    {
     "name": "stdout",
     "output_type": "stream",
     "text": [
      "→ Traitement : Régime moteur 530 \n"
     ]
    },
    {
     "name": "stderr",
     "output_type": "stream",
     "text": [
      "Calcul du RUL Gamma:  64%|██████▎   | 7/11 [00:48<00:23,  5.98s/it]"
     ]
    },
    {
     "name": "stdout",
     "output_type": "stream",
     "text": [
      "→ Traitement : Température huile direction 541\n"
     ]
    },
    {
     "name": "stderr",
     "output_type": "stream",
     "text": [
      "Calcul du RUL Gamma:  73%|███████▎  | 8/11 [00:53<00:16,  5.55s/it]"
     ]
    },
    {
     "name": "stdout",
     "output_type": "stream",
     "text": [
      "→ Traitement : Température huile freinage 522\n"
     ]
    },
    {
     "name": "stderr",
     "output_type": "stream",
     "text": [
      "Calcul du RUL Gamma:  82%|████████▏ | 9/11 [00:58<00:11,  5.59s/it]"
     ]
    },
    {
     "name": "stdout",
     "output_type": "stream",
     "text": [
      "→ Traitement : Température PTO avant 532\n"
     ]
    },
    {
     "name": "stderr",
     "output_type": "stream",
     "text": [
      "Calcul du RUL Gamma:  91%|█████████ | 10/11 [01:03<00:05,  5.20s/it]"
     ]
    },
    {
     "name": "stdout",
     "output_type": "stream",
     "text": [
      "→ Traitement : Pression huile moteur 529\n"
     ]
    },
    {
     "name": "stderr",
     "output_type": "stream",
     "text": [
      "Calcul du RUL Gamma: 100%|██████████| 11/11 [01:07<00:00,  6.14s/it]\n"
     ]
    },
    {
     "name": "stdout",
     "output_type": "stream",
     "text": [
      "✅ Fichier Excel généré : RUL_Gamma_Resultats.xlsx\n"
     ]
    }
   ],
   "source": [
    "import pandas as pd\n",
    "import numpy as np\n",
    "from scipy.special import gammaincc\n",
    "from tqdm import tqdm\n",
    "\n",
    "# === 1. Charger les données ===\n",
    "file_path = r\"C:\\Users\\hp\\Desktop\\Données Capteurs global with HI.xlsx\"\n",
    "df = pd.read_excel(file_path, sheet_name=\"Feuil1\")\n",
    "df = df.sort_values(\"Heure\").reset_index(drop=True)\n",
    "\n",
    "# === 2. Définir les seuils critiques ===\n",
    "seuils = {\n",
    "    'Temp échappement Droit 540': 618.0,\n",
    "    'Temp échappement gauche 538': 607.5,\n",
    "    'Temp liquide refroidissement 525': 102.0,\n",
    "    'Temp sortie convertisseur 544': 128.5,\n",
    "    'Pression embrayage impeller 536': 3967.5,\n",
    "    'Température Essieux avant 531': 69.0,\n",
    "    'Régime moteur 530 ': 1951.0,  # attention à l'espace\n",
    "    'Température huile direction 541': 79.5,\n",
    "    'Température huile freinage 522': 111.0,\n",
    "    'Température PTO avant 532': 88.5,\n",
    "    'Pression huile moteur 529': 518.5\n",
    "}\n",
    "\n",
    "# === 3. Fonction d'estimation du RUL selon le processus Gamma (Abdel-Hameed) ===\n",
    "def gamma_rul_abdel(sensor_series, seuil, u=1.0):\n",
    "    X = sensor_series.values\n",
    "    n = len(X)\n",
    "    RUL = np.zeros(n)\n",
    "    S = seuil\n",
    "\n",
    "    for t in range(n):\n",
    "        xt = X[t]\n",
    "        if xt >= S:\n",
    "            RUL[t] = 0\n",
    "            continue\n",
    "\n",
    "        v_t = t + 1\n",
    "        shape = v_t / u\n",
    "        Su = S * u\n",
    "\n",
    "        try:\n",
    "            F_t = gammaincc(shape, Su)\n",
    "            if F_t <= 0 or np.isnan(F_t):\n",
    "                RUL[t] = 0\n",
    "            else:\n",
    "                Tt = np.mean(np.linspace(t + 1, t + 200, 200))\n",
    "                RUL[t] = Tt - t\n",
    "        except:\n",
    "            RUL[t] = 0\n",
    "\n",
    "    return RUL\n",
    "\n",
    "# === 4. Application à tous les capteurs ===\n",
    "gamma_rul_results = {}\n",
    "\n",
    "for capteur in tqdm(seuils, desc=\"Calcul du RUL Gamma\"):\n",
    "    if capteur not in df.columns:\n",
    "        print(f\"⚠️ Colonne introuvable : {capteur}\")\n",
    "        continue\n",
    "    print(f\"→ Traitement : {capteur}\")\n",
    "    gamma_rul_results[capteur] = gamma_rul_abdel(df[capteur], seuils[capteur])\n",
    "\n",
    "# === 5. Assemblage final ===\n",
    "gamma_rul_df = pd.DataFrame(gamma_rul_results)\n",
    "gamma_rul_df[\"Heure\"] = df[\"Heure\"]\n",
    "gamma_rul_df = gamma_rul_df.set_index(\"Heure\")\n",
    "\n",
    "# === 6. Sauvegarde Excel ===\n",
    "gamma_rul_df.to_excel(\"RUL_Gamma_Resultats.xlsx\")\n",
    "print(\"✅ Fichier Excel généré : RUL_Gamma_Resultats.xlsx\")\n"
   ]
  },
  {
   "cell_type": "markdown",
   "id": "02d924d3",
   "metadata": {},
   "source": [
    "## Comparaison entre Weiner et Gamma "
   ]
  },
  {
   "cell_type": "code",
   "execution_count": 4,
   "id": "b44d3e2e",
   "metadata": {},
   "outputs": [
    {
     "ename": "NameError",
     "evalue": "name 'rul_df_wiener' is not defined",
     "output_type": "error",
     "traceback": [
      "\u001b[1;31m---------------------------------------------------------------------------\u001b[0m",
      "\u001b[1;31mNameError\u001b[0m                                 Traceback (most recent call last)",
      "Cell \u001b[1;32mIn[4], line 3\u001b[0m\n\u001b[0;32m      1\u001b[0m \u001b[38;5;66;03m# === 8. Analyse comparative pour un capteur ===\u001b[39;00m\n\u001b[0;32m      2\u001b[0m capteur_test \u001b[38;5;241m=\u001b[39m \u001b[38;5;124m\"\u001b[39m\u001b[38;5;124mTemp échappement Droit 540\u001b[39m\u001b[38;5;124m\"\u001b[39m\n\u001b[1;32m----> 3\u001b[0m w \u001b[38;5;241m=\u001b[39m \u001b[43mrul_df_wiener\u001b[49m[capteur_test]\n\u001b[0;32m      4\u001b[0m g \u001b[38;5;241m=\u001b[39m rul_df_gamma[capteur_test]\n\u001b[0;32m      5\u001b[0m x \u001b[38;5;241m=\u001b[39m df[capteur_test]\n",
      "\u001b[1;31mNameError\u001b[0m: name 'rul_df_wiener' is not defined"
     ]
    }
   ],
   "source": [
    "# === 8. Analyse comparative pour un capteur ===\n",
    "capteur_test = \"Temp échappement Droit 540\"\n",
    "w = rul_df_wiener[capteur_test]\n",
    "g = rul_df_gamma[capteur_test]\n",
    "x = df[capteur_test]\n",
    "seuil = seuils[capteur_test]\n",
    "\n",
    "# Métriques\n",
    "def monotonicity(rul): return np.mean(np.diff(rul) <= 0)\n",
    "def correlation(rul, x, seuil): return spearmanr(rul, seuil - x)[0]\n",
    "\n",
    "metrics = pd.DataFrame({\n",
    "    \"Méthode\": [\"Wiener\", \"Gamma\"],\n",
    "    \"Moyenne RUL\": [w.mean(), g.mean()],\n",
    "    \"Écart-type\": [w.std(), g.std()],\n",
    "    \"Monotonicité\": [monotonicity(w), monotonicity(g)],\n",
    "    \"Corrélation au seuil\": [correlation(w, x, seuil), correlation(g, x, seuil)]\n",
    "})\n",
    "\n",
    "# === 9. Visualisations ===\n",
    "plt.figure(figsize=(12, 5))\n",
    "plt.plot(w, label=\"Wiener\")\n",
    "plt.plot(g, label=\"Gamma\", alpha=0.7)\n",
    "plt.title(f\"Comparaison RUL estimé - {capteur_test}\")\n",
    "plt.xlabel(\"Temps (échantillons)\")\n",
    "plt.ylabel(\"RUL\")\n",
    "plt.legend(); plt.grid(); plt.tight_layout()\n",
    "plt.show()\n",
    "\n",
    "plt.figure(figsize=(12, 4))\n",
    "sns.histplot(w, kde=True, label=\"Wiener\", color=\"blue\")\n",
    "sns.histplot(g, kde=True, label=\"Gamma\", color=\"orange\", alpha=0.6)\n",
    "plt.title(\"Distribution des RUL estimés\")\n",
    "plt.legend(); plt.tight_layout()\n",
    "plt.show()\n",
    "\n",
    "plt.figure(figsize=(6, 4))\n",
    "sns.boxplot(data=[w.dropna(), g.dropna()])\n",
    "plt.xticks([0, 1], [\"Wiener\", \"Gamma\"])\n",
    "plt.title(\"Boxplot des RUL\"); plt.grid(); plt.tight_layout()\n",
    "plt.show()\n",
    "\n",
    "# === 10. Affichage tableau métrique ===\n",
    "print(\"\\n📋 Comparaison des Méthodes RUL :\\n\")\n",
    "print(metrics.round(3))"
   ]
  }
 ],
 "metadata": {
  "kernelspec": {
   "display_name": "UM6P_env",
   "language": "python",
   "name": "python3"
  },
  "language_info": {
   "codemirror_mode": {
    "name": "ipython",
    "version": 3
   },
   "file_extension": ".py",
   "mimetype": "text/x-python",
   "name": "python",
   "nbconvert_exporter": "python",
   "pygments_lexer": "ipython3",
   "version": "3.13.2"
  }
 },
 "nbformat": 4,
 "nbformat_minor": 5
}
